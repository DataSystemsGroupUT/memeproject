{
  "nbformat": 4,
  "nbformat_minor": 0,
  "metadata": {
    "kernelspec": {
      "name": "python3613jvsc74a57bd09b4566009f8d8345c23605878ca4e84309ea635491962e4c7d56fb99d0889a74",
      "display_name": "Python 3.6.13 64-bit"
    },
    "language_info": {
      "codemirror_mode": {
        "name": "ipython",
        "version": 3
      },
      "file_extension": ".py",
      "mimetype": "text/x-python",
      "name": "python",
      "nbconvert_exporter": "python",
      "pygments_lexer": "ipython3",
      "version": "3.6.13"
    },
    "colab": {
      "name": "NewsDatasetProcess.ipynb",
      "provenance": [],
      "collapsed_sections": []
    }
  },
  "cells": [
    {
      "cell_type": "code",
      "metadata": {
        "id": "YKTbvVqNjoQG"
      },
      "source": [
        "import pandas as pd"
      ],
      "execution_count": 1,
      "outputs": []
    },
    {
      "cell_type": "code",
      "metadata": {
        "id": "C6ICVR6HjoQL"
      },
      "source": [
        "data = pd.read_csv(\"./datasets/blogtext.csv\")"
      ],
      "execution_count": 2,
      "outputs": []
    },
    {
      "cell_type": "code",
      "execution_count": 3,
      "metadata": {},
      "outputs": [
        {
          "output_type": "execute_result",
          "data": {
            "text/plain": [
              "             id  gender  age                    topic       sign  \\\n",
              "445677  3457177    male   25  LawEnforcement-Security  Capricorn   \n",
              "579606  1362051  female   16                  Tourism      Aries   \n",
              "358609  4098538    male   17                  Student     Pisces   \n",
              "297571   801916  female   23              Advertising     Taurus   \n",
              "391368  1818327    male   24                   indUnk      Aries   \n",
              "416351  3463698    male   24                Chemicals     Cancer   \n",
              "596127   322624  female   17               Non-Profit      Virgo   \n",
              "470022  3968220  female   26                  Student   Aquarius   \n",
              "448350  2909850    male   23                   indUnk  Capricorn   \n",
              "291238  2929974  female   36               Publishing        Leo   \n",
              "\n",
              "                  date                                               text  \n",
              "445677     26,May,2004                   Oh, it left like a wife who h...  \n",
              "579606  05,August,2004             ok brady i really need your help. i...  \n",
              "358609  16,August,2004         Howdy. Me again. The bathroom is nearly...  \n",
              "297571    19,July,2004                   Jenna's wedding is tomorrow a...  \n",
              "391368     21,May,2004                  Though I would start adding so...  \n",
              "416351     31,May,2004          His brothers shining door calculates. ...  \n",
              "596127    06,July,2004         I just taught Austin to Throw Ice Cubes...  \n",
              "470022  07,August,2004                   on monday, i went 2 c 5566! t...  \n",
              "448350    23,July,2004               PP pray for u, good mood everyday...  \n",
              "291238    15,July,2004     So, there's this guy. He's intelligent and ...  "
            ],
            "text/html": "<div>\n<style scoped>\n    .dataframe tbody tr th:only-of-type {\n        vertical-align: middle;\n    }\n\n    .dataframe tbody tr th {\n        vertical-align: top;\n    }\n\n    .dataframe thead th {\n        text-align: right;\n    }\n</style>\n<table border=\"1\" class=\"dataframe\">\n  <thead>\n    <tr style=\"text-align: right;\">\n      <th></th>\n      <th>id</th>\n      <th>gender</th>\n      <th>age</th>\n      <th>topic</th>\n      <th>sign</th>\n      <th>date</th>\n      <th>text</th>\n    </tr>\n  </thead>\n  <tbody>\n    <tr>\n      <th>445677</th>\n      <td>3457177</td>\n      <td>male</td>\n      <td>25</td>\n      <td>LawEnforcement-Security</td>\n      <td>Capricorn</td>\n      <td>26,May,2004</td>\n      <td>Oh, it left like a wife who h...</td>\n    </tr>\n    <tr>\n      <th>579606</th>\n      <td>1362051</td>\n      <td>female</td>\n      <td>16</td>\n      <td>Tourism</td>\n      <td>Aries</td>\n      <td>05,August,2004</td>\n      <td>ok brady i really need your help. i...</td>\n    </tr>\n    <tr>\n      <th>358609</th>\n      <td>4098538</td>\n      <td>male</td>\n      <td>17</td>\n      <td>Student</td>\n      <td>Pisces</td>\n      <td>16,August,2004</td>\n      <td>Howdy. Me again. The bathroom is nearly...</td>\n    </tr>\n    <tr>\n      <th>297571</th>\n      <td>801916</td>\n      <td>female</td>\n      <td>23</td>\n      <td>Advertising</td>\n      <td>Taurus</td>\n      <td>19,July,2004</td>\n      <td>Jenna's wedding is tomorrow a...</td>\n    </tr>\n    <tr>\n      <th>391368</th>\n      <td>1818327</td>\n      <td>male</td>\n      <td>24</td>\n      <td>indUnk</td>\n      <td>Aries</td>\n      <td>21,May,2004</td>\n      <td>Though I would start adding so...</td>\n    </tr>\n    <tr>\n      <th>416351</th>\n      <td>3463698</td>\n      <td>male</td>\n      <td>24</td>\n      <td>Chemicals</td>\n      <td>Cancer</td>\n      <td>31,May,2004</td>\n      <td>His brothers shining door calculates. ...</td>\n    </tr>\n    <tr>\n      <th>596127</th>\n      <td>322624</td>\n      <td>female</td>\n      <td>17</td>\n      <td>Non-Profit</td>\n      <td>Virgo</td>\n      <td>06,July,2004</td>\n      <td>I just taught Austin to Throw Ice Cubes...</td>\n    </tr>\n    <tr>\n      <th>470022</th>\n      <td>3968220</td>\n      <td>female</td>\n      <td>26</td>\n      <td>Student</td>\n      <td>Aquarius</td>\n      <td>07,August,2004</td>\n      <td>on monday, i went 2 c 5566! t...</td>\n    </tr>\n    <tr>\n      <th>448350</th>\n      <td>2909850</td>\n      <td>male</td>\n      <td>23</td>\n      <td>indUnk</td>\n      <td>Capricorn</td>\n      <td>23,July,2004</td>\n      <td>PP pray for u, good mood everyday...</td>\n    </tr>\n    <tr>\n      <th>291238</th>\n      <td>2929974</td>\n      <td>female</td>\n      <td>36</td>\n      <td>Publishing</td>\n      <td>Leo</td>\n      <td>15,July,2004</td>\n      <td>So, there's this guy. He's intelligent and ...</td>\n    </tr>\n  </tbody>\n</table>\n</div>"
          },
          "metadata": {},
          "execution_count": 3
        }
      ],
      "source": [
        "data.sample(10)"
      ]
    },
    {
      "cell_type": "code",
      "metadata": {
        "id": "8EYAlHp7joQX"
      },
      "source": [
        "print(len(data))"
      ],
      "execution_count": 4,
      "outputs": [
        {
          "output_type": "stream",
          "name": "stdout",
          "text": [
            "681284\n"
          ]
        }
      ]
    },
    {
      "cell_type": "code",
      "metadata": {
        "id": "gRlx1bRXjoQb",
        "outputId": "8a8e97ce-78b0-4e35-cb0c-cc3c14dd91a5",
        "colab": {
          "base_uri": "https://localhost:8080/",
          "height": 231
        }
      },
      "source": [
        "avg=0.0\n",
        "for each in data[\"text\"]:\n",
        "    avg+=len(each)\n",
        "\n",
        "print(avg/(len(data)))"
      ],
      "execution_count": 5,
      "outputs": [
        {
          "output_type": "stream",
          "name": "stdout",
          "text": [
            "1120.7306982110251\n"
          ]
        }
      ]
    },
    {
      "cell_type": "code",
      "metadata": {
        "id": "SX57T3XMj1gi"
      },
      "source": [
        "text =\"the use of words usually used to either mock/annoy someone, or simply for humorous purposes. Sarcasm may employ ambivalence, although sarcasm is not necessarily ironic. Most noticeable in spoken word, sarcasm is mainly distinguished by the inflection with which it is spoken and is largely context-dependent.\""
      ],
      "execution_count": 6,
      "outputs": []
    },
    {
      "cell_type": "code",
      "metadata": {
        "id": "xEu4KNUsxZt0"
      },
      "source": [
        "text = \"I am sad and cyring\""
      ],
      "execution_count": 7,
      "outputs": []
    },
    {
      "cell_type": "code",
      "execution_count": 10,
      "metadata": {},
      "outputs": [],
      "source": [
        "from tools import textprocess\n",
        "from tools import meme_dataset_process\n",
        "import pandas as pd \n"
      ]
    },
    {
      "cell_type": "code",
      "execution_count": 11,
      "metadata": {},
      "outputs": [
        {
          "output_type": "error",
          "ename": "KeyboardInterrupt",
          "evalue": "",
          "traceback": [
            "\u001b[0;31m---------------------------------------------------------------------------\u001b[0m",
            "\u001b[0;31mKeyboardInterrupt\u001b[0m                         Traceback (most recent call last)",
            "\u001b[0;32m<ipython-input-11-4ab1ed9d5b38>\u001b[0m in \u001b[0;36m<module>\u001b[0;34m()\u001b[0m\n\u001b[1;32m      1\u001b[0m \u001b[0mprocessor\u001b[0m \u001b[0;34m=\u001b[0m \u001b[0mmeme_dataset_process\u001b[0m\u001b[0;34m.\u001b[0m\u001b[0mMemeDatasetProcess\u001b[0m\u001b[0;34m(\u001b[0m\u001b[0;34m\"datasets/Dataset Knowledge Graph.xlsx\"\u001b[0m\u001b[0;34m)\u001b[0m\u001b[0;34m\u001b[0m\u001b[0;34m\u001b[0m\u001b[0m\n\u001b[0;32m----> 2\u001b[0;31m \u001b[0mprocessor\u001b[0m\u001b[0;34m.\u001b[0m\u001b[0mprocessor_memes\u001b[0m\u001b[0;34m(\u001b[0m\u001b[0;34m)\u001b[0m\u001b[0;34m\u001b[0m\u001b[0;34m\u001b[0m\u001b[0m\n\u001b[0m",
            "\u001b[0;32m/home/mohamed/AI/memeproject/tools/meme_dataset_process.py\u001b[0m in \u001b[0;36mprocessor_memes\u001b[0;34m(self, text, criteria)\u001b[0m\n\u001b[1;32m     33\u001b[0m \u001b[0;34m\u001b[0m\u001b[0m\n\u001b[1;32m     34\u001b[0m             \u001b[0;32mif\u001b[0m \u001b[0;34m\"emb\"\u001b[0m \u001b[0;32min\u001b[0m \u001b[0mcriteria\u001b[0m\u001b[0;34m:\u001b[0m\u001b[0;34m\u001b[0m\u001b[0;34m\u001b[0m\u001b[0m\n\u001b[0;32m---> 35\u001b[0;31m                 \u001b[0mprocessed_meme\u001b[0m\u001b[0;34m.\u001b[0m\u001b[0mget_all_emb\u001b[0m\u001b[0;34m(\u001b[0m\u001b[0;34m)\u001b[0m\u001b[0;34m\u001b[0m\u001b[0;34m\u001b[0m\u001b[0m\n\u001b[0m\u001b[1;32m     36\u001b[0m                 \u001b[0mprocessed_meme\u001b[0m\u001b[0;34m.\u001b[0m\u001b[0mget_one_emb\u001b[0m\u001b[0;34m(\u001b[0m\u001b[0;34m)\u001b[0m\u001b[0;34m\u001b[0m\u001b[0;34m\u001b[0m\u001b[0m\n\u001b[1;32m     37\u001b[0m \u001b[0;34m\u001b[0m\u001b[0m\n",
            "\u001b[0;32m/home/mohamed/AI/memeproject/tools/textprocess.py\u001b[0m in \u001b[0;36mget_all_emb\u001b[0;34m(self)\u001b[0m\n\u001b[1;32m    141\u001b[0m     \u001b[0;32mdef\u001b[0m \u001b[0mget_all_emb\u001b[0m\u001b[0;34m(\u001b[0m\u001b[0mself\u001b[0m\u001b[0;34m)\u001b[0m\u001b[0;34m:\u001b[0m\u001b[0;34m\u001b[0m\u001b[0;34m\u001b[0m\u001b[0m\n\u001b[1;32m    142\u001b[0m         \u001b[0mself\u001b[0m\u001b[0;34m.\u001b[0m\u001b[0mget_entities\u001b[0m\u001b[0;34m(\u001b[0m\u001b[0;34m)\u001b[0m\u001b[0;34m\u001b[0m\u001b[0;34m\u001b[0m\u001b[0m\n\u001b[0;32m--> 143\u001b[0;31m         \u001b[0mself\u001b[0m\u001b[0;34m.\u001b[0m\u001b[0mget_keyphrases\u001b[0m\u001b[0;34m(\u001b[0m\u001b[0;34m)\u001b[0m\u001b[0;34m\u001b[0m\u001b[0;34m\u001b[0m\u001b[0m\n\u001b[0m\u001b[1;32m    144\u001b[0m         \u001b[0mself\u001b[0m\u001b[0;34m.\u001b[0m\u001b[0mget_chunks\u001b[0m\u001b[0;34m(\u001b[0m\u001b[0;34m)\u001b[0m\u001b[0;34m\u001b[0m\u001b[0;34m\u001b[0m\u001b[0m\n\u001b[1;32m    145\u001b[0m         self.chunks_emb = self.model.encode(\n",
            "\u001b[0;32m/home/mohamed/AI/memeproject/tools/textprocess.py\u001b[0m in \u001b[0;36mget_keyphrases\u001b[0;34m(self, thershold)\u001b[0m\n\u001b[1;32m     50\u001b[0m                           \u001b[0mpke\u001b[0m\u001b[0;34m.\u001b[0m\u001b[0munsupervised\u001b[0m\u001b[0;34m.\u001b[0m\u001b[0mYAKE\u001b[0m\u001b[0;34m(\u001b[0m\u001b[0;34m)\u001b[0m\u001b[0;34m,\u001b[0m\u001b[0;34m\u001b[0m\u001b[0;34m\u001b[0m\u001b[0m\n\u001b[1;32m     51\u001b[0m                           pke.unsupervised.PositionRank()]:\n\u001b[0;32m---> 52\u001b[0;31m             \u001b[0mextractor\u001b[0m\u001b[0;34m.\u001b[0m\u001b[0mload_document\u001b[0m\u001b[0;34m(\u001b[0m\u001b[0minput\u001b[0m\u001b[0;34m=\u001b[0m\u001b[0mself\u001b[0m\u001b[0;34m.\u001b[0m\u001b[0mtext_file\u001b[0m\u001b[0;34m,\u001b[0m \u001b[0mlanguage\u001b[0m\u001b[0;34m=\u001b[0m\u001b[0;34m'en'\u001b[0m\u001b[0;34m)\u001b[0m\u001b[0;34m\u001b[0m\u001b[0;34m\u001b[0m\u001b[0m\n\u001b[0m\u001b[1;32m     53\u001b[0m             \u001b[0mextractor\u001b[0m\u001b[0;34m.\u001b[0m\u001b[0mcandidate_selection\u001b[0m\u001b[0;34m(\u001b[0m\u001b[0;34m)\u001b[0m\u001b[0;34m\u001b[0m\u001b[0;34m\u001b[0m\u001b[0m\n\u001b[1;32m     54\u001b[0m             \u001b[0mextractor\u001b[0m\u001b[0;34m.\u001b[0m\u001b[0mcandidate_weighting\u001b[0m\u001b[0;34m(\u001b[0m\u001b[0;34m)\u001b[0m\u001b[0;34m\u001b[0m\u001b[0;34m\u001b[0m\u001b[0m\n",
            "\u001b[0;32m/home/mohamed/anaconda3/envs/memeproject/lib/python3.6/site-packages/pke/base.py\u001b[0m in \u001b[0;36mload_document\u001b[0;34m(self, input, **kwargs)\u001b[0m\n\u001b[1;32m    166\u001b[0m                 \u001b[0minput\u001b[0m \u001b[0;34m=\u001b[0m \u001b[0mf\u001b[0m\u001b[0;34m.\u001b[0m\u001b[0mread\u001b[0m\u001b[0;34m(\u001b[0m\u001b[0;34m)\u001b[0m\u001b[0;34m\u001b[0m\u001b[0;34m\u001b[0m\u001b[0m\n\u001b[1;32m    167\u001b[0m             \u001b[0mparser\u001b[0m \u001b[0;34m=\u001b[0m \u001b[0mRawTextReader\u001b[0m\u001b[0;34m(\u001b[0m\u001b[0mlanguage\u001b[0m\u001b[0;34m=\u001b[0m\u001b[0mlanguage\u001b[0m\u001b[0;34m)\u001b[0m\u001b[0;34m\u001b[0m\u001b[0;34m\u001b[0m\u001b[0m\n\u001b[0;32m--> 168\u001b[0;31m             \u001b[0mdoc\u001b[0m \u001b[0;34m=\u001b[0m \u001b[0mparser\u001b[0m\u001b[0;34m.\u001b[0m\u001b[0mread\u001b[0m\u001b[0;34m(\u001b[0m\u001b[0mtext\u001b[0m\u001b[0;34m=\u001b[0m\u001b[0minput\u001b[0m\u001b[0;34m,\u001b[0m \u001b[0mpath\u001b[0m\u001b[0;34m=\u001b[0m\u001b[0mpath\u001b[0m\u001b[0;34m,\u001b[0m \u001b[0;34m**\u001b[0m\u001b[0mkwargs\u001b[0m\u001b[0;34m)\u001b[0m\u001b[0;34m\u001b[0m\u001b[0;34m\u001b[0m\u001b[0m\n\u001b[0m\u001b[1;32m    169\u001b[0m         \u001b[0;32melif\u001b[0m \u001b[0misinstance\u001b[0m\u001b[0;34m(\u001b[0m\u001b[0minput\u001b[0m\u001b[0;34m,\u001b[0m \u001b[0mstr\u001b[0m\u001b[0;34m)\u001b[0m\u001b[0;34m:\u001b[0m\u001b[0;34m\u001b[0m\u001b[0;34m\u001b[0m\u001b[0m\n\u001b[1;32m    170\u001b[0m             \u001b[0mparser\u001b[0m \u001b[0;34m=\u001b[0m \u001b[0mRawTextReader\u001b[0m\u001b[0;34m(\u001b[0m\u001b[0mlanguage\u001b[0m\u001b[0;34m=\u001b[0m\u001b[0mlanguage\u001b[0m\u001b[0;34m)\u001b[0m\u001b[0;34m\u001b[0m\u001b[0;34m\u001b[0m\u001b[0m\n",
            "\u001b[0;32m/home/mohamed/anaconda3/envs/memeproject/lib/python3.6/site-packages/pke/readers.py\u001b[0m in \u001b[0;36mread\u001b[0;34m(self, text, **kwargs)\u001b[0m\n\u001b[1;32m    171\u001b[0m \u001b[0;34m\u001b[0m\u001b[0m\n\u001b[1;32m    172\u001b[0m             \u001b[0;32mtry\u001b[0m\u001b[0;34m:\u001b[0m\u001b[0;34m\u001b[0m\u001b[0;34m\u001b[0m\u001b[0m\n\u001b[0;32m--> 173\u001b[0;31m                 \u001b[0mspacy_model\u001b[0m \u001b[0;34m=\u001b[0m \u001b[0mspacy\u001b[0m\u001b[0;34m.\u001b[0m\u001b[0mload\u001b[0m\u001b[0;34m(\u001b[0m\u001b[0mstr2spacy\u001b[0m\u001b[0;34m(\u001b[0m\u001b[0mself\u001b[0m\u001b[0;34m.\u001b[0m\u001b[0mlanguage\u001b[0m\u001b[0;34m)\u001b[0m\u001b[0;34m,\u001b[0m \u001b[0;34m**\u001b[0m\u001b[0mspacy_kwargs\u001b[0m\u001b[0;34m)\u001b[0m\u001b[0;34m\u001b[0m\u001b[0;34m\u001b[0m\u001b[0m\n\u001b[0m\u001b[1;32m    174\u001b[0m             \u001b[0;32mexcept\u001b[0m \u001b[0mOSError\u001b[0m\u001b[0;34m:\u001b[0m\u001b[0;34m\u001b[0m\u001b[0;34m\u001b[0m\u001b[0m\n\u001b[1;32m    175\u001b[0m                 \u001b[0mlogging\u001b[0m\u001b[0;34m.\u001b[0m\u001b[0mwarning\u001b[0m\u001b[0;34m(\u001b[0m\u001b[0;34m'No spacy model for \\'{}\\' language.'\u001b[0m\u001b[0;34m.\u001b[0m\u001b[0mformat\u001b[0m\u001b[0;34m(\u001b[0m\u001b[0mself\u001b[0m\u001b[0;34m.\u001b[0m\u001b[0mlanguage\u001b[0m\u001b[0;34m)\u001b[0m\u001b[0;34m)\u001b[0m\u001b[0;34m\u001b[0m\u001b[0;34m\u001b[0m\u001b[0m\n",
            "\u001b[0;32m/home/mohamed/anaconda3/envs/memeproject/lib/python3.6/site-packages/spacy/__init__.py\u001b[0m in \u001b[0;36mload\u001b[0;34m(name, disable, exclude, config)\u001b[0m\n\u001b[1;32m     45\u001b[0m     \u001b[0mRETURNS\u001b[0m \u001b[0;34m(\u001b[0m\u001b[0mLanguage\u001b[0m\u001b[0;34m)\u001b[0m\u001b[0;34m:\u001b[0m \u001b[0mThe\u001b[0m \u001b[0mloaded\u001b[0m \u001b[0mnlp\u001b[0m \u001b[0mobject\u001b[0m\u001b[0;34m.\u001b[0m\u001b[0;34m\u001b[0m\u001b[0;34m\u001b[0m\u001b[0m\n\u001b[1;32m     46\u001b[0m     \"\"\"\n\u001b[0;32m---> 47\u001b[0;31m     \u001b[0;32mreturn\u001b[0m \u001b[0mutil\u001b[0m\u001b[0;34m.\u001b[0m\u001b[0mload_model\u001b[0m\u001b[0;34m(\u001b[0m\u001b[0mname\u001b[0m\u001b[0;34m,\u001b[0m \u001b[0mdisable\u001b[0m\u001b[0;34m=\u001b[0m\u001b[0mdisable\u001b[0m\u001b[0;34m,\u001b[0m \u001b[0mexclude\u001b[0m\u001b[0;34m=\u001b[0m\u001b[0mexclude\u001b[0m\u001b[0;34m,\u001b[0m \u001b[0mconfig\u001b[0m\u001b[0;34m=\u001b[0m\u001b[0mconfig\u001b[0m\u001b[0;34m)\u001b[0m\u001b[0;34m\u001b[0m\u001b[0;34m\u001b[0m\u001b[0m\n\u001b[0m\u001b[1;32m     48\u001b[0m \u001b[0;34m\u001b[0m\u001b[0m\n\u001b[1;32m     49\u001b[0m \u001b[0;34m\u001b[0m\u001b[0m\n",
            "\u001b[0;32m/home/mohamed/anaconda3/envs/memeproject/lib/python3.6/site-packages/spacy/util.py\u001b[0m in \u001b[0;36mload_model\u001b[0;34m(name, vocab, disable, exclude, config)\u001b[0m\n\u001b[1;32m    320\u001b[0m             \u001b[0;32mreturn\u001b[0m \u001b[0mget_lang_class\u001b[0m\u001b[0;34m(\u001b[0m\u001b[0mname\u001b[0m\u001b[0;34m.\u001b[0m\u001b[0mreplace\u001b[0m\u001b[0;34m(\u001b[0m\u001b[0;34m\"blank:\"\u001b[0m\u001b[0;34m,\u001b[0m \u001b[0;34m\"\"\u001b[0m\u001b[0;34m)\u001b[0m\u001b[0;34m)\u001b[0m\u001b[0;34m(\u001b[0m\u001b[0;34m)\u001b[0m\u001b[0;34m\u001b[0m\u001b[0;34m\u001b[0m\u001b[0m\n\u001b[1;32m    321\u001b[0m         \u001b[0;32mif\u001b[0m \u001b[0mis_package\u001b[0m\u001b[0;34m(\u001b[0m\u001b[0mname\u001b[0m\u001b[0;34m)\u001b[0m\u001b[0;34m:\u001b[0m  \u001b[0;31m# installed as package\u001b[0m\u001b[0;34m\u001b[0m\u001b[0;34m\u001b[0m\u001b[0m\n\u001b[0;32m--> 322\u001b[0;31m             \u001b[0;32mreturn\u001b[0m \u001b[0mload_model_from_package\u001b[0m\u001b[0;34m(\u001b[0m\u001b[0mname\u001b[0m\u001b[0;34m,\u001b[0m \u001b[0;34m**\u001b[0m\u001b[0mkwargs\u001b[0m\u001b[0;34m)\u001b[0m\u001b[0;34m\u001b[0m\u001b[0;34m\u001b[0m\u001b[0m\n\u001b[0m\u001b[1;32m    323\u001b[0m         \u001b[0;32mif\u001b[0m \u001b[0mPath\u001b[0m\u001b[0;34m(\u001b[0m\u001b[0mname\u001b[0m\u001b[0;34m)\u001b[0m\u001b[0;34m.\u001b[0m\u001b[0mexists\u001b[0m\u001b[0;34m(\u001b[0m\u001b[0;34m)\u001b[0m\u001b[0;34m:\u001b[0m  \u001b[0;31m# path to model data directory\u001b[0m\u001b[0;34m\u001b[0m\u001b[0;34m\u001b[0m\u001b[0m\n\u001b[1;32m    324\u001b[0m             \u001b[0;32mreturn\u001b[0m \u001b[0mload_model_from_path\u001b[0m\u001b[0;34m(\u001b[0m\u001b[0mPath\u001b[0m\u001b[0;34m(\u001b[0m\u001b[0mname\u001b[0m\u001b[0;34m)\u001b[0m\u001b[0;34m,\u001b[0m \u001b[0;34m**\u001b[0m\u001b[0mkwargs\u001b[0m\u001b[0;34m)\u001b[0m\u001b[0;34m\u001b[0m\u001b[0;34m\u001b[0m\u001b[0m\n",
            "\u001b[0;32m/home/mohamed/anaconda3/envs/memeproject/lib/python3.6/site-packages/spacy/util.py\u001b[0m in \u001b[0;36mload_model_from_package\u001b[0;34m(name, vocab, disable, exclude, config)\u001b[0m\n\u001b[1;32m    353\u001b[0m     \"\"\"\n\u001b[1;32m    354\u001b[0m     \u001b[0mcls\u001b[0m \u001b[0;34m=\u001b[0m \u001b[0mimportlib\u001b[0m\u001b[0;34m.\u001b[0m\u001b[0mimport_module\u001b[0m\u001b[0;34m(\u001b[0m\u001b[0mname\u001b[0m\u001b[0;34m)\u001b[0m\u001b[0;34m\u001b[0m\u001b[0;34m\u001b[0m\u001b[0m\n\u001b[0;32m--> 355\u001b[0;31m     \u001b[0;32mreturn\u001b[0m \u001b[0mcls\u001b[0m\u001b[0;34m.\u001b[0m\u001b[0mload\u001b[0m\u001b[0;34m(\u001b[0m\u001b[0mvocab\u001b[0m\u001b[0;34m=\u001b[0m\u001b[0mvocab\u001b[0m\u001b[0;34m,\u001b[0m \u001b[0mdisable\u001b[0m\u001b[0;34m=\u001b[0m\u001b[0mdisable\u001b[0m\u001b[0;34m,\u001b[0m \u001b[0mexclude\u001b[0m\u001b[0;34m=\u001b[0m\u001b[0mexclude\u001b[0m\u001b[0;34m,\u001b[0m \u001b[0mconfig\u001b[0m\u001b[0;34m=\u001b[0m\u001b[0mconfig\u001b[0m\u001b[0;34m)\u001b[0m\u001b[0;34m\u001b[0m\u001b[0;34m\u001b[0m\u001b[0m\n\u001b[0m\u001b[1;32m    356\u001b[0m \u001b[0;34m\u001b[0m\u001b[0m\n\u001b[1;32m    357\u001b[0m \u001b[0;34m\u001b[0m\u001b[0m\n",
            "\u001b[0;32m/home/mohamed/anaconda3/envs/memeproject/lib/python3.6/site-packages/en_core_web_sm/__init__.py\u001b[0m in \u001b[0;36mload\u001b[0;34m(**overrides)\u001b[0m\n\u001b[1;32m      8\u001b[0m \u001b[0;34m\u001b[0m\u001b[0m\n\u001b[1;32m      9\u001b[0m \u001b[0;32mdef\u001b[0m \u001b[0mload\u001b[0m\u001b[0;34m(\u001b[0m\u001b[0;34m**\u001b[0m\u001b[0moverrides\u001b[0m\u001b[0;34m)\u001b[0m\u001b[0;34m:\u001b[0m\u001b[0;34m\u001b[0m\u001b[0;34m\u001b[0m\u001b[0m\n\u001b[0;32m---> 10\u001b[0;31m     \u001b[0;32mreturn\u001b[0m \u001b[0mload_model_from_init_py\u001b[0m\u001b[0;34m(\u001b[0m\u001b[0m__file__\u001b[0m\u001b[0;34m,\u001b[0m \u001b[0;34m**\u001b[0m\u001b[0moverrides\u001b[0m\u001b[0;34m)\u001b[0m\u001b[0;34m\u001b[0m\u001b[0;34m\u001b[0m\u001b[0m\n\u001b[0m",
            "\u001b[0;32m/home/mohamed/anaconda3/envs/memeproject/lib/python3.6/site-packages/spacy/util.py\u001b[0m in \u001b[0;36mload_model_from_init_py\u001b[0;34m(init_file, vocab, disable, exclude, config)\u001b[0m\n\u001b[1;32m    518\u001b[0m         \u001b[0mdisable\u001b[0m\u001b[0;34m=\u001b[0m\u001b[0mdisable\u001b[0m\u001b[0;34m,\u001b[0m\u001b[0;34m\u001b[0m\u001b[0;34m\u001b[0m\u001b[0m\n\u001b[1;32m    519\u001b[0m         \u001b[0mexclude\u001b[0m\u001b[0;34m=\u001b[0m\u001b[0mexclude\u001b[0m\u001b[0;34m,\u001b[0m\u001b[0;34m\u001b[0m\u001b[0;34m\u001b[0m\u001b[0m\n\u001b[0;32m--> 520\u001b[0;31m         \u001b[0mconfig\u001b[0m\u001b[0;34m=\u001b[0m\u001b[0mconfig\u001b[0m\u001b[0;34m,\u001b[0m\u001b[0;34m\u001b[0m\u001b[0;34m\u001b[0m\u001b[0m\n\u001b[0m\u001b[1;32m    521\u001b[0m     )\n\u001b[1;32m    522\u001b[0m \u001b[0;34m\u001b[0m\u001b[0m\n",
            "\u001b[0;32m/home/mohamed/anaconda3/envs/memeproject/lib/python3.6/site-packages/spacy/util.py\u001b[0m in \u001b[0;36mload_model_from_path\u001b[0;34m(model_path, meta, vocab, disable, exclude, config)\u001b[0m\n\u001b[1;32m    388\u001b[0m     \u001b[0mconfig\u001b[0m \u001b[0;34m=\u001b[0m \u001b[0mload_config\u001b[0m\u001b[0;34m(\u001b[0m\u001b[0mconfig_path\u001b[0m\u001b[0;34m,\u001b[0m \u001b[0moverrides\u001b[0m\u001b[0;34m=\u001b[0m\u001b[0mdict_to_dot\u001b[0m\u001b[0;34m(\u001b[0m\u001b[0mconfig\u001b[0m\u001b[0;34m)\u001b[0m\u001b[0;34m)\u001b[0m\u001b[0;34m\u001b[0m\u001b[0;34m\u001b[0m\u001b[0m\n\u001b[1;32m    389\u001b[0m     \u001b[0mnlp\u001b[0m \u001b[0;34m=\u001b[0m \u001b[0mload_model_from_config\u001b[0m\u001b[0;34m(\u001b[0m\u001b[0mconfig\u001b[0m\u001b[0;34m,\u001b[0m \u001b[0mvocab\u001b[0m\u001b[0;34m=\u001b[0m\u001b[0mvocab\u001b[0m\u001b[0;34m,\u001b[0m \u001b[0mdisable\u001b[0m\u001b[0;34m=\u001b[0m\u001b[0mdisable\u001b[0m\u001b[0;34m,\u001b[0m \u001b[0mexclude\u001b[0m\u001b[0;34m=\u001b[0m\u001b[0mexclude\u001b[0m\u001b[0;34m)\u001b[0m\u001b[0;34m\u001b[0m\u001b[0;34m\u001b[0m\u001b[0m\n\u001b[0;32m--> 390\u001b[0;31m     \u001b[0;32mreturn\u001b[0m \u001b[0mnlp\u001b[0m\u001b[0;34m.\u001b[0m\u001b[0mfrom_disk\u001b[0m\u001b[0;34m(\u001b[0m\u001b[0mmodel_path\u001b[0m\u001b[0;34m,\u001b[0m \u001b[0mexclude\u001b[0m\u001b[0;34m=\u001b[0m\u001b[0mexclude\u001b[0m\u001b[0;34m)\u001b[0m\u001b[0;34m\u001b[0m\u001b[0;34m\u001b[0m\u001b[0m\n\u001b[0m\u001b[1;32m    391\u001b[0m \u001b[0;34m\u001b[0m\u001b[0m\n\u001b[1;32m    392\u001b[0m \u001b[0;34m\u001b[0m\u001b[0m\n",
            "\u001b[0;32m/home/mohamed/anaconda3/envs/memeproject/lib/python3.6/site-packages/spacy/language.py\u001b[0m in \u001b[0;36mfrom_disk\u001b[0;34m(self, path, exclude)\u001b[0m\n\u001b[1;32m   1861\u001b[0m             \u001b[0;31m# Convert to list here in case exclude is (default) tuple\u001b[0m\u001b[0;34m\u001b[0m\u001b[0;34m\u001b[0m\u001b[0;34m\u001b[0m\u001b[0m\n\u001b[1;32m   1862\u001b[0m             \u001b[0mexclude\u001b[0m \u001b[0;34m=\u001b[0m \u001b[0mlist\u001b[0m\u001b[0;34m(\u001b[0m\u001b[0mexclude\u001b[0m\u001b[0;34m)\u001b[0m \u001b[0;34m+\u001b[0m \u001b[0;34m[\u001b[0m\u001b[0;34m\"vocab\"\u001b[0m\u001b[0;34m]\u001b[0m\u001b[0;34m\u001b[0m\u001b[0;34m\u001b[0m\u001b[0m\n\u001b[0;32m-> 1863\u001b[0;31m         \u001b[0mutil\u001b[0m\u001b[0;34m.\u001b[0m\u001b[0mfrom_disk\u001b[0m\u001b[0;34m(\u001b[0m\u001b[0mpath\u001b[0m\u001b[0;34m,\u001b[0m \u001b[0mdeserializers\u001b[0m\u001b[0;34m,\u001b[0m \u001b[0mexclude\u001b[0m\u001b[0;34m)\u001b[0m\u001b[0;34m\u001b[0m\u001b[0;34m\u001b[0m\u001b[0m\n\u001b[0m\u001b[1;32m   1864\u001b[0m         \u001b[0mself\u001b[0m\u001b[0;34m.\u001b[0m\u001b[0m_path\u001b[0m \u001b[0;34m=\u001b[0m \u001b[0mpath\u001b[0m\u001b[0;34m\u001b[0m\u001b[0;34m\u001b[0m\u001b[0m\n\u001b[1;32m   1865\u001b[0m         \u001b[0mself\u001b[0m\u001b[0;34m.\u001b[0m\u001b[0m_link_components\u001b[0m\u001b[0;34m(\u001b[0m\u001b[0;34m)\u001b[0m\u001b[0;34m\u001b[0m\u001b[0;34m\u001b[0m\u001b[0m\n",
            "\u001b[0;32m/home/mohamed/anaconda3/envs/memeproject/lib/python3.6/site-packages/spacy/util.py\u001b[0m in \u001b[0;36mfrom_disk\u001b[0;34m(path, readers, exclude)\u001b[0m\n\u001b[1;32m   1172\u001b[0m         \u001b[0;31m# Split to support file names like meta.json\u001b[0m\u001b[0;34m\u001b[0m\u001b[0;34m\u001b[0m\u001b[0;34m\u001b[0m\u001b[0m\n\u001b[1;32m   1173\u001b[0m         \u001b[0;32mif\u001b[0m \u001b[0mkey\u001b[0m\u001b[0;34m.\u001b[0m\u001b[0msplit\u001b[0m\u001b[0;34m(\u001b[0m\u001b[0;34m\".\"\u001b[0m\u001b[0;34m)\u001b[0m\u001b[0;34m[\u001b[0m\u001b[0;36m0\u001b[0m\u001b[0;34m]\u001b[0m \u001b[0;32mnot\u001b[0m \u001b[0;32min\u001b[0m \u001b[0mexclude\u001b[0m\u001b[0;34m:\u001b[0m\u001b[0;34m\u001b[0m\u001b[0;34m\u001b[0m\u001b[0m\n\u001b[0;32m-> 1174\u001b[0;31m             \u001b[0mreader\u001b[0m\u001b[0;34m(\u001b[0m\u001b[0mpath\u001b[0m \u001b[0;34m/\u001b[0m \u001b[0mkey\u001b[0m\u001b[0;34m)\u001b[0m\u001b[0;34m\u001b[0m\u001b[0;34m\u001b[0m\u001b[0m\n\u001b[0m\u001b[1;32m   1175\u001b[0m     \u001b[0;32mreturn\u001b[0m \u001b[0mpath\u001b[0m\u001b[0;34m\u001b[0m\u001b[0;34m\u001b[0m\u001b[0m\n\u001b[1;32m   1176\u001b[0m \u001b[0;34m\u001b[0m\u001b[0m\n",
            "\u001b[0;32m/home/mohamed/anaconda3/envs/memeproject/lib/python3.6/site-packages/spacy/language.py\u001b[0m in \u001b[0;36m<lambda>\u001b[0;34m(p, proc)\u001b[0m\n\u001b[1;32m   1856\u001b[0m                 \u001b[0;32mcontinue\u001b[0m\u001b[0;34m\u001b[0m\u001b[0;34m\u001b[0m\u001b[0m\n\u001b[1;32m   1857\u001b[0m             deserializers[name] = lambda p, proc=proc: proc.from_disk(\n\u001b[0;32m-> 1858\u001b[0;31m                 \u001b[0mp\u001b[0m\u001b[0;34m,\u001b[0m \u001b[0mexclude\u001b[0m\u001b[0;34m=\u001b[0m\u001b[0;34m[\u001b[0m\u001b[0;34m\"vocab\"\u001b[0m\u001b[0;34m]\u001b[0m\u001b[0;34m\u001b[0m\u001b[0;34m\u001b[0m\u001b[0m\n\u001b[0m\u001b[1;32m   1859\u001b[0m             )\n\u001b[1;32m   1860\u001b[0m         \u001b[0;32mif\u001b[0m \u001b[0;32mnot\u001b[0m \u001b[0;34m(\u001b[0m\u001b[0mpath\u001b[0m \u001b[0;34m/\u001b[0m \u001b[0;34m\"vocab\"\u001b[0m\u001b[0;34m)\u001b[0m\u001b[0;34m.\u001b[0m\u001b[0mexists\u001b[0m\u001b[0;34m(\u001b[0m\u001b[0;34m)\u001b[0m \u001b[0;32mand\u001b[0m \u001b[0;34m\"vocab\"\u001b[0m \u001b[0;32mnot\u001b[0m \u001b[0;32min\u001b[0m \u001b[0mexclude\u001b[0m\u001b[0;34m:\u001b[0m\u001b[0;34m\u001b[0m\u001b[0;34m\u001b[0m\u001b[0m\n",
            "\u001b[0;32m/home/mohamed/anaconda3/envs/memeproject/lib/python3.6/site-packages/spacy/pipeline/trainable_pipe.pyx\u001b[0m in \u001b[0;36mspacy.pipeline.trainable_pipe.TrainablePipe.from_disk\u001b[0;34m()\u001b[0m\n",
            "\u001b[0;32m/home/mohamed/anaconda3/envs/memeproject/lib/python3.6/site-packages/spacy/util.py\u001b[0m in \u001b[0;36mfrom_disk\u001b[0;34m(path, readers, exclude)\u001b[0m\n\u001b[1;32m   1172\u001b[0m         \u001b[0;31m# Split to support file names like meta.json\u001b[0m\u001b[0;34m\u001b[0m\u001b[0;34m\u001b[0m\u001b[0;34m\u001b[0m\u001b[0m\n\u001b[1;32m   1173\u001b[0m         \u001b[0;32mif\u001b[0m \u001b[0mkey\u001b[0m\u001b[0;34m.\u001b[0m\u001b[0msplit\u001b[0m\u001b[0;34m(\u001b[0m\u001b[0;34m\".\"\u001b[0m\u001b[0;34m)\u001b[0m\u001b[0;34m[\u001b[0m\u001b[0;36m0\u001b[0m\u001b[0;34m]\u001b[0m \u001b[0;32mnot\u001b[0m \u001b[0;32min\u001b[0m \u001b[0mexclude\u001b[0m\u001b[0;34m:\u001b[0m\u001b[0;34m\u001b[0m\u001b[0;34m\u001b[0m\u001b[0m\n\u001b[0;32m-> 1174\u001b[0;31m             \u001b[0mreader\u001b[0m\u001b[0;34m(\u001b[0m\u001b[0mpath\u001b[0m \u001b[0;34m/\u001b[0m \u001b[0mkey\u001b[0m\u001b[0;34m)\u001b[0m\u001b[0;34m\u001b[0m\u001b[0;34m\u001b[0m\u001b[0m\n\u001b[0m\u001b[1;32m   1175\u001b[0m     \u001b[0;32mreturn\u001b[0m \u001b[0mpath\u001b[0m\u001b[0;34m\u001b[0m\u001b[0;34m\u001b[0m\u001b[0m\n\u001b[1;32m   1176\u001b[0m \u001b[0;34m\u001b[0m\u001b[0m\n",
            "\u001b[0;32m/home/mohamed/anaconda3/envs/memeproject/lib/python3.6/site-packages/spacy/pipeline/trainable_pipe.pyx\u001b[0m in \u001b[0;36mspacy.pipeline.trainable_pipe.TrainablePipe.from_disk.load_model\u001b[0;34m()\u001b[0m\n",
            "\u001b[0;32m/home/mohamed/anaconda3/envs/memeproject/lib/python3.6/site-packages/thinc/model.py\u001b[0m in \u001b[0;36mfrom_bytes\u001b[0;34m(self, bytes_data)\u001b[0m\n\u001b[1;32m    524\u001b[0m         \u001b[0mmsg\u001b[0m \u001b[0;34m=\u001b[0m \u001b[0msrsly\u001b[0m\u001b[0;34m.\u001b[0m\u001b[0mmsgpack_loads\u001b[0m\u001b[0;34m(\u001b[0m\u001b[0mbytes_data\u001b[0m\u001b[0;34m)\u001b[0m\u001b[0;34m\u001b[0m\u001b[0;34m\u001b[0m\u001b[0m\n\u001b[1;32m    525\u001b[0m         \u001b[0mmsg\u001b[0m \u001b[0;34m=\u001b[0m \u001b[0mconvert_recursive\u001b[0m\u001b[0;34m(\u001b[0m\u001b[0mis_xp_array\u001b[0m\u001b[0;34m,\u001b[0m \u001b[0mself\u001b[0m\u001b[0;34m.\u001b[0m\u001b[0mops\u001b[0m\u001b[0;34m.\u001b[0m\u001b[0masarray\u001b[0m\u001b[0;34m,\u001b[0m \u001b[0mmsg\u001b[0m\u001b[0;34m)\u001b[0m\u001b[0;34m\u001b[0m\u001b[0;34m\u001b[0m\u001b[0m\n\u001b[0;32m--> 526\u001b[0;31m         \u001b[0;32mreturn\u001b[0m \u001b[0mself\u001b[0m\u001b[0;34m.\u001b[0m\u001b[0mfrom_dict\u001b[0m\u001b[0;34m(\u001b[0m\u001b[0mmsg\u001b[0m\u001b[0;34m)\u001b[0m\u001b[0;34m\u001b[0m\u001b[0;34m\u001b[0m\u001b[0m\n\u001b[0m\u001b[1;32m    527\u001b[0m \u001b[0;34m\u001b[0m\u001b[0m\n\u001b[1;32m    528\u001b[0m     \u001b[0;32mdef\u001b[0m \u001b[0mfrom_disk\u001b[0m\u001b[0;34m(\u001b[0m\u001b[0mself\u001b[0m\u001b[0;34m,\u001b[0m \u001b[0mpath\u001b[0m\u001b[0;34m:\u001b[0m \u001b[0mUnion\u001b[0m\u001b[0;34m[\u001b[0m\u001b[0mPath\u001b[0m\u001b[0;34m,\u001b[0m \u001b[0mstr\u001b[0m\u001b[0;34m]\u001b[0m\u001b[0;34m)\u001b[0m \u001b[0;34m->\u001b[0m \u001b[0;34m\"Model\"\u001b[0m\u001b[0;34m:\u001b[0m\u001b[0;34m\u001b[0m\u001b[0;34m\u001b[0m\u001b[0m\n",
            "\u001b[0;32m/home/mohamed/anaconda3/envs/memeproject/lib/python3.6/site-packages/thinc/model.py\u001b[0m in \u001b[0;36mfrom_dict\u001b[0;34m(self, msg)\u001b[0m\n\u001b[1;32m    555\u001b[0m             \u001b[0;32mfor\u001b[0m \u001b[0mattr\u001b[0m\u001b[0;34m,\u001b[0m \u001b[0mvalue\u001b[0m \u001b[0;32min\u001b[0m \u001b[0mmsg\u001b[0m\u001b[0;34m[\u001b[0m\u001b[0;34m\"attrs\"\u001b[0m\u001b[0;34m]\u001b[0m\u001b[0;34m[\u001b[0m\u001b[0mi\u001b[0m\u001b[0;34m]\u001b[0m\u001b[0;34m.\u001b[0m\u001b[0mitems\u001b[0m\u001b[0;34m(\u001b[0m\u001b[0;34m)\u001b[0m\u001b[0;34m:\u001b[0m\u001b[0;34m\u001b[0m\u001b[0;34m\u001b[0m\u001b[0m\n\u001b[1;32m    556\u001b[0m                 \u001b[0mdefault_value\u001b[0m \u001b[0;34m=\u001b[0m \u001b[0mnode\u001b[0m\u001b[0;34m.\u001b[0m\u001b[0mattrs\u001b[0m\u001b[0;34m.\u001b[0m\u001b[0mget\u001b[0m\u001b[0;34m(\u001b[0m\u001b[0mattr\u001b[0m\u001b[0;34m)\u001b[0m\u001b[0;34m\u001b[0m\u001b[0;34m\u001b[0m\u001b[0m\n\u001b[0;32m--> 557\u001b[0;31m                 \u001b[0mloaded_value\u001b[0m \u001b[0;34m=\u001b[0m \u001b[0mdeserialize_attr\u001b[0m\u001b[0;34m(\u001b[0m\u001b[0mdefault_value\u001b[0m\u001b[0;34m,\u001b[0m \u001b[0mvalue\u001b[0m\u001b[0;34m,\u001b[0m \u001b[0mattr\u001b[0m\u001b[0;34m,\u001b[0m \u001b[0mnode\u001b[0m\u001b[0;34m)\u001b[0m\u001b[0;34m\u001b[0m\u001b[0;34m\u001b[0m\u001b[0m\n\u001b[0m\u001b[1;32m    558\u001b[0m                 \u001b[0mnode\u001b[0m\u001b[0;34m.\u001b[0m\u001b[0mattrs\u001b[0m\u001b[0;34m[\u001b[0m\u001b[0mattr\u001b[0m\u001b[0;34m]\u001b[0m \u001b[0;34m=\u001b[0m \u001b[0mloaded_value\u001b[0m\u001b[0;34m\u001b[0m\u001b[0;34m\u001b[0m\u001b[0m\n\u001b[1;32m    559\u001b[0m             \u001b[0;32mfor\u001b[0m \u001b[0mparam_name\u001b[0m\u001b[0;34m,\u001b[0m \u001b[0mvalue\u001b[0m \u001b[0;32min\u001b[0m \u001b[0mmsg\u001b[0m\u001b[0;34m[\u001b[0m\u001b[0;34m\"params\"\u001b[0m\u001b[0;34m]\u001b[0m\u001b[0;34m[\u001b[0m\u001b[0mi\u001b[0m\u001b[0;34m]\u001b[0m\u001b[0;34m.\u001b[0m\u001b[0mitems\u001b[0m\u001b[0;34m(\u001b[0m\u001b[0;34m)\u001b[0m\u001b[0;34m:\u001b[0m\u001b[0;34m\u001b[0m\u001b[0;34m\u001b[0m\u001b[0m\n",
            "\u001b[0;32m/home/mohamed/anaconda3/envs/memeproject/lib/python3.6/functools.py\u001b[0m in \u001b[0;36mwrapper\u001b[0;34m(*args, **kw)\u001b[0m\n\u001b[1;32m    805\u001b[0m                             '1 positional argument')\n\u001b[1;32m    806\u001b[0m \u001b[0;34m\u001b[0m\u001b[0m\n\u001b[0;32m--> 807\u001b[0;31m         \u001b[0;32mreturn\u001b[0m \u001b[0mdispatch\u001b[0m\u001b[0;34m(\u001b[0m\u001b[0margs\u001b[0m\u001b[0;34m[\u001b[0m\u001b[0;36m0\u001b[0m\u001b[0;34m]\u001b[0m\u001b[0;34m.\u001b[0m\u001b[0m__class__\u001b[0m\u001b[0;34m)\u001b[0m\u001b[0;34m(\u001b[0m\u001b[0;34m*\u001b[0m\u001b[0margs\u001b[0m\u001b[0;34m,\u001b[0m \u001b[0;34m**\u001b[0m\u001b[0mkw\u001b[0m\u001b[0;34m)\u001b[0m\u001b[0;34m\u001b[0m\u001b[0;34m\u001b[0m\u001b[0m\n\u001b[0m\u001b[1;32m    808\u001b[0m \u001b[0;34m\u001b[0m\u001b[0m\n\u001b[1;32m    809\u001b[0m     \u001b[0mfuncname\u001b[0m \u001b[0;34m=\u001b[0m \u001b[0mgetattr\u001b[0m\u001b[0;34m(\u001b[0m\u001b[0mfunc\u001b[0m\u001b[0;34m,\u001b[0m \u001b[0;34m'__name__'\u001b[0m\u001b[0;34m,\u001b[0m \u001b[0;34m'singledispatch function'\u001b[0m\u001b[0;34m)\u001b[0m\u001b[0;34m\u001b[0m\u001b[0;34m\u001b[0m\u001b[0m\n",
            "\u001b[0;32m/home/mohamed/anaconda3/envs/memeproject/lib/python3.6/site-packages/thinc/model.py\u001b[0m in \u001b[0;36mdeserialize_attr\u001b[0;34m(_, value, name, model)\u001b[0m\n\u001b[1;32m    740\u001b[0m     \u001b[0mtype\u001b[0m \u001b[0mto\u001b[0m \u001b[0mdeserialize\u001b[0m\u001b[0;34m,\u001b[0m \u001b[0me\u001b[0m\u001b[0;34m.\u001b[0m\u001b[0mg\u001b[0m\u001b[0;34m.\u001b[0m\u001b[0;34m:\u001b[0m \u001b[0;34m@\u001b[0m\u001b[0mdeserialize_attr\u001b[0m\u001b[0;34m.\u001b[0m\u001b[0mregister\u001b[0m\u001b[0;34m(\u001b[0m\u001b[0mMyCustomObject\u001b[0m\u001b[0;34m)\u001b[0m\u001b[0;34m.\u001b[0m\u001b[0;34m\u001b[0m\u001b[0;34m\u001b[0m\u001b[0m\n\u001b[1;32m    741\u001b[0m     \"\"\"\n\u001b[0;32m--> 742\u001b[0;31m     \u001b[0;32mreturn\u001b[0m \u001b[0msrsly\u001b[0m\u001b[0;34m.\u001b[0m\u001b[0mmsgpack_loads\u001b[0m\u001b[0;34m(\u001b[0m\u001b[0mvalue\u001b[0m\u001b[0;34m)\u001b[0m\u001b[0;34m\u001b[0m\u001b[0;34m\u001b[0m\u001b[0m\n\u001b[0m\u001b[1;32m    743\u001b[0m \u001b[0;34m\u001b[0m\u001b[0m\n\u001b[1;32m    744\u001b[0m \u001b[0;34m\u001b[0m\u001b[0m\n",
            "\u001b[0;32m/home/mohamed/anaconda3/envs/memeproject/lib/python3.6/site-packages/srsly/_msgpack_api.py\u001b[0m in \u001b[0;36mmsgpack_loads\u001b[0;34m(data, use_list)\u001b[0m\n\u001b[1;32m     25\u001b[0m     \u001b[0;31m# msgpack-python docs suggest disabling gc before unpacking large messages\u001b[0m\u001b[0;34m\u001b[0m\u001b[0;34m\u001b[0m\u001b[0;34m\u001b[0m\u001b[0m\n\u001b[1;32m     26\u001b[0m     \u001b[0mgc\u001b[0m\u001b[0;34m.\u001b[0m\u001b[0mdisable\u001b[0m\u001b[0;34m(\u001b[0m\u001b[0;34m)\u001b[0m\u001b[0;34m\u001b[0m\u001b[0;34m\u001b[0m\u001b[0m\n\u001b[0;32m---> 27\u001b[0;31m     \u001b[0mmsg\u001b[0m \u001b[0;34m=\u001b[0m \u001b[0mmsgpack\u001b[0m\u001b[0;34m.\u001b[0m\u001b[0mloads\u001b[0m\u001b[0;34m(\u001b[0m\u001b[0mdata\u001b[0m\u001b[0;34m,\u001b[0m \u001b[0mraw\u001b[0m\u001b[0;34m=\u001b[0m\u001b[0;32mFalse\u001b[0m\u001b[0;34m,\u001b[0m \u001b[0muse_list\u001b[0m\u001b[0;34m=\u001b[0m\u001b[0muse_list\u001b[0m\u001b[0;34m)\u001b[0m\u001b[0;34m\u001b[0m\u001b[0;34m\u001b[0m\u001b[0m\n\u001b[0m\u001b[1;32m     28\u001b[0m     \u001b[0mgc\u001b[0m\u001b[0;34m.\u001b[0m\u001b[0menable\u001b[0m\u001b[0;34m(\u001b[0m\u001b[0;34m)\u001b[0m\u001b[0;34m\u001b[0m\u001b[0;34m\u001b[0m\u001b[0m\n\u001b[1;32m     29\u001b[0m     \u001b[0;32mreturn\u001b[0m \u001b[0mmsg\u001b[0m\u001b[0;34m\u001b[0m\u001b[0;34m\u001b[0m\u001b[0m\n",
            "\u001b[0;32m/home/mohamed/anaconda3/envs/memeproject/lib/python3.6/site-packages/srsly/msgpack/__init__.py\u001b[0m in \u001b[0;36munpackb\u001b[0;34m(packed, **kwargs)\u001b[0m\n\u001b[1;32m     74\u001b[0m     \u001b[0;32mif\u001b[0m \u001b[0;34m\"object_pairs_hook\"\u001b[0m \u001b[0;32mnot\u001b[0m \u001b[0;32min\u001b[0m \u001b[0mkwargs\u001b[0m\u001b[0;34m:\u001b[0m\u001b[0;34m\u001b[0m\u001b[0;34m\u001b[0m\u001b[0m\n\u001b[1;32m     75\u001b[0m         \u001b[0mobject_hook\u001b[0m \u001b[0;34m=\u001b[0m \u001b[0mkwargs\u001b[0m\u001b[0;34m.\u001b[0m\u001b[0mget\u001b[0m\u001b[0;34m(\u001b[0m\u001b[0;34m\"object_hook\"\u001b[0m\u001b[0;34m)\u001b[0m\u001b[0;34m\u001b[0m\u001b[0;34m\u001b[0m\u001b[0m\n\u001b[0;32m---> 76\u001b[0;31m         \u001b[0;32mfor\u001b[0m \u001b[0mdecoder\u001b[0m \u001b[0;32min\u001b[0m \u001b[0mmsgpack_decoders\u001b[0m\u001b[0;34m.\u001b[0m\u001b[0mget_all\u001b[0m\u001b[0;34m(\u001b[0m\u001b[0;34m)\u001b[0m\u001b[0;34m.\u001b[0m\u001b[0mvalues\u001b[0m\u001b[0;34m(\u001b[0m\u001b[0;34m)\u001b[0m\u001b[0;34m:\u001b[0m\u001b[0;34m\u001b[0m\u001b[0;34m\u001b[0m\u001b[0m\n\u001b[0m\u001b[1;32m     77\u001b[0m             \u001b[0mobject_hook\u001b[0m \u001b[0;34m=\u001b[0m \u001b[0mfunctools\u001b[0m\u001b[0;34m.\u001b[0m\u001b[0mpartial\u001b[0m\u001b[0;34m(\u001b[0m\u001b[0mdecoder\u001b[0m\u001b[0;34m,\u001b[0m \u001b[0mchain\u001b[0m\u001b[0;34m=\u001b[0m\u001b[0mobject_hook\u001b[0m\u001b[0;34m)\u001b[0m\u001b[0;34m\u001b[0m\u001b[0;34m\u001b[0m\u001b[0m\n\u001b[1;32m     78\u001b[0m         \u001b[0mkwargs\u001b[0m\u001b[0;34m[\u001b[0m\u001b[0;34m\"object_hook\"\u001b[0m\u001b[0;34m]\u001b[0m \u001b[0;34m=\u001b[0m \u001b[0mobject_hook\u001b[0m\u001b[0;34m\u001b[0m\u001b[0;34m\u001b[0m\u001b[0m\n",
            "\u001b[0;32m/home/mohamed/anaconda3/envs/memeproject/lib/python3.6/site-packages/catalogue/__init__.py\u001b[0m in \u001b[0;36mget_all\u001b[0;34m(self)\u001b[0m\n\u001b[1;32m    106\u001b[0m         \u001b[0mresult\u001b[0m \u001b[0;34m=\u001b[0m \u001b[0;34m{\u001b[0m\u001b[0;34m}\u001b[0m\u001b[0;34m\u001b[0m\u001b[0;34m\u001b[0m\u001b[0m\n\u001b[1;32m    107\u001b[0m         \u001b[0;32mif\u001b[0m \u001b[0mself\u001b[0m\u001b[0;34m.\u001b[0m\u001b[0mentry_points\u001b[0m\u001b[0;34m:\u001b[0m\u001b[0;34m\u001b[0m\u001b[0;34m\u001b[0m\u001b[0m\n\u001b[0;32m--> 108\u001b[0;31m             \u001b[0mresult\u001b[0m\u001b[0;34m.\u001b[0m\u001b[0mupdate\u001b[0m\u001b[0;34m(\u001b[0m\u001b[0mself\u001b[0m\u001b[0;34m.\u001b[0m\u001b[0mget_entry_points\u001b[0m\u001b[0;34m(\u001b[0m\u001b[0;34m)\u001b[0m\u001b[0;34m)\u001b[0m\u001b[0;34m\u001b[0m\u001b[0;34m\u001b[0m\u001b[0m\n\u001b[0m\u001b[1;32m    109\u001b[0m         \u001b[0;32mfor\u001b[0m \u001b[0mkeys\u001b[0m\u001b[0;34m,\u001b[0m \u001b[0mvalue\u001b[0m \u001b[0;32min\u001b[0m \u001b[0mREGISTRY\u001b[0m\u001b[0;34m.\u001b[0m\u001b[0mitems\u001b[0m\u001b[0;34m(\u001b[0m\u001b[0;34m)\u001b[0m\u001b[0;34m:\u001b[0m\u001b[0;34m\u001b[0m\u001b[0;34m\u001b[0m\u001b[0m\n\u001b[1;32m    110\u001b[0m             if len(self.namespace) == len(keys) - 1 and all(\n",
            "\u001b[0;32m/home/mohamed/anaconda3/envs/memeproject/lib/python3.6/site-packages/catalogue/__init__.py\u001b[0m in \u001b[0;36mget_entry_points\u001b[0;34m(self)\u001b[0m\n\u001b[1;32m    120\u001b[0m         \"\"\"\n\u001b[1;32m    121\u001b[0m         \u001b[0mresult\u001b[0m \u001b[0;34m=\u001b[0m \u001b[0;34m{\u001b[0m\u001b[0;34m}\u001b[0m\u001b[0;34m\u001b[0m\u001b[0;34m\u001b[0m\u001b[0m\n\u001b[0;32m--> 122\u001b[0;31m         \u001b[0;32mfor\u001b[0m \u001b[0mentry_point\u001b[0m \u001b[0;32min\u001b[0m \u001b[0mAVAILABLE_ENTRY_POINTS\u001b[0m\u001b[0;34m.\u001b[0m\u001b[0mget\u001b[0m\u001b[0;34m(\u001b[0m\u001b[0mself\u001b[0m\u001b[0;34m.\u001b[0m\u001b[0mentry_point_namespace\u001b[0m\u001b[0;34m,\u001b[0m \u001b[0;34m[\u001b[0m\u001b[0;34m]\u001b[0m\u001b[0;34m)\u001b[0m\u001b[0;34m:\u001b[0m\u001b[0;34m\u001b[0m\u001b[0;34m\u001b[0m\u001b[0m\n\u001b[0m\u001b[1;32m    123\u001b[0m             \u001b[0mresult\u001b[0m\u001b[0;34m[\u001b[0m\u001b[0mentry_point\u001b[0m\u001b[0;34m.\u001b[0m\u001b[0mname\u001b[0m\u001b[0;34m]\u001b[0m \u001b[0;34m=\u001b[0m \u001b[0mentry_point\u001b[0m\u001b[0;34m.\u001b[0m\u001b[0mload\u001b[0m\u001b[0;34m(\u001b[0m\u001b[0;34m)\u001b[0m\u001b[0;34m\u001b[0m\u001b[0;34m\u001b[0m\u001b[0m\n\u001b[1;32m    124\u001b[0m         \u001b[0;32mreturn\u001b[0m \u001b[0mresult\u001b[0m\u001b[0;34m\u001b[0m\u001b[0;34m\u001b[0m\u001b[0m\n",
            "\u001b[0;32m/home/mohamed/anaconda3/envs/memeproject/lib/python3.6/site-packages/importlib_metadata/__init__.py\u001b[0m in \u001b[0;36mget\u001b[0;34m(self, name, default)\u001b[0m\n\u001b[1;32m    300\u001b[0m \u001b[0;34m\u001b[0m\u001b[0m\n\u001b[1;32m    301\u001b[0m     \u001b[0;32mdef\u001b[0m \u001b[0mget\u001b[0m\u001b[0;34m(\u001b[0m\u001b[0mself\u001b[0m\u001b[0;34m,\u001b[0m \u001b[0mname\u001b[0m\u001b[0;34m,\u001b[0m \u001b[0mdefault\u001b[0m\u001b[0;34m=\u001b[0m\u001b[0;32mNone\u001b[0m\u001b[0;34m)\u001b[0m\u001b[0;34m:\u001b[0m\u001b[0;34m\u001b[0m\u001b[0;34m\u001b[0m\u001b[0m\n\u001b[0;32m--> 302\u001b[0;31m         \u001b[0mflake8_bypass\u001b[0m\u001b[0;34m(\u001b[0m\u001b[0mself\u001b[0m\u001b[0;34m.\u001b[0m\u001b[0m_warn\u001b[0m\u001b[0;34m)\u001b[0m\u001b[0;34m(\u001b[0m\u001b[0;34m)\u001b[0m\u001b[0;34m\u001b[0m\u001b[0;34m\u001b[0m\u001b[0m\n\u001b[0m\u001b[1;32m    303\u001b[0m         \u001b[0;32mreturn\u001b[0m \u001b[0msuper\u001b[0m\u001b[0;34m(\u001b[0m\u001b[0;34m)\u001b[0m\u001b[0;34m.\u001b[0m\u001b[0mget\u001b[0m\u001b[0;34m(\u001b[0m\u001b[0mname\u001b[0m\u001b[0;34m,\u001b[0m \u001b[0mdefault\u001b[0m\u001b[0;34m)\u001b[0m\u001b[0;34m\u001b[0m\u001b[0;34m\u001b[0m\u001b[0m\n\u001b[1;32m    304\u001b[0m \u001b[0;34m\u001b[0m\u001b[0m\n",
            "\u001b[0;32m/home/mohamed/anaconda3/envs/memeproject/lib/python3.6/site-packages/importlib_metadata/__init__.py\u001b[0m in \u001b[0;36mflake8_bypass\u001b[0;34m(func)\u001b[0m\n\u001b[1;32m    261\u001b[0m     \u001b[0;32mimport\u001b[0m \u001b[0minspect\u001b[0m\u001b[0;34m\u001b[0m\u001b[0;34m\u001b[0m\u001b[0m\n\u001b[1;32m    262\u001b[0m \u001b[0;34m\u001b[0m\u001b[0m\n\u001b[0;32m--> 263\u001b[0;31m     \u001b[0mis_flake8\u001b[0m \u001b[0;34m=\u001b[0m \u001b[0many\u001b[0m\u001b[0;34m(\u001b[0m\u001b[0;34m'flake8'\u001b[0m \u001b[0;32min\u001b[0m \u001b[0mstr\u001b[0m\u001b[0;34m(\u001b[0m\u001b[0mframe\u001b[0m\u001b[0;34m.\u001b[0m\u001b[0mfilename\u001b[0m\u001b[0;34m)\u001b[0m \u001b[0;32mfor\u001b[0m \u001b[0mframe\u001b[0m \u001b[0;32min\u001b[0m \u001b[0minspect\u001b[0m\u001b[0;34m.\u001b[0m\u001b[0mstack\u001b[0m\u001b[0;34m(\u001b[0m\u001b[0;34m)\u001b[0m\u001b[0;34m[\u001b[0m\u001b[0;34m:\u001b[0m\u001b[0;36m5\u001b[0m\u001b[0;34m]\u001b[0m\u001b[0;34m)\u001b[0m\u001b[0;34m\u001b[0m\u001b[0;34m\u001b[0m\u001b[0m\n\u001b[0m\u001b[1;32m    264\u001b[0m     \u001b[0;32mreturn\u001b[0m \u001b[0mfunc\u001b[0m \u001b[0;32mif\u001b[0m \u001b[0;32mnot\u001b[0m \u001b[0mis_flake8\u001b[0m \u001b[0;32melse\u001b[0m \u001b[0;32mlambda\u001b[0m\u001b[0;34m:\u001b[0m \u001b[0;32mNone\u001b[0m\u001b[0;34m\u001b[0m\u001b[0;34m\u001b[0m\u001b[0m\n\u001b[1;32m    265\u001b[0m \u001b[0;34m\u001b[0m\u001b[0m\n",
            "\u001b[0;32m/home/mohamed/anaconda3/envs/memeproject/lib/python3.6/inspect.py\u001b[0m in \u001b[0;36mstack\u001b[0;34m(context)\u001b[0m\n\u001b[1;32m   1499\u001b[0m \u001b[0;32mdef\u001b[0m \u001b[0mstack\u001b[0m\u001b[0;34m(\u001b[0m\u001b[0mcontext\u001b[0m\u001b[0;34m=\u001b[0m\u001b[0;36m1\u001b[0m\u001b[0;34m)\u001b[0m\u001b[0;34m:\u001b[0m\u001b[0;34m\u001b[0m\u001b[0;34m\u001b[0m\u001b[0m\n\u001b[1;32m   1500\u001b[0m     \u001b[0;34m\"\"\"Return a list of records for the stack above the caller's frame.\"\"\"\u001b[0m\u001b[0;34m\u001b[0m\u001b[0;34m\u001b[0m\u001b[0m\n\u001b[0;32m-> 1501\u001b[0;31m     \u001b[0;32mreturn\u001b[0m \u001b[0mgetouterframes\u001b[0m\u001b[0;34m(\u001b[0m\u001b[0msys\u001b[0m\u001b[0;34m.\u001b[0m\u001b[0m_getframe\u001b[0m\u001b[0;34m(\u001b[0m\u001b[0;36m1\u001b[0m\u001b[0;34m)\u001b[0m\u001b[0;34m,\u001b[0m \u001b[0mcontext\u001b[0m\u001b[0;34m)\u001b[0m\u001b[0;34m\u001b[0m\u001b[0;34m\u001b[0m\u001b[0m\n\u001b[0m\u001b[1;32m   1502\u001b[0m \u001b[0;34m\u001b[0m\u001b[0m\n\u001b[1;32m   1503\u001b[0m \u001b[0;32mdef\u001b[0m \u001b[0mtrace\u001b[0m\u001b[0;34m(\u001b[0m\u001b[0mcontext\u001b[0m\u001b[0;34m=\u001b[0m\u001b[0;36m1\u001b[0m\u001b[0;34m)\u001b[0m\u001b[0;34m:\u001b[0m\u001b[0;34m\u001b[0m\u001b[0;34m\u001b[0m\u001b[0m\n",
            "\u001b[0;32m/home/mohamed/anaconda3/envs/memeproject/lib/python3.6/inspect.py\u001b[0m in \u001b[0;36mgetouterframes\u001b[0;34m(frame, context)\u001b[0m\n\u001b[1;32m   1476\u001b[0m     \u001b[0mframelist\u001b[0m \u001b[0;34m=\u001b[0m \u001b[0;34m[\u001b[0m\u001b[0;34m]\u001b[0m\u001b[0;34m\u001b[0m\u001b[0;34m\u001b[0m\u001b[0m\n\u001b[1;32m   1477\u001b[0m     \u001b[0;32mwhile\u001b[0m \u001b[0mframe\u001b[0m\u001b[0;34m:\u001b[0m\u001b[0;34m\u001b[0m\u001b[0;34m\u001b[0m\u001b[0m\n\u001b[0;32m-> 1478\u001b[0;31m         \u001b[0mframeinfo\u001b[0m \u001b[0;34m=\u001b[0m \u001b[0;34m(\u001b[0m\u001b[0mframe\u001b[0m\u001b[0;34m,\u001b[0m\u001b[0;34m)\u001b[0m \u001b[0;34m+\u001b[0m \u001b[0mgetframeinfo\u001b[0m\u001b[0;34m(\u001b[0m\u001b[0mframe\u001b[0m\u001b[0;34m,\u001b[0m \u001b[0mcontext\u001b[0m\u001b[0;34m)\u001b[0m\u001b[0;34m\u001b[0m\u001b[0;34m\u001b[0m\u001b[0m\n\u001b[0m\u001b[1;32m   1479\u001b[0m         \u001b[0mframelist\u001b[0m\u001b[0;34m.\u001b[0m\u001b[0mappend\u001b[0m\u001b[0;34m(\u001b[0m\u001b[0mFrameInfo\u001b[0m\u001b[0;34m(\u001b[0m\u001b[0;34m*\u001b[0m\u001b[0mframeinfo\u001b[0m\u001b[0;34m)\u001b[0m\u001b[0;34m)\u001b[0m\u001b[0;34m\u001b[0m\u001b[0;34m\u001b[0m\u001b[0m\n\u001b[1;32m   1480\u001b[0m         \u001b[0mframe\u001b[0m \u001b[0;34m=\u001b[0m \u001b[0mframe\u001b[0m\u001b[0;34m.\u001b[0m\u001b[0mf_back\u001b[0m\u001b[0;34m\u001b[0m\u001b[0;34m\u001b[0m\u001b[0m\n",
            "\u001b[0;32m/home/mohamed/anaconda3/envs/memeproject/lib/python3.6/inspect.py\u001b[0m in \u001b[0;36mgetframeinfo\u001b[0;34m(frame, context)\u001b[0m\n\u001b[1;32m   1450\u001b[0m         \u001b[0mstart\u001b[0m \u001b[0;34m=\u001b[0m \u001b[0mlineno\u001b[0m \u001b[0;34m-\u001b[0m \u001b[0;36m1\u001b[0m \u001b[0;34m-\u001b[0m \u001b[0mcontext\u001b[0m\u001b[0;34m//\u001b[0m\u001b[0;36m2\u001b[0m\u001b[0;34m\u001b[0m\u001b[0;34m\u001b[0m\u001b[0m\n\u001b[1;32m   1451\u001b[0m         \u001b[0;32mtry\u001b[0m\u001b[0;34m:\u001b[0m\u001b[0;34m\u001b[0m\u001b[0;34m\u001b[0m\u001b[0m\n\u001b[0;32m-> 1452\u001b[0;31m             \u001b[0mlines\u001b[0m\u001b[0;34m,\u001b[0m \u001b[0mlnum\u001b[0m \u001b[0;34m=\u001b[0m \u001b[0mfindsource\u001b[0m\u001b[0;34m(\u001b[0m\u001b[0mframe\u001b[0m\u001b[0;34m)\u001b[0m\u001b[0;34m\u001b[0m\u001b[0;34m\u001b[0m\u001b[0m\n\u001b[0m\u001b[1;32m   1453\u001b[0m         \u001b[0;32mexcept\u001b[0m \u001b[0mOSError\u001b[0m\u001b[0;34m:\u001b[0m\u001b[0;34m\u001b[0m\u001b[0;34m\u001b[0m\u001b[0m\n\u001b[1;32m   1454\u001b[0m             \u001b[0mlines\u001b[0m \u001b[0;34m=\u001b[0m \u001b[0mindex\u001b[0m \u001b[0;34m=\u001b[0m \u001b[0;32mNone\u001b[0m\u001b[0;34m\u001b[0m\u001b[0;34m\u001b[0m\u001b[0m\n",
            "\u001b[0;32m/home/mohamed/anaconda3/envs/memeproject/lib/python3.6/inspect.py\u001b[0m in \u001b[0;36mfindsource\u001b[0;34m(object)\u001b[0m\n\u001b[1;32m    778\u001b[0m             \u001b[0;32mraise\u001b[0m \u001b[0mOSError\u001b[0m\u001b[0;34m(\u001b[0m\u001b[0;34m'source code not available'\u001b[0m\u001b[0;34m)\u001b[0m\u001b[0;34m\u001b[0m\u001b[0;34m\u001b[0m\u001b[0m\n\u001b[1;32m    779\u001b[0m \u001b[0;34m\u001b[0m\u001b[0m\n\u001b[0;32m--> 780\u001b[0;31m     \u001b[0mmodule\u001b[0m \u001b[0;34m=\u001b[0m \u001b[0mgetmodule\u001b[0m\u001b[0;34m(\u001b[0m\u001b[0mobject\u001b[0m\u001b[0;34m,\u001b[0m \u001b[0mfile\u001b[0m\u001b[0;34m)\u001b[0m\u001b[0;34m\u001b[0m\u001b[0;34m\u001b[0m\u001b[0m\n\u001b[0m\u001b[1;32m    781\u001b[0m     \u001b[0;32mif\u001b[0m \u001b[0mmodule\u001b[0m\u001b[0;34m:\u001b[0m\u001b[0;34m\u001b[0m\u001b[0;34m\u001b[0m\u001b[0m\n\u001b[1;32m    782\u001b[0m         \u001b[0mlines\u001b[0m \u001b[0;34m=\u001b[0m \u001b[0mlinecache\u001b[0m\u001b[0;34m.\u001b[0m\u001b[0mgetlines\u001b[0m\u001b[0;34m(\u001b[0m\u001b[0mfile\u001b[0m\u001b[0;34m,\u001b[0m \u001b[0mmodule\u001b[0m\u001b[0;34m.\u001b[0m\u001b[0m__dict__\u001b[0m\u001b[0;34m)\u001b[0m\u001b[0;34m\u001b[0m\u001b[0;34m\u001b[0m\u001b[0m\n",
            "\u001b[0;32m/home/mohamed/anaconda3/envs/memeproject/lib/python3.6/inspect.py\u001b[0m in \u001b[0;36mgetmodule\u001b[0;34m(object, _filename)\u001b[0m\n\u001b[1;32m    733\u001b[0m         \u001b[0;32mif\u001b[0m \u001b[0mismodule\u001b[0m\u001b[0;34m(\u001b[0m\u001b[0mmodule\u001b[0m\u001b[0;34m)\u001b[0m \u001b[0;32mand\u001b[0m \u001b[0mhasattr\u001b[0m\u001b[0;34m(\u001b[0m\u001b[0mmodule\u001b[0m\u001b[0;34m,\u001b[0m \u001b[0;34m'__file__'\u001b[0m\u001b[0;34m)\u001b[0m\u001b[0;34m:\u001b[0m\u001b[0;34m\u001b[0m\u001b[0;34m\u001b[0m\u001b[0m\n\u001b[1;32m    734\u001b[0m             \u001b[0mf\u001b[0m \u001b[0;34m=\u001b[0m \u001b[0mmodule\u001b[0m\u001b[0;34m.\u001b[0m\u001b[0m__file__\u001b[0m\u001b[0;34m\u001b[0m\u001b[0;34m\u001b[0m\u001b[0m\n\u001b[0;32m--> 735\u001b[0;31m             \u001b[0;32mif\u001b[0m \u001b[0mf\u001b[0m \u001b[0;34m==\u001b[0m \u001b[0m_filesbymodname\u001b[0m\u001b[0;34m.\u001b[0m\u001b[0mget\u001b[0m\u001b[0;34m(\u001b[0m\u001b[0mmodname\u001b[0m\u001b[0;34m,\u001b[0m \u001b[0;32mNone\u001b[0m\u001b[0;34m)\u001b[0m\u001b[0;34m:\u001b[0m\u001b[0;34m\u001b[0m\u001b[0;34m\u001b[0m\u001b[0m\n\u001b[0m\u001b[1;32m    736\u001b[0m                 \u001b[0;31m# Have already mapped this module, so skip it\u001b[0m\u001b[0;34m\u001b[0m\u001b[0;34m\u001b[0m\u001b[0;34m\u001b[0m\u001b[0m\n\u001b[1;32m    737\u001b[0m                 \u001b[0;32mcontinue\u001b[0m\u001b[0;34m\u001b[0m\u001b[0;34m\u001b[0m\u001b[0m\n",
            "\u001b[0;31mKeyboardInterrupt\u001b[0m: "
          ]
        }
      ],
      "source": [
        "processor = meme_dataset_process.MemeDatasetProcess(\"datasets/Dataset Knowledge Graph.xlsx\")\n",
        "processor.processor_memes() "
      ]
    },
    {
      "cell_type": "code",
      "metadata": {
        "id": "51lAKNbjoxG8",
        "outputId": "639d9bab-1d45-4569-e42e-87e5b1cffadb",
        "colab": {
          "base_uri": "https://localhost:8080/",
          "height": 34
        }
      },
      "source": [
        "processed_input = textprocess.TextProcess()\n",
        "processed_input.load_text(text)\n",
        "processed_input.get_sentiment()\n",
        "#processed_input.get_one_emb()\n",
        "\n",
        "meme_id = processor.get_similar_memes(processed_input,\"sentiment\")"
      ],
      "execution_count": 12,
      "outputs": []
    },
    {
      "cell_type": "code",
      "execution_count": 11,
      "metadata": {},
      "outputs": [
        {
          "output_type": "execute_result",
          "data": {
            "text/plain": [
              "102156234"
            ]
          },
          "metadata": {},
          "execution_count": 11
        }
      ],
      "source": [
        "meme_id"
      ]
    },
    {
      "cell_type": "code",
      "metadata": {
        "id": "YCSJj4rEhXvh",
        "outputId": "a127235d-4e88-48f6-c94a-687ceb3e0e85",
        "colab": {
          "base_uri": "https://localhost:8080/",
          "height": 34
        }
      },
      "source": [
        "datafile = \"datasets/Dataset Knowledge Graph.xlsx\"\n",
        "xls = pd.ExcelFile(datafile)\n",
        "memes = pd.read_excel(xls, 'memes')\n",
        "i=0\n",
        "print(meme_id)\n",
        "for memeid in memes[\"Imgflip_ID\"]:\n",
        "  if memeid == meme_id:\n",
        "    u=i\n",
        "  i+=1\n",
        "link=memes[\"template_image\"][u]"
      ],
      "execution_count": 12,
      "outputs": [
        {
          "output_type": "stream",
          "name": "stdout",
          "text": [
            "102156234\n"
          ]
        }
      ]
    },
    {
      "cell_type": "code",
      "execution_count": 13,
      "metadata": {},
      "outputs": [
        {
          "output_type": "execute_result",
          "data": {
            "text/plain": [
              "'https://imgflip.com/s/meme/Mocking-Spongebob.jpg'"
            ]
          },
          "metadata": {},
          "execution_count": 13
        }
      ],
      "source": [
        "link"
      ]
    },
    {
      "cell_type": "code",
      "metadata": {
        "id": "8PfbPTmZrvLo",
        "outputId": "30c0abaf-c3e2-4d3f-b88c-4a05d9ac5ffd",
        "colab": {
          "base_uri": "https://localhost:8080/",
          "height": 271
        }
      },
      "source": [
        "from IPython.display import Image\n",
        "from IPython.core.display import HTML \n",
        "Image(url= link,width=250, height=250)"
      ],
      "execution_count": 14,
      "outputs": [
        {
          "output_type": "execute_result",
          "data": {
            "text/plain": [
              "<IPython.core.display.Image object>"
            ],
            "text/html": "<img src=\"https://imgflip.com/s/meme/Mocking-Spongebob.jpg\" width=\"250\" height=\"250\"/>"
          },
          "metadata": {},
          "execution_count": 14
        }
      ]
    },
    {
      "cell_type": "code",
      "metadata": {
        "id": "T83N6cvBr6Cg"
      },
      "source": [
        "from tools import TextDatasetProcess"
      ],
      "execution_count": 15,
      "outputs": []
    },
    {
      "cell_type": "code",
      "metadata": {
        "id": "ETxYKD108dbo",
        "outputId": "ec7156e5-50f5-4d7a-d4ee-49bd5413956e",
        "colab": {
          "base_uri": "https://localhost:8080/",
          "height": 1000
        }
      },
      "source": [
        "pro = TextDatasetProcess.TextDatasetProcess(datafile=\"datasets/blogtext.csv\")"
      ],
      "execution_count": 16,
      "outputs": [
        {
          "output_type": "stream",
          "name": "stderr",
          "text": [
            "/home/mohamed/.local/lib/python3.6/site-packages/numpy/lib/function_base.py:393: RuntimeWarning: Mean of empty slice.\n  avg = a.mean(axis)\n/home/mohamed/.local/lib/python3.6/site-packages/numpy/core/_methods.py:161: RuntimeWarning: invalid value encountered in double_scalars\n  ret = ret.dtype.type(ret / rcount)\n"
          ]
        }
      ]
    },
    {
      "cell_type": "code",
      "metadata": {
        "id": "NdaBOAXF8etT",
        "outputId": "cff02af6-9056-4bda-c17a-aba58ebfc9b5",
        "colab": {
          "base_uri": "https://localhost:8080/",
          "height": 275
        },
        "tags": [
          "outputPrepend"
        ]
      },
      "source": [
        "meme_ids = pro.processor_articles()"
      ],
      "execution_count": 17,
      "outputs": [
        {
          "output_type": "stream",
          "name": "stdout",
          "text": [
            "E wOrkiNg sO fuNz... fANg GOng liaOz... FOr thE 1st tiMe.. thEy earLiEr dEN me.. dEN thEy wAit fOr mE... tOOk mrT dEN gO hoMe liaOz... tOmoro finaLLy Off ler.. cAN haO haO dE shui dAO baOz... prOvidEd my marmA duN naG lar.. kEke... Kk... gO do my thiNg lEr.... hErE GOeS mY lOvE pOeM~...   Su Ting Zhi Zi Nei Xin De Sheng Ying, Liao Jie Dui Fang Zhen Zheng De Gan Jue   Ai De Jie Zhou, Yao Kao Shuang Fang Gong Tong Tiao Zheng, Yi Qi Chang Wo..      \n",
            "text:         hAiz.. i juz duNch understANd.... why all My frEn keEp quarrELing... frOm peArL.. till My wOrkplaCe dE... yVOnnE.. wAyE wAye.. aNd eLiZabEth... hAiz... im aLwAys fOrce to bE in thE CentEr.. and chOosEz... sI bEi siaNz... sO mAyb i gUess... aLone ish bEttA bAhz... tOdAE fridAE... sALeS likE shit.. zEro ZEro zEro.... siaN sia... why nO saLeS dE... hMph..... wOrk wOrk wOrk.. vEri tirEd.. tOmoro sAtUrdAe.. hOpE tOmoro saLeS will bE vEri gOod.... tOdAe siNg sOng to yAO zhOng... LOlz... On dA fOne with mE fOr abOut... 3 hr?? pOwEr sia..~~ kEke... vEri tirEd tOdaez... Ermz... duNno wAd tO writE neHz.... cOz nOw still oN dA fOne... haHaz... Will bE baCk AgAinz... hErE gOeS mY lOvE pOemz...  Fu Chu Quan Bu De Zhen Xin,    He Bao You Ge Ren De Gong Jian..   Shi Ai Qing De Liang Nan,   Wei You Zhen Xin Ai Guo Yi Hou   Cai Hui Fa Qian, Shuo Wei De Zhen Xin..   Bao Kuo Liu Gei Dui Fang Ge Ren De Kong Jian,   Dan Dui Fang Ye Bi Xu Shi Zhi De Xing Ren De Ren..          \n",
            "text:          hAiz... tOdAe wAkE up heAdaChE aGainz.. wAkE up LaTe.. weNt tO wOrk laTe... kENa puNch by thE maNiquEen sOmeMore.. daMn swAy siA... dENz weNT tO buy fOod with wAy wAy... eAt Ljs.. dEn thE maNagEr niaO likE shit... givE 2 paCkEt chilli nIa.. wheN i buy 2 juniOr... kNs.. dEN wENt baCk.. waN tO eAt... aNd wheN i opEN it.. fArking sPoiL mOod.... thE fIsh aND chiCkeN.. likE 2 dAe agO de... sOo coLd.. sOo coLd... givE Up eAting.. weNt tO sMokE WIth YvOnnE... dEN tOk cOck.. weNt baCk tO wOrk... No sALeS tOdAe.. heErEN sOo dA quiEt.. likE ghOsT tOWn.. sI bEI siaNz... aT nitE.. weNt tO buy fOod with yvOnNe... eAt meE rObus.. wHO knOW.. thE meE rObus sOoo hOt!! chiLLi put sOOo muCh... saMbal chilli.. rEd chiLLi.. grEen chilli.. all dA chilli thrOw iNsidE.. givE up eAting aLsOz... haIz... tOdAe i fiNally pLuck up mY cOurAgE tO msg peArL... aNd shE fOrgivE me.. but thE cOnditioN ish.. cANnt hAvE aNi cOntACt with gary.. i aCcEptEd it...weLL.. i havE tO mAkE A chOicE AftEr aLL.. iN dA eNd... siaN 1/2... aT leAst... thiNgs gEttiN bEtTEr... thOugH my sALes gEtting LOusiEr aNd lOusiEr... dAMn siaN aNd tirEd tOdAe.. hAIz... wENt hOme WaTCh vCd.. nOW wAiting fOr my mAMa tO rEtUrn HOme.. sO latE leR.. still duN wAN tO Cum HOme.. HMph... siaN Ar!! bOrEd AR!! fArkiNg hp biLl aLsO cuM $450... pOwEr siA.. duNch EvEN knOw hOw i usE aLsO.. loL~... NExt mOntH pAy.. haLf gOne~~~ LuCky maRmA duNno.. if nOt i diE no oNe bury... kkaE.. gO COntinuE WAtCh my VCd liaOz.. =P~ hErE's tOdAe lOvE pOemz...     Ai Qing Lai De Shi Hou, Wei Le Qu Tuo Dui Fang..Lian Ren Men Chang Qian Fang Bai Ji Gai Bian Zhi Zi..Shen Zhi Wei Qu Qiu Quan.. Zhi Dao Ai Qing Zou Le, Cai Fa Sian Shen Ming De Yi Qie You Te Jia Bei De Nu Li Cai Nen Zhao Hui Zhi Wo...       hAiz... MAyb mAyb... vEri Hard.. tO fiNd yAseLf baCkz... whEn u fAll Out Of lOvE... Out Of A sudDen.. sUddeNLy.. misS my Ex sO muChz.. wHy dId hE hAvE tO dO tt tO me??!?! WhErE hAvE i dOnE wrOng?!?!! ArgHhHhH!!!!! I HATE U!!!! U BLOOdy ANDY LIM!       \n",
            "text:          tOdAe wAs a vEri vEri sAd aNd sHag dae fOr me.. whEn i wOke up tOdAe.. as i stArEd intO My hp.. wAiting fOr sMs tt will nEvA cuM frOm dA pErsOn i wish... i feLt sO loNeLy.. i feLt sO sAd... i feLt sO strAnge... sO straNge... deN i wEnt to wOrk.. feeLing sO strANgE sO strANge aGain.. reAch My wOrkpLaCe... i brOkE dOwn.. aNd i tHaNks yvOnnE.. wAye wAye aNd ELizAbEth... fOr beiNg derE fOr me... tOking tO mE aNd cOnforting mE... i feLt rEalli tOuChed.. rEalli reALli tOuChed.. but u aLL duNno... hOw much tT frenship meAnt to mE... no mattEr hOw muCh hOw muCh... i cOmplain AbOut thE frEnship... i juz duN wAn to LOse it.. aNd lOsinG it isNt My wIsh... i rEalli duN wANz.... if i wAN it this wAe.. i hAvE eNded it loNg aGO... aNd if i hAd EndEd it lOng aGO.., i wuN bE feeLing sO paiN sO hurt nOw.. by wAd i hAve dOne... tO MyseLf... aNd tO MY frENz... Of cOz.. i cANt Ask hEr tO aCcEpt mE As A frEn nOw... bUt i reAlli hOpe.. OnE dAe... wheN thE tiMe ish ritE fOr hEr.. shE will sMs mE.. aNd ask mE tO bE hEr frEn aGain.. i rEalli hOpE Tt dAE will cuM... mAyb a mOnth.. A yEar... i duN miNd... iM sO tirEd.. abOut thiNgs i hAvE dOnE tO MysELf... but beCOz of mE... CaRiNg And wAnting this frENship sO much.. i hAvE fOrGOttEn... whO i aM... aNd whEreS My sTAnd.. i turN tO bEcOmE A sELfish heArtleSs pErsOn... i reALli hOpE i caN fiNd baCk... myseLf... and bEfOre i caN find baCk mysELf.. i wuN Ask fOr FOrgivEnEss fROm hEr.. aNd hEr frENz.. uNtil iM surE.. i wuN hurt hEr Again.. aNd until shEs surE shE cAN trusT mE aGain.. i tiNk.. itz beSt tt wE duN cOntACt fOr soMe tiMe... mAyb its thE beSt sOlutioN ler.. but i stil hOpE fOr ya forgivEneSs iN tiMe tO cuM.. mY heArt juz duN liNk with My Mouth.. wAd My heArt ish tiNking aNd wAd my heArt ish sAying ish aLwAys not thE sAMe.. i duNno wHy... aNd wheN MY heArt ANd mOuth lInk... Itz juz mAkE mattEr wOrsE... i duNno... thaNks yvOnnE fOr aCcOmpANyiNg mE tOdAe aFtEr wOrk... thaNk u.. Lucky.. iM wOrkinG.. if nOt... i rEalli will gO mad aNd cRazy.. this frENship meANt juz SO much tO mE... tO dEM tOo i gUess.. but i did mAny thiNgs tT hurt hEr sO muCh sO muChz.. iM sOrri.. iM rEalli sOrry., peArLyN... and i knOw sAying sOrry wuN hELp.. BUt tts thE onli thiNg i cAN sAe nOw... i yeaRn tO bE ur fren aGain.. i duNno wADs iN mE.. i rEAlli duNno... aNd i knOw.. i duNno duNch hELp At aLL... but i rEalli duNno wAD tO saE ler...   SOmEonE whOm usEd to haTE My wOrkplaCe... i gUess iM begiNninG tO likE it ALot aLot... aNd iM gLad to fOuNd this jOb.. thaNks pANsy thE mANagEr fOr heLpinG me ALl aLong.. thaNks Mrs LOe for giviNg mE aNothER cHaNce.. thaNks LiLiaN fOr uNderStAnding mE aNd thaNks cAthEriNe fOr CALLing mE dAe aNd nitE to mAkE surE iM OkaE... thaNks EvErYOne.. but i guEss.. i duNch DEsErvE sO muCh.. cOz iM juz A liar.. a liAr ANd A baCkstAbber... whY havE i bEcOmE likE tT??!! wHy.. i hAtE myseLf sO muCh sO muCh... sO bEfOrE i fiNd myseLf baCk.. i gUess.. i prObAbLy.. wuN wAN ANi NeW frENz... aNd nO matTer hOw mAni nEw frENz iM gOnnA hAvE in dA futUre... thEy cAnt wiN thE stAnd pEarLyN hAd iN MY heArt... weLL.. thAts aBOut all dA cRapz.. hAiz...    Ai Qing De Chang Duan, He Xing Fu Wu Kuan   Xiang Ai De Shuang Fang, Cai Shi Xing Fu De Kuan Jian   Zi Shi De Ren, Wu Fa Sheng Chang Ai De Shi Jian   Wu Shi De Ren, Jiu Suan Wu Fa Yong You Yong Hen De Ai Lian   Dan Zhi Shao Bao Liu De Zhi wO...    mAybE cOz iM sO sELfIsh.. i lOst EvEryOne.. ANd tt wHy.. i lOST mYsELf... hAd i nOt beEn sO seLfish.. aT lEast... i will manAgE tO baO Liu Zhi wO bAh.... hAiz.. EvErythiNg ish tOo latE.. tOo laTe ler....       \n",
            "text:         haHahaha... wAd a joKe i hAd tOdAez... LOl.. i cANt beLiEve it maNz... but dENz.. i knOw wAd thEy meANz... becOz.. iM A fArkEr myseLf.. aNd i knOw it lOng loNg aGOz.. i knOw tT iM A greAt liaRz... vEri gOod At lyiNg... ANd nO oNe trUstEd mE.. weLL.. tTs SOmeThiNg i cANt chaNgEz.... duEd tO My lyiNg.. i hAvE lOsT tOn Of frENz... frOm OnE batCh tO aNothEr... ANd i rEckOn.. b4 i knOw hOw to sTOp tELling lies... i wuN wAN animOrE frEN in My lifE.. cOz i knOw i will lOsE dEM... but i trULy thaNks this 3 frEN Of miNe.. fOr pLanin thiS jokE fOr Me.. if nOt... i wOuLdNt rEaLIse... wAd is hAppeNinG tO mE.. i knOw, i chaNgE aLot.. aLot... i duNno wHy... bUt mAyb tO me.. ish cOz Of hEr.. carE Lots Of hOW shE tiNk Of mE eTC eTc... sO aLwAys Ask ask Ask gAry abOut it... ANd nEvA tink Of thE cOnsEqueNcEs At aLLz.. tT peaRL will b jeALous... sO loNg GAry cAN givE Me a ANswEr abOut wAd iM askiNgz... iM hAppy eNougH.. aNd wuN tink sO mucHz .. but wELLz... Add up tO all.. iM juz beiNg seLfisH oNli.. sO cuM On.. whOs nOt seLfIsh at aLL?? ren bu wei zi, tiaN zhu di mia bAhz.... iN mE.. i oNli tink tT.. sO loNg i duN LOse dEmz... nOthin eLsE matTer.. but by thiNking this wAe... i hAvE hurT dEM oNe by oNe... aNd hAd it not happeN tODAe.. i wOuLdNt EvEn rEaLise... nAn dAO tAi Ai yi gE rEn... ish wrOng?? weLL.. iTz nOt..  but lOvinG thE persOn in A wROng wAy.. iTz wrOng.. loL~!!~ tT why i sAe... duN trEasurE tOo much tO thOsE bEsidE u... COz u gOnnA lOsE ALL At oNcE oNcE u hAvE trEasurE thE wrOng wAe... up to this pOint.. frEnship hAD tO eNd.. trusTing sOmEonE ish nOt eAsy.. aNd i hAd brOkE My trUst.. Tts wHy i sAE nOthiN caN heLp... i rEali trEAsure this frENship sO muCh.. i aLwAys duN miNd fiNding MonEy.. tO go out On fridAe Nite... aNd sAturdAe nitE.. tO mE.. i tiNk itz abOut lEttin dEM ENjOy.. but to dEm.. ish sUppOsiNgLy.. thEy ArE aCcOmpaNyiNg mE... Isnt it?? bEcOz without me.. lifE gOeS oN in dEMz.. SAMe TO me.. i duNno wAd iM fEeLiNg nOw.. wAd do i wANz?? i duNno ALsOz... i know i duno dun hELp.. but tTs Wad i cAn sAe... i reali reali FeeL likE eNding My lifE.. why ish My chArACtEr likE tt??? wHy do i likE tO liE sO muCh?? i liEd n liEd.. lieD aNd liEd... if i cOntinuE with My lifE.. Mayb i will hurt EvEn morE ppL by lyiNg EvEn morE... i dunno.. i duNno.. but dying dOesNt sOlvE thE prOb... dEn wAd CAn i dO?!?! i ALrEAdy lOsE dEmz.. And wAd A jokE ish.. My lovE fOr Ed ish likE A jokE.. LOl.. mAyb itz ish bAhz.. duNCh eVen knOw wAd im DOing aLso... gEttiNg mOrE n morE cRazy... Mayb i shud cAll wOodbrigdE.. eVen as iM writinG this.. i cAn tELl u.. i duNch EvEn knOw wAd iM writiNg... duNCh evEn know wAd iM fEeLing.. Aiya.. fOrgEt it fOrgEt it... juz fOrgEt EvErythiNgz.. im nOt trying tO lEt ppL pity mE.. but tTs reAlli wAd i feEL iN mE... but whO cAN uNderstAnd?? wHO cAN?!?! tELL mE... but i duNch evEn knOw wAd iN mE... i duN EvEn uNderstAnd.. wHO eLsE cAn?? itz aLwAys withiN mE.. A miNd aNd heArt tT dOeSNt beLong TO me... Itz aLwAys thErE and fOrEvA dEre... sO sicK ANd tirEd.. iM aLwAys lOsing sEnsE iN Wad iM dOing.. wHy ish My lifE aLwAys aLwAys sO uNusuaL frOm OthER?!?! Zzz.....     \n",
            "text:         Ermz... haIz.. tOdAez vEri jiA lat.. heAd vEri vEri vEri vEri gidDy... but othEr dEn tt.. My miNd still wOrk weLLz.... hEaLtHy... Lolz... haiz.. tOdAEz At 1st cAn gO out with hErz dE.. sO hAppiz... 1st tiMe Ask hEr oUt... kEkez... wAiteD wAitEdz... bAthE .. dEn i rEcEivE a sMs frOm her.. tT.. plaN hAs tO bE cAncELz.... hAiz.. wAd to do?? usEd to it liaOz ler... nOt dA 1st tiMe anywAez.. but okaE lar.. cOz i manAgE tO chAT with hEr On dA fOnE tOdAE fOr 5 miN~ took ALl My cOuraGe tO cALL heR~~ bwAhhaa.. hAppi~~ loLz... somemore tOdAE heAd giddy.... Later gO out fAint OutsidE more jiA Lat.. haha... wAiting to Go sEe DoctOr at 6.30pm.. sO cUm hErE writE writE noNseNsEz.. mAyb thiNgs shud juz bE likE tTz... mAyb juz LEAvE things thE wAe it ish nOw... cOz fOr now.. shE wun fOrgEt hErz.... and she will nEva be miNez... For tt i beliEve... tHOugH shE aLwAys sEem iNtErstEd in mE.. i know.. dEep in hEr heArt.. shEs tinking Of her... aLl thE tinking aRe on hEr... nEvA On miNez.. bUt.. iM still hAppy tt.. shEs williNg tO bE My frENz nOrhz... haHaz.... i duN eXpeCt muCh on hEr... juz a fEw sms aNd fOnE Call will mAkE mE vEri vEri hAppy lErz... zhE yaNg jiu gOk ler... eNougH liao lEr.. but like veri hard on her leh.. duNno why..haiz.. erm.. My mother bitE hEr guMz... thE gum all bLOod... so pOor thing.. muz bE vEri veri paiNz... but she laff and saE.. scaRy mAr?! LOL~  my muM Look likE me sia.. aLwAys wAna mAkE surE tt ppL arOund hEr duNch gEt wOrry fOr hEr.. sO thErEs aLwAys sMile On hEr fAce.. but dEep dOwn.. whO knOw thE prObLeM shE fAcing? no oNe knOw.. sAMe As mOi.. LikE mOthEr likE dAugHtEr... kEkez..~~ kkaE.. eNd hEre ler.. well.. thErE goEs My 3rd lOvE pOeMz~~ Zhen Ai, Yin Gai Yong Xin Qu Zu Dong Zhen Qu.. Dan Shi Zai Zheng Shi Cai Qu Xing Dong Zhi Qian, Zui Hao Zhang Kai Yan Jing, Hua Xie Li xiNg De Shi Jian, Kan Kan Dui Fang Shi Fou Zhen De Shi Zhi De Ni Tuo Fu Zhen Xin De Dui Xiang...     \n",
            "text:          urlLink    my fAvOurite cArtooN ChaRaCtEr~~ shOo cutE~&nbsp; urlLink       \n",
            "text:          urlLink           \n",
            "text:          hELo~ baCk aGainz.. haha... eRmz.. its beEn suCh a loNg loNg tiMe i feLt this wAez... to dA One i lovE leRz...reMeMbEring My 1st lOve.. wheNEver.. i sEe hiMz... i will gEt vEri sHy veri sHy ... den everytime hE wAnna tok to mez.. i will ruN likE i sEe A ghOst... loL~.. aCtuaLly cAn bE tOgethEr with My 1st lOvE dez.., but bcOz duEd to My shyneSs.. hE aCtuaLly thOugHt i hAtE hiMz.. Tt wHy eveRytimE hE tOk to mE.. i ruN awAyz... aNd saId tT hE likE me... but i duNch likE hiM~.. hAhaha... LaMe riteZ... sO in dA eNdz... On dA FONe.. we tOld eAach othEr Our fEeLing.. but when aGain n aGainz.. hE ask mE out.. aNd i rEject... cAMe up to mE tO TOk aNd i turN awAyz... hE gOt sO dAMn blOody pisS Off.... hE brOkE with me~..... sAd cAsE ritEz... hAiz... And nOw.. iM fACing thE saME thiNg tO dA gEr i likE nOwz.. loL~.. SEeiNg hEr makE mE sO sHyx... frOm a chAtty mE tO A speEchLeSs mE... hAha.. but i shALL nOt leT histOry rEpeAt itself.. i will jiA YOu jiA yOu..~!!! aNd shOw her.. hOw muCh i lOvE hEr aNd nOt hatE hEr!~!! bwAHahhaa..... still quitE pisSed off WIth my lOst bLog... fArking loNg leHz... dEn bu jiaN ler.. sAd sAd sAd..... =~~ k.. hErE gOeS mY sEcOnd lovE pOeMz... Ai Guo Yi Hou, Ru Guo Xiang Xing Shi Jian ZhoNg Zhong ZhoNg bi chENg koNg.. He Bi Zai Bu Neng Cheng Quan de Gan Jue Li.. Ji Jiao Shu YiNg?? FANG ShOu ZhU fU bAh!!~~!!!!       \n",
            "text:          urlLink     urlLink    wELl... this ish da 2 years gUy... whom i toking aBOut.. if eva u sEe him on dA strEet... rEmembEr him as a basTard.. LOL~~~ =P~ juz joKiNg...     \n",
            "text:         Ermz... baCk aGain.. haHaz... cOz tOo bOring lEr... (tOld u i hAvE no lifE ler..) loLz... *AHeM*.. AfTer a loNg vOmitiNg.. i fEeL bEttA... heAd nOt tt painfuL ler.. loLz~ =X juz heLp My frEN settLe hEr lOvE prOb... hAiz.. shE was cRyiNg like heLl... wAd cAN i do?? caNt evEN sEttLe my Own lOve prob ler.. leT ALone hErs... and i neva love settling ppL love prob.. coz in da end.. i always get the farking BLame... tO it... haO xiN mei hao bao .... siaNz 1/2... iTz aLwAys mE heLping tO solve ppL prOb.. but nO one EvA wANna sOlvE miNez... bUt nOrmaLLy.. fOr a chEerfuL gEr likE mE tO hAvE prOb.. tT prOb muz bE rEaL sEriOus.. tO mAke me stOp sMiLing.. kEke.. aNd after a long thinking.. i realise something.. tt i treasure my frenz too much ler... soo much soo tt itz making everyone suffer... so i reckon.. the next batch of fren im gonna have.. i will neva be serious in da frenship.. i will neva go treasure a frenship anymore.. coz wad happen this past few dae.. make me realise.. the more i dun wanna lose dem.. the more i will lose dem... hAiz... why like tt ?? why ish it always like tt?? the more we treasure something.. the more the faster we wil lose dem... den i realise.. might as well everything also dun treasure.. den i wun lose anithing ler... good idea rite?? haha... no commitment de, no respondsibility de... frenship/relationship.. ish the best way bah.. make ourself happy too.. coz theres no commitment in da frenship.. i can juz leave my frenz anitime i wan.. no commitment de relationship ish even easier.. hAppi hAppi sMs cAll hEr.. wheN i like it.. nOt happi.. heCk carE hEr laRz.... i dun have a respondsibility aniwae.. LOlz... greAt tiNking rite?? this way.. i wun feel so vex and sad liaoz norh.... mayb i shud realli change myself... reali realli shud change myself ler... but aniwae.. im used to it.. so far... all my ex..leave me becoz of another gEr.. wad to do?? coz im not a good person... coz i love dem too much..coz i treasure dem too much.. coz i care too much for dem.. so tts the payback i shud get... for being too good..?? LOLz.... mei you ban fa lar.. life mahz.. foreva like tt dEz.... wAd to do.. lifE goeS on.. tHOuGht of all the wae to die.. but in the end..?? im still here writing this blog.. haha.. LaMe rite?? zZz.. sO for the one whom i love now.. i dun tink i will be able to win his heart.. so juz let things happen the way it shud happen bAhz... to me.. i know.. i neva have da chance to be with her.. but im contented by one small sms by her... keke.. kan lame.. kan lame.. i know i know.. =X but den hor... im someone easily contented mAhz.. wAd tO do?? =X... aLl i wAn nOw ish sOmething onli god can give me.. to make sure all my fren are happy... and i hope god can give me the power to do so...(well, i know.. in my dream).. haha... but if onli(theres goes my if only aGaiN) all my fren are happy.. then how great it will be...aNd.. thE PowEr to knOw wAd she ish tinking.. wAds realli on her miNd!! if i rEAlli had the poweR fOr this... i teL u.. i will rEalli bE cOntENtEd... Life will be more meaningful?? loLz.. Exggratting sia.. but now.. onli she know wad she tinking.. or mayb.. she dun even know wad she tinking.. mayb tt why she cant even tell me wad shes tinking?? if onli she could tell me wads she tinking.. den i no need depend on god liaoz... how good it will bE.. wahha.. guess i tired liaoz.. keep dreaming of those ting tt will neva happen.. loLz.. kkae.. go sLeEp ler.. --thE eNd---hErEs GOeS my sEcOnd lovE pOeMz~~ dO leavE cOmmeNt if u dunno han yu pinyin.. =X Chuo Guo De Ai, Tong Chang Ye Shi Ai De Guo Chuo, Lian Ren Shui Chang Fan de Cuo, Shi Rang Ai Shi Heng.. You Xie Ren, YiN wei Tai Ai Tui fAng Er ShI qU Zhi zi..You Xie Ren.. Jue Ying wEi tAi Ai Zhi Zi Er zhi qU dUi fANg...     \n",
            "text:          Erm.. 1st tiMe writing blogspot.. 1st time writin online dAiry.. hahha... sO mani things happen recently... and cant find anyone to talk to.. or mayb, i dun even feel like tokin about it bah.. wads more to sae.. when it had already happen? no more in explaining.. for tts wad i believe.... the more explanation.. the more u make things complicated... isnt it? i cant even know wad im feeling now.. ish it vex?? or is it sad... wad the diff anywae?? haha.. i realli wish those days wun be gone.. all the if only if only came to my mind... but if only i can if onli... and if only if only can help.. i wun be so vex... well.. im gettin myself blur liaOz.. *^_^*... i shall use work to take up all my time for now bah.. since having off dae also no use... might as well.. work everydae... todae my sales veri good... haha... sold lots of clothes... happy.. but dunno why.. head veri giddy... aRgh!! haiz... feeLing so vex liaoz.. why cant catherine(my collegue) juz leave me alone?? instead... keep telling me her prob... haiz.. i dun wanna knOw!!... how am i suppose to settle her prob for her when i cant even settle mine?? she neva neva understand... all she know ish ask me for help... hAiz.... lucky tomoro Off.. veri headache now.. so write till here...    well.. i will leave a poemz everytime i write my blogspot.. so if ya have ani comment about my poemz... do leave a msg...    dang ai qing jie ru shi, you yi de zhen jia li ke qin chu ke ban.. zhen zheng de hao peng you , shi bei len rou zhi hou, yi yuan yi zu fu ni.. zhen zheng de hao qing ren, shi dong de zhun zhong ni, yi ji ni he peng you zi jian de kuan c.... =)      \n",
            "text:         ...you're the only person that i want holding me right now and the only person i never want touching me again.  I awoke tot he sound of someone falling, my heart raced as i closed my eyes to see who had fallen but i then realized it was i who had fallen, fallen back into reality, my room.         \n",
            "text:         This is the break in the bend, this is the closest of calls. This is the reason you're alone, this is the rise and fall.  If it makes you less sad, I will die by your hand, I hope you find out what you want, I already know what I am.           'Now I believe that lovers should be draped in flowers and laid          entwined together on a bed of clover and left there to sleep,          left there to dream of their happiness.' - Conor Oberst         \n"
          ]
        }
      ]
    },
    {
      "cell_type": "code",
      "metadata": {
        "id": "7zr-EOiM_uyf",
        "outputId": "a51cf16b-a3a1-422b-dd2d-4e9f003e13f0",
        "colab": {
          "base_uri": "https://localhost:8080/",
          "height": 54
        },
        "tags": [
          "outputPrepend"
        ]
      },
      "source": [
        "print(meme_ids)"
      ],
      "execution_count": 18,
      "outputs": [
        {
          "output_type": "stream",
          "name": "stdout",
          "text": [
            "... tOmoro finaLLy Off ler.. cAN haO haO dE shui dAO baOz... prOvidEd my marmA duN naG lar.. kEke... Kk... gO do my thiNg lEr.... hErE GOeS mY lOvE pOeM~...   Su Ting Zhi Zi Nei Xin De Sheng Ying, Liao Jie Dui Fang Zhen Zheng De Gan Jue   Ai De Jie Zhou, Yao Kao Shuang Fang Gong Tong Tiao Zheng, Yi Qi Chang Wo..      ', 124055727], ['       hAiz.. i juz duNch understANd.... why all My frEn keEp quarrELing... frOm peArL.. till My wOrkplaCe dE... yVOnnE.. wAyE wAye.. aNd eLiZabEth... hAiz... im aLwAys fOrce to bE in thE CentEr.. and chOosEz... sI bEi siaNz... sO mAyb i gUess... aLone ish bEttA bAhz... tOdAE fridAE... sALeS likE shit.. zEro ZEro zEro.... siaN sia... why nO saLeS dE... hMph..... wOrk wOrk wOrk.. vEri tirEd.. tOmoro sAtUrdAe.. hOpE tOmoro saLeS will bE vEri gOod.... tOdAe siNg sOng to yAO zhOng... LOlz... On dA fOne with mE fOr abOut... 3 hr?? pOwEr sia..~~ kEke... vEri tirEd tOdaez... Ermz... duNno wAd tO writE neHz.... cOz nOw still oN dA fOne... haHaz... Will bE baCk AgAinz... hErE gOeS mY lOvE pOemz...  Fu Chu Quan Bu De Zhen Xin,    He Bao You Ge Ren De Gong Jian..   Shi Ai Qing De Liang Nan,   Wei You Zhen Xin Ai Guo Yi Hou   Cai Hui Fa Qian, Shuo Wei De Zhen Xin..   Bao Kuo Liu Gei Dui Fang Ge Ren De Kong Jian,   Dan Dui Fang Ye Bi Xu Shi Zhi De Xing Ren De Ren..          ', 124055727], [\"        hAiz... tOdAe wAkE up heAdaChE aGainz.. wAkE up LaTe.. weNt tO wOrk laTe... kENa puNch by thE maNiquEen sOmeMore.. daMn swAy siA... dENz weNT tO buy fOod with wAy wAy... eAt Ljs.. dEn thE maNagEr niaO likE shit... givE 2 paCkEt chilli nIa.. wheN i buy 2 juniOr... kNs.. dEN wENt baCk.. waN tO eAt... aNd wheN i opEN it.. fArking sPoiL mOod.... thE fIsh aND chiCkeN.. likE 2 dAe agO de... sOo coLd.. sOo coLd... givE Up eAting.. weNt tO sMokE WIth YvOnnE... dEN tOk cOck.. weNt baCk tO wOrk... No sALeS tOdAe.. heErEN sOo dA quiEt.. likE ghOsT tOWn.. sI bEI siaNz... aT nitE.. weNt tO buy fOod with yvOnNe... eAt meE rObus.. wHO knOW.. thE meE rObus sOoo hOt!! chiLLi put sOOo muCh... saMbal chilli.. rEd chiLLi.. grEen chilli.. all dA chilli thrOw iNsidE.. givE up eAting aLsOz... haIz... tOdAe i fiNally pLuck up mY cOurAgE tO msg peArL... aNd shE fOrgivE me.. but thE cOnditioN ish.. cANnt hAvE aNi cOntACt with gary.. i aCcEptEd it...weLL.. i havE tO mAkE A chOicE AftEr aLL.. iN dA eNd... siaN 1/2... aT leAst... thiNgs gEttiN bEtTEr... thOugH my sALes gEtting LOusiEr aNd lOusiEr... dAMn siaN aNd tirEd tOdAe.. hAIz... wENt hOme WaTCh vCd.. nOW wAiting fOr my mAMa tO rEtUrn HOme.. sO latE leR.. still duN wAN tO Cum HOme.. HMph... siaN Ar!! bOrEd AR!! fArkiNg hp biLl aLsO cuM $450... pOwEr siA.. duNch EvEN knOw hOw i usE aLsO.. loL~... NExt mOntH pAy.. haLf gOne~~~ LuCky maRmA duNno.. if nOt i diE no oNe bury... kkaE.. gO COntinuE WAtCh my VCd liaOz.. =P~ hErE's tOdAe lOvE pOemz...     Ai Qing Lai De Shi Hou, Wei Le Qu Tuo Dui Fang..Lian Ren Men Chang Qian Fang Bai Ji Gai Bian Zhi Zi..Shen Zhi Wei Qu Qiu Quan.. Zhi Dao Ai Qing Zou Le, Cai Fa Sian Shen Ming De Yi Qie You Te Jia Bei De Nu Li Cai Nen Zhao Hui Zhi Wo...       hAiz... MAyb mAyb... vEri Hard.. tO fiNd yAseLf baCkz... whEn u fAll Out Of lOvE... Out Of A sudDen.. sUddeNLy.. misS my Ex sO muChz.. wHy dId hE hAvE tO dO tt tO me??!?! WhErE hAvE i dOnE wrOng?!?!! ArgHhHhH!!!!! I HATE U!!!! U BLOOdy ANDY LIM!       \", 124055727], ['        tOdAe wAs a vEri vEri sAd aNd sHag dae fOr me.. whEn i wOke up tOdAe.. as i stArEd intO My hp.. wAiting fOr sMs tt will nEvA cuM frOm dA pErsOn i wish... i feLt sO loNeLy.. i feLt sO sAd... i feLt sO strAnge... sO straNge... deN i wEnt to wOrk.. feeLing sO strANgE sO strANge aGain.. reAch My wOrkpLaCe... i brOkE dOwn.. aNd i tHaNks yvOnnE.. wAye wAye aNd ELizAbEth... fOr beiNg derE fOr me... tOking tO mE aNd cOnforting mE... i feLt rEalli tOuChed.. rEalli reALli tOuChed.. but u aLL duNno... hOw much tT frenship meAnt to mE... no mattEr hOw muCh hOw muCh... i cOmplain AbOut thE frEnship... i juz duN wAn to LOse it.. aNd lOsinG it isNt My wIsh... i rEalli duN wANz.... if i wAN it this wAe.. i hAvE eNded it loNg aGO... aNd if i hAd EndEd it lOng aGO.., i wuN bE feeLing sO paiN sO hurt nOw.. by wAd i hAve dOne... tO MyseLf... aNd tO MY frENz... Of cOz.. i cANt Ask hEr tO aCcEpt mE As A frEn nOw... bUt i reAlli hOpe.. OnE dAe... wheN thE tiMe ish ritE fOr hEr.. shE will sMs mE.. aNd ask mE tO bE hEr frEn aGain.. i rEalli hOpE Tt dAE will cuM... mAyb a mOnth.. A yEar... i duN miNd... iM sO tirEd.. abOut thiNgs i hAvE dOnE tO MysELf... but beCOz of mE... CaRiNg And wAnting this frENship sO much.. i hAvE fOrGOttEn... whO i aM... aNd whEreS My sTAnd.. i turN tO bEcOmE A sELfish heArtleSs pErsOn... i reALli hOpE i caN fiNd baCk... myseLf... and bEfOre i caN find baCk mysELf.. i wuN Ask fOr FOrgivEnEss fROm hEr.. aNd hEr frENz.. uNtil iM surE.. i wuN hurt hEr Again.. aNd until shEs surE shE cAN trusT mE aGain.. i tiNk.. itz beSt tt wE duN cOntACt fOr soMe tiMe... mAyb its thE beSt sOlutioN ler.. but i stil hOpE fOr ya forgivEneSs iN tiMe tO cuM.. mY heArt juz duN liNk with My Mouth.. wAd My heArt ish tiNking aNd wAd my heArt ish sAying ish aLwAys not thE sAMe.. i duNno wHy... aNd wheN MY heArt ANd mOuth lInk... Itz juz mAkE mattEr wOrsE... i duNno... thaNks yvOnnE fOr aCcOmpANyiNg mE tOdAe aFtEr wOrk... thaNk u.. Lucky.. iM wOrkinG.. if nOt... i rEalli will gO mad aNd cRazy.. this frENship meANt juz SO much tO mE... tO dEM tOo i gUess.. but i did mAny thiNgs tT hurt hEr sO muCh sO muChz.. iM sOrri.. iM rEalli sOrry., peArLyN... and i knOw sAying sOrry wuN hELp.. BUt tts thE onli thiNg i cAN sAe nOw... i yeaRn tO bE ur fren aGain.. i duNno wADs iN mE.. i rEAlli duNno... aNd i knOw.. i duNno duNch hELp At aLL... but i rEalli duNno wAD tO saE ler...   SOmEonE whOm usEd to haTE My wOrkplaCe... i gUess iM begiNninG tO likE it ALot aLot... aNd iM gLad to fOuNd this jOb.. thaNks pANsy thE mANagEr fOr heLpinG me ALl aLong.. thaNks Mrs LOe for giviNg mE aNothER cHaNce.. thaNks LiLiaN fOr uNderStAnding mE aNd thaNks cAthEriNe fOr CALLing mE dAe aNd nitE to mAkE surE iM OkaE... thaNks EvErYOne.. but i guEss.. i duNch DEsErvE sO muCh.. cOz iM juz A liar.. a liAr ANd A baCkstAbber... whY havE i bEcOmE likE tT??!! wHy.. i hAtE myseLf sO muCh sO muCh... sO bEfOrE i fiNd myseLf baCk.. i gUess.. i prObAbLy.. wuN wAN ANi NeW frENz... aNd nO matTer hOw mAni nEw frENz iM gOnnA hAvE in dA futUre... thEy cAnt wiN thE stAnd pEarLyN hAd iN MY heArt... weLL.. thAts aBOut all dA cRapz.. hAiz...    Ai Qing De Chang Duan, He Xing Fu Wu Kuan   Xiang Ai De Shuang Fang, Cai Shi Xing Fu De Kuan Jian   Zi Shi De Ren, Wu Fa Sheng Chang Ai De Shi Jian   Wu Shi De Ren, Jiu Suan Wu Fa Yong You Yong Hen De Ai Lian   Dan Zhi Shao Bao Liu De Zhi wO...    mAybE cOz iM sO sELfIsh.. i lOst EvEryOne.. ANd tt wHy.. i lOST mYsELf... hAd i nOt beEn sO seLfish.. aT lEast... i will manAgE tO baO Liu Zhi wO bAh.... hAiz.. EvErythiNg ish tOo latE.. tOo laTe ler....       ', 124055727], ['       haHahaha... wAd a joKe i hAd tOdAez... LOl.. i cANt beLiEve it maNz... but dENz.. i knOw wAd thEy meANz... becOz.. iM A fArkEr myseLf.. aNd i knOw it lOng loNg aGOz.. i knOw tT iM A greAt liaRz... vEri gOod At lyiNg... ANd nO oNe trUstEd mE.. weLL.. tTs SOmeThiNg i cANt chaNgEz.... duEd tO My lyiNg.. i hAvE lOsT tOn Of frENz... frOm OnE batCh tO aNothEr... ANd i rEckOn.. b4 i knOw hOw to sTOp tELling lies... i wuN wAN animOrE frEN in My lifE.. cOz i knOw i will lOsE dEM... but i trULy thaNks this 3 frEN Of miNe.. fOr pLanin thiS jokE fOr Me.. if nOt... i wOuLdNt rEaLIse... wAd is hAppeNinG tO mE.. i knOw, i chaNgE aLot.. aLot... i duNno wHy... bUt mAyb tO me.. ish cOz Of hEr.. carE Lots Of hOW shE tiNk Of mE eTC eTc... sO aLwAys Ask ask Ask gAry abOut it... ANd nEvA tink Of thE cOnsEqueNcEs At aLLz.. tT peaRL will b jeALous... sO loNg GAry cAN givE Me a ANswEr abOut wAd iM askiNgz... iM hAppy eNougH.. aNd wuN tink sO mucHz .. but wELLz... Add up tO all.. iM juz beiNg seLfisH oNli.. sO cuM On.. whOs nOt seLfIsh at aLL?? ren bu wei zi, tiaN zhu di mia bAhz.... iN mE.. i oNli tink tT.. sO loNg i duN LOse dEmz... nOthin eLsE matTer.. but by thiNking this wAe... i hAvE hurT dEM oNe by oNe... aNd hAd it not happeN tODAe.. i wOuLdNt EvEn rEaLise... nAn dAO tAi Ai yi gE rEn... ish wrOng?? weLL.. iTz nOt..  but lOvinG thE persOn in A wROng wAy.. iTz wrOng.. loL~!!~ tT why i sAe... duN trEasurE tOo much tO thOsE bEsidE u... COz u gOnnA lOsE ALL At oNcE oNcE u hAvE trEasurE thE wrOng wAe... up to this pOint.. frEnship hAD tO eNd.. trusTing sOmEonE ish nOt eAsy.. aNd i hAd brOkE My trUst.. Tts wHy i sAE nOthiN caN heLp... i rEali trEAsure this frENship sO muCh.. i aLwAys duN miNd fiNding MonEy.. tO go out On fridAe Nite... aNd sAturdAe nitE.. tO mE.. i tiNk itz abOut lEttin dEM ENjOy.. but to dEm.. ish sUppOsiNgLy.. thEy ArE aCcOmpaNyiNg mE... Isnt it?? bEcOz without me.. lifE gOeS oN in dEMz.. SAMe TO me.. i duNno wAd iM fEeLiNg nOw.. wAd do i wANz?? i duNno ALsOz... i know i duno dun hELp.. but tTs Wad i cAn sAe... i reali reali FeeL likE eNding My lifE.. why ish My chArACtEr likE tt??? wHy do i likE tO liE sO muCh?? i liEd n liEd.. lieD aNd liEd... if i cOntinuE with My lifE.. Mayb i will hurt EvEn morE ppL by lyiNg EvEn morE... i dunno.. i duNno.. but dying dOesNt sOlvE thE prOb... dEn wAd CAn i dO?!?! i ALrEAdy lOsE dEmz.. And wAd A jokE ish.. My lovE fOr Ed ish likE A jokE.. LOl.. mAyb itz ish bAhz.. duNCh eVen knOw wAd im DOing aLso... gEttiNg mOrE n morE cRazy... Mayb i shud cAll wOodbrigdE.. eVen as iM writinG this.. i cAn tELl u.. i duNch EvEn knOw wAd iM writiNg... duNCh evEn know wAd iM fEeLing.. Aiya.. fOrgEt it fOrgEt it... juz fOrgEt EvErythiNgz.. im nOt trying tO lEt ppL pity mE.. but tTs reAlli wAd i feEL iN mE... but whO cAN uNderstAnd?? wHO cAN?!?! tELL mE... but i duNch evEn knOw wAd iN mE... i duN EvEn uNderstAnd.. wHO eLsE cAn?? itz aLwAys withiN mE.. A miNd aNd heArt tT dOeSNt beLong TO me... Itz aLwAys thErE and fOrEvA dEre... sO sicK ANd tirEd.. iM aLwAys lOsing sEnsE iN Wad iM dOing.. wHy ish My lifE aLwAys aLwAys sO uNusuaL frOm OthER?!?! Zzz.....     ', 124055727], ['       Ermz... haIz.. tOdAez vEri jiA lat.. heAd vEri vEri vEri vEri gidDy... but othEr dEn tt.. My miNd still wOrk weLLz.... hEaLtHy... Lolz... haiz.. tOdAEz At 1st cAn gO out with hErz dE.. sO hAppiz... 1st tiMe Ask hEr oUt... kEkez... wAiteD wAitEdz... bAthE .. dEn i rEcEivE a sMs frOm her.. tT.. plaN hAs tO bE cAncELz.... hAiz.. wAd to do?? usEd to it liaOz ler... nOt dA 1st tiMe anywAez.. but okaE lar.. cOz i manAgE tO chAT with hEr On dA fOnE tOdAE fOr 5 miN~ took ALl My cOuraGe tO cALL heR~~ bwAhhaa.. hAppi~~ loLz... somemore tOdAE heAd giddy.... Later gO out fAint OutsidE more jiA Lat.. haha... wAiting to Go sEe DoctOr at 6.30pm.. sO cUm hErE writE writE noNseNsEz.. mAyb thiNgs shud juz bE likE tTz... mAyb juz LEAvE things thE wAe it ish nOw... cOz fOr now.. shE wun fOrgEt hErz.... and she will nEva be miNez... For tt i beliEve... tHOugH shE aLwAys sEem iNtErstEd in mE.. i know.. dEep in hEr heArt.. shEs tinking Of her... aLl thE tinking aRe on hEr... nEvA On miNez.. bUt.. iM still hAppy tt.. shEs williNg tO bE My frENz nOrhz... haHaz.... i duN eXpeCt muCh on hEr... juz a fEw sms aNd fOnE Call will mAkE mE vEri vEri hAppy lErz... zhE yaNg jiu gOk ler... eNougH liao lEr.. but like veri hard on her leh.. duNno why..haiz.. erm.. My mother bitE hEr guMz... thE gum all bLOod... so pOor thing.. muz bE vEri veri paiNz... but she laff and saE.. scaRy mAr?! LOL~  my muM Look likE me sia.. aLwAys wAna mAkE surE tt ppL arOund hEr duNch gEt wOrry fOr hEr.. sO thErEs aLwAys sMile On hEr fAce.. but dEep dOwn.. whO knOw thE prObLeM shE fAcing? no oNe knOw.. sAMe As mOi.. LikE mOthEr likE dAugHtEr... kEkez..~~ kkaE.. eNd hEre ler.. well.. thErE goEs My 3rd lOvE pOeMz~~ Zhen Ai, Yin Gai Yong Xin Qu Zu Dong Zhen Qu.. Dan Shi Zai Zheng Shi Cai Qu Xing Dong Zhi Qian, Zui Hao Zhang Kai Yan Jing, Hua Xie Li xiNg De Shi Jian, Kan Kan Dui Fang Shi Fou Zhen De Shi Zhi De Ni Tuo Fu Zhen Xin De Dui Xiang...     ', 124055727], ['        urlLink    my fAvOurite cArtooN ChaRaCtEr~~ shOo cutE~&nbsp; urlLink       ', 119139145], ['        urlLink           ', 100777631], ['        hELo~ baCk aGainz.. haha... eRmz.. its beEn suCh a loNg loNg tiMe i feLt this wAez... to dA One i lovE leRz...reMeMbEring My 1st lOve.. wheNEver.. i sEe hiMz... i will gEt vEri sHy veri sHy ... den everytime hE wAnna tok to mez.. i will ruN likE i sEe A ghOst... loL~.. aCtuaLly cAn bE tOgethEr with My 1st lOvE dez.., but bcOz duEd to My shyneSs.. hE aCtuaLly thOugHt i hAtE hiMz.. Tt wHy eveRytimE hE tOk to mE.. i ruN awAyz... aNd saId tT hE likE me... but i duNch likE hiM~.. hAhaha... LaMe riteZ... sO in dA eNdz... On dA FONe.. we tOld eAach othEr Our fEeLing.. but when aGain n aGainz.. hE ask mE out.. aNd i rEject... cAMe up to mE tO TOk aNd i turN awAyz... hE gOt sO dAMn blOody pisS Off.... hE brOkE with me~..... sAd cAsE ritEz... hAiz... And nOw.. iM fACing thE saME thiNg tO dA gEr i likE nOwz.. loL~.. SEeiNg hEr makE mE sO sHyx... frOm a chAtty mE tO A speEchLeSs mE... hAha.. but i shALL nOt leT histOry rEpeAt itself.. i will jiA YOu jiA yOu..~!!! aNd shOw her.. hOw muCh i lOvE hEr aNd nOt hatE hEr!~!! bwAHahhaa..... still quitE pisSed off WIth my lOst bLog... fArking loNg leHz... dEn bu jiaN ler.. sAd sAd sAd..... =~~ k.. hErE gOeS mY sEcOnd lovE pOeMz... Ai Guo Yi Hou, Ru Guo Xiang Xing Shi Jian ZhoNg Zhong ZhoNg bi chENg koNg.. He Bi Zai Bu Neng Cheng Quan de Gan Jue Li.. Ji Jiao Shu YiNg?? FANG ShOu ZhU fU bAh!!~~!!!!       ', 124055727], ['        urlLink     urlLink    wELl... this ish da 2 years gUy... whom i toking aBOut.. if eva u sEe him on dA strEet... rEmembEr him as a basTard.. LOL~~~ =P~ juz joKiNg...     ', 124055727], ['       Ermz... baCk aGain.. haHaz... cOz tOo bOring lEr... (tOld u i hAvE no lifE ler..) loLz... *AHeM*.. AfTer a loNg vOmitiNg.. i fEeL bEttA... heAd nOt tt painfuL ler.. loLz~ =X juz heLp My frEN settLe hEr lOvE prOb... hAiz.. shE was cRyiNg like heLl... wAd cAN i do?? caNt evEN sEttLe my Own lOve prob ler.. leT ALone hErs... and i neva love settling ppL love prob.. coz in da end.. i always get the farking BLame... tO it... haO xiN mei hao bao .... siaNz 1/2... iTz aLwAys mE heLping tO solve ppL prOb.. but nO one EvA wANna sOlvE miNez... bUt nOrmaLLy.. fOr a chEerfuL gEr likE mE tO hAvE prOb.. tT prOb muz bE rEaL sEriOus.. tO mAke me stOp sMiLing.. kEke.. aNd after a long thinking.. i realise something.. tt i treasure my frenz too much ler... soo much soo tt itz making everyone suffer... so i reckon.. the next batch of fren im gonna have.. i will neva be serious in da frenship.. i will neva go treasure a frenship anymore.. coz wad happen this past few dae.. make me realise.. the more i dun wanna lose dem.. the more i will lose dem... hAiz... why like tt ?? why ish it always like tt?? the more we treasure something.. the more the faster we wil lose dem... den i realise.. might as well everything also dun treasure.. den i wun lose anithing ler... good idea rite?? haha... no commitment de, no respondsibility de... frenship/relationship.. ish the best way bah.. make ourself happy too.. coz theres no commitment in da frenship.. i can juz leave my frenz anitime i wan.. no commitment de relationship ish even easier.. hAppi hAppi sMs cAll hEr.. wheN i like it.. nOt happi.. heCk carE hEr laRz.... i dun have a respondsibility aniwae.. LOlz... greAt tiNking rite?? this way.. i wun feel so vex and sad liaoz norh.... mayb i shud realli change myself... reali realli shud change myself ler... but aniwae.. im used to it.. so far... all my ex..leave me becoz of another gEr.. wad to do?? coz im not a good person... coz i love dem too much..coz i treasure dem too much.. coz i care too much for dem.. so tts the payback i shud get... for being too good..?? LOLz.... mei you ban fa lar.. life mahz.. foreva like tt dEz.... wAd to do.. lifE goeS on.. tHOuGht of all the wae to die.. but in the end..?? im still here writing this blog.. haha.. LaMe rite?? zZz.. sO for the one whom i love now.. i dun tink i will be able to win his heart.. so juz let things happen the way it shud happen bAhz... to me.. i know.. i neva have da chance to be with her.. but im contented by one small sms by her... keke.. kan lame.. kan lame.. i know i know.. =X but den hor... im someone easily contented mAhz.. wAd tO do?? =X... aLl i wAn nOw ish sOmething onli god can give me.. to make sure all my fren are happy... and i hope god can give me the power to do so...(well, i know.. in my dream).. haha... but if onli(theres goes my if only aGaiN) all my fren are happy.. then how great it will be...aNd.. thE PowEr to knOw wAd she ish tinking.. wAds realli on her miNd!! if i rEAlli had the poweR fOr this... i teL u.. i will rEalli bE cOntENtEd... Life will be more meaningful?? loLz.. Exggratting sia.. but now.. onli she know wad she tinking.. or mayb.. she dun even know wad she tinking.. mayb tt why she cant even tell me wad shes tinking?? if onli she could tell me wads she tinking.. den i no need depend on god liaoz... how good it will bE.. wahha.. guess i tired liaoz.. keep dreaming of those ting tt will neva happen.. loLz.. kkae.. go sLeEp ler.. --thE eNd---hErEs GOeS my sEcOnd lovE pOeMz~~ dO leavE cOmmeNt if u dunno han yu pinyin.. =X Chuo Guo De Ai, Tong Chang Ye Shi Ai De Guo Chuo, Lian Ren Shui Chang Fan de Cuo, Shi Rang Ai Shi Heng.. You Xie Ren, YiN wei Tai Ai Tui fAng Er ShI qU Zhi zi..You Xie Ren.. Jue Ying wEi tAi Ai Zhi Zi Er zhi qU dUi fANg...     ', 124055727], ['        Erm.. 1st tiMe writing blogspot.. 1st time writin online dAiry.. hahha... sO mani things happen recently... and cant find anyone to talk to.. or mayb, i dun even feel like tokin about it bah.. wads more to sae.. when it had already happen? no more in explaining.. for tts wad i believe.... the more explanation.. the more u make things complicated... isnt it? i cant even know wad im feeling now.. ish it vex?? or is it sad... wad the diff anywae?? haha.. i realli wish those days wun be gone.. all the if only if only came to my mind... but if only i can if onli... and if only if only can help.. i wun be so vex... well.. im gettin myself blur liaOz.. *^_^*... i shall use work to take up all my time for now bah.. since having off dae also no use... might as well.. work everydae... todae my sales veri good... haha... sold lots of clothes... happy.. but dunno why.. head veri giddy... aRgh!! haiz... feeLing so vex liaoz.. why cant catherine(my collegue) juz leave me alone?? instead... keep telling me her prob... haiz.. i dun wanna knOw!!... how am i suppose to settle her prob for her when i cant even settle mine?? she neva neva understand... all she know ish ask me for help... hAiz.... lucky tomoro Off.. veri headache now.. so write till here...    well.. i will leave a poemz everytime i write my blogspot.. so if ya have ani comment about my poemz... do leave a msg...    dang ai qing jie ru shi, you yi de zhen jia li ke qin chu ke ban.. zhen zheng de hao peng you , shi bei len rou zhi hou, yi yuan yi zu fu ni.. zhen zheng de hao qing ren, shi dong de zhun zhong ni, yi ji ni he peng you zi jian de kuan c.... =)      ', 124055727], [\"       ...you're the only person that i want holding me right now and the only person i never want touching me again.  I awoke tot he sound of someone falling, my heart raced as i closed my eyes to see who had fallen but i then realized it was i who had fallen, fallen back into reality, my room.         \", 222403160], [\"       This is the break in the bend, this is the closest of calls. This is the reason you're alone, this is the rise and fall.  If it makes you less sad, I will die by your hand, I hope you find out what you want, I already know what I am.           'Now I believe that lovers should be draped in flowers and laid          entwined together on a bed of clover and left there to sleep,          left there to dream of their happiness.' - Conor Oberst         \", 119139145]]\n"
          ]
        }
      ]
    },
    {
      "cell_type": "code",
      "execution_count": 21,
      "metadata": {},
      "outputs": [],
      "source": [
        "import pickle\n",
        "output = open('./pickles/meme_ids.pkl', 'wb')\n",
        "pickle.dump(meme_ids, output)"
      ]
    },
    {
      "cell_type": "code",
      "metadata": {
        "id": "I0EAhepG9QNg"
      },
      "source": [
        "import pandas as pd\n",
        "datafile = \"datasets/Dataset Knowledge Graph.xlsx\"\n",
        "xls = pd.ExcelFile(datafile)\n",
        "memes = pd.read_excel(xls, 'memes')\n",
        "\n",
        "outs=[]\n",
        "for meme_id in meme_ids:\n",
        "  i=0\n",
        "  for memeid in memes[\"Imgflip_ID\"]:\n",
        "    if memeid == meme_id[1]:\n",
        "      u=i\n",
        "    i+=1\n",
        "  link=memes[\"template_image\"][u]\n",
        "  meme_id.append(link)\n",
        "  outs.append(meme_id)"
      ],
      "execution_count": 19,
      "outputs": []
    },
    {
      "cell_type": "code",
      "metadata": {
        "id": "MxTEcMX9-PBX",
        "outputId": "13356df5-1023-44a1-a6ab-c74e1585db24",
        "colab": {
          "base_uri": "https://localhost:8080/",
          "height": 1000
        }
      },
      "source": [
        "\n",
        "from IPython.display import Image\n",
        "from IPython.core.display import HTML \n",
        "for l in outs:\n",
        "  print(l[0])\n",
        "  display(Image(url= l[2],width=250, height=250))"
      ],
      "execution_count": 20,
      "outputs": [
        {
          "output_type": "stream",
          "name": "stdout",
          "text": [
            "           Yatta!  I fixed the blog template!  Single-handedly! You must now all bow down to Nicole as she nearly died from frustration while fixing everything.  =_= I know absolutely nothing about computers but I have WON! BWAHHAHAAHHAHHAHAHAHA!  Take that, crappy Blogger template!  Wohohohohoho! >:D *rides off into the sunset*          \n"
          ]
        },
        {
          "output_type": "display_data",
          "data": {
            "text/plain": "<IPython.core.display.Image object>",
            "text/html": "<img src=\"https://imgflip.com/s/meme/Yall-Got-Any-More-Of-That.jpg\" width=\"250\" height=\"250\"/>"
          },
          "metadata": {}
        },
        {
          "output_type": "stream",
          "name": "stdout",
          "text": [
            "           i saw our blog and it's really wierd...it says angelfire all over the place...our blog is so messed         \n"
          ]
        },
        {
          "output_type": "display_data",
          "data": {
            "text/plain": "<IPython.core.display.Image object>",
            "text/html": "<img src=\"https://imgflip.com/s/meme/Is-This-A-Pigeon.jpg\" width=\"250\" height=\"250\"/>"
          },
          "metadata": {}
        },
        {
          "output_type": "stream",
          "name": "stdout",
          "text": [
            "           Whoa, dude.  They've completely re-formatted blogger.com.  Hoho!  This is funkylicious!  I'm getting dizzy from all these new pretty colours...@_@         \n"
          ]
        },
        {
          "output_type": "display_data",
          "data": {
            "text/plain": "<IPython.core.display.Image object>",
            "text/html": "<img src=\"https://imgflip.com/s/meme/Yall-Got-Any-More-Of-That.jpg\" width=\"250\" height=\"250\"/>"
          },
          "metadata": {}
        },
        {
          "output_type": "stream",
          "name": "stdout",
          "text": [
            "           I'm starting to study for exams now so i'm hardly on the computer except for fri. sat. sun. so i dont know if i would be able to play gunbound that often..but i can try..i still need to ask my mom if i can download it though..must sleepp.....ack.         \n"
          ]
        },
        {
          "output_type": "display_data",
          "data": {
            "text/plain": "<IPython.core.display.Image object>",
            "text/html": "<img src=\"https://imgflip.com/s/meme/Blank-Nut-Button.jpg\" width=\"250\" height=\"250\"/>"
          },
          "metadata": {}
        },
        {
          "output_type": "stream",
          "name": "stdout",
          "text": [
            "           I can't believe I'm the only girl in TFS that plays Ragnarok Online and Gunbound.  I need someone to play with!  Waaaah!  I'm also one of the few(and proud)geeky anime fans at school(though Daniel would never call himself as geeky and obsessive as me in anime).  In short, ANYONE please play with me!  My account on Ragnarok Online is called Lady Capulet (The name of ultimate geekiness i know).  My account on Gunbound is called Erline.  Help!         \n"
          ]
        },
        {
          "output_type": "display_data",
          "data": {
            "text/plain": "<IPython.core.display.Image object>",
            "text/html": "<img src=\"https://imgflip.com/s/meme/Is-This-A-Pigeon.jpg\" width=\"250\" height=\"250\"/>"
          },
          "metadata": {}
        },
        {
          "output_type": "stream",
          "name": "stdout",
          "text": [
            "           Have I been abandoned on this blog now?  Am I the only survivor?  Come on, guys.  Adam, Dana, Daniel, Chris, David, Olivia, Simone, Jenny, Marc-Adam, Michelle!  This blog has a total of 11 members (including me in that count) and no one is posting?  We've pulled through grade 7 together on this blog.  Let's finish up grade 8 in a grand flourish to show our dedication to this blog.  I can't believe some people just joined and never posted up a single thing.  >:( I'm afraid I can't let anyone be able to be proud of being on this blog if they never post.  You can't just join for the sake of bragging that you're on this site.  You have to help somehow to help it grow and blossom.  >_ :D         \n"
          ]
        },
        {
          "output_type": "display_data",
          "data": {
            "text/plain": "<IPython.core.display.Image object>",
            "text/html": "<img src=\"https://imgflip.com/s/meme/Yall-Got-Any-More-Of-That.jpg\" width=\"250\" height=\"250\"/>"
          },
          "metadata": {}
        },
        {
          "output_type": "stream",
          "name": "stdout",
          "text": [
            "           Daniel joined the blog but it seems like he has nothing to say...*sigh*  we are the only survivors, Dana!  Wahahahah!  We have triumphed!  Well...not really..-_-         \n"
          ]
        },
        {
          "output_type": "display_data",
          "data": {
            "text/plain": "<IPython.core.display.Image object>",
            "text/html": "<img src=\"https://imgflip.com/s/meme/Yall-Got-Any-More-Of-That.jpg\" width=\"250\" height=\"250\"/>"
          },
          "metadata": {}
        },
        {
          "output_type": "stream",
          "name": "stdout",
          "text": [
            "           Nicole dude.  You are an utter complete genius.  All hail Nikki.All hail Nikki..ah..no. jks..I was recently lookin over the letters that people gave me for march break last year in grade 7 and they are sooooo funny.joy joy.         \n"
          ]
        },
        {
          "output_type": "display_data",
          "data": {
            "text/plain": "<IPython.core.display.Image object>",
            "text/html": "<img src=\"https://imgflip.com/s/meme/Yall-Got-Any-More-Of-That.jpg\" width=\"250\" height=\"250\"/>"
          },
          "metadata": {}
        },
        {
          "output_type": "stream",
          "name": "stdout",
          "text": [
            "           Its been a while since i said anything on this blog. Blogger has changed alot since i was last on it          \n"
          ]
        },
        {
          "output_type": "display_data",
          "data": {
            "text/plain": "<IPython.core.display.Image object>",
            "text/html": "<img src=\"https://imgflip.com/s/meme/Is-This-A-Pigeon.jpg\" width=\"250\" height=\"250\"/>"
          },
          "metadata": {}
        },
        {
          "output_type": "stream",
          "name": "stdout",
          "text": [
            "           Why is he such a donkey fart? Today was Tennis finales.  I played for games and won 2 of them...the others were a complete bummer..I dont know if TFS came in 3rd or 4th...either one of hem..i dont really know which one cuz i left while a doubles team was still playing..We werent 1st which is  double bummer but at least we're still getting pizza..MUHAHAH to you all         \n"
          ]
        },
        {
          "output_type": "display_data",
          "data": {
            "text/plain": "<IPython.core.display.Image object>",
            "text/html": "<img src=\"https://imgflip.com/s/meme/Yall-Got-Any-More-Of-That.jpg\" width=\"250\" height=\"250\"/>"
          },
          "metadata": {}
        },
        {
          "output_type": "stream",
          "name": "stdout",
          "text": [
            "           David is a stupid donkey fart.  He's also a fruitcake. I rest my case.         \n"
          ]
        },
        {
          "output_type": "display_data",
          "data": {
            "text/plain": "<IPython.core.display.Image object>",
            "text/html": "<img src=\"https://imgflip.com/s/meme/Blank-Nut-Button.jpg\" width=\"250\" height=\"250\"/>"
          },
          "metadata": {}
        },
        {
          "output_type": "stream",
          "name": "stdout",
          "text": [
            "           Bahahahah!  I made a sort of anime character blog.  Olivia has joined too.  I hope Christina can as well.  I'm playing Haruno Sakura from Naruto, Olivia is Miyazawa Yukino from Kare Kano and...and...well, i'm not even sure if Christina will join.  Woohoo!  This is ultimate animefan geekiness!  lol the address is: riceballtrio.blogspot.com         \n"
          ]
        },
        {
          "output_type": "display_data",
          "data": {
            "text/plain": "<IPython.core.display.Image object>",
            "text/html": "<img src=\"https://imgflip.com/s/meme/Is-This-A-Pigeon.jpg\" width=\"250\" height=\"250\"/>"
          },
          "metadata": {}
        },
        {
          "output_type": "stream",
          "name": "stdout",
          "text": [
            "           Just two more exams....french and science...brignoli is my death subject....chocolate chips are yummy.  yes..i know..i  AM  slightly going crazy.         \n"
          ]
        },
        {
          "output_type": "display_data",
          "data": {
            "text/plain": "<IPython.core.display.Image object>",
            "text/html": "<img src=\"https://imgflip.com/s/meme/Blank-Nut-Button.jpg\" width=\"250\" height=\"250\"/>"
          },
          "metadata": {}
        },
        {
          "output_type": "stream",
          "name": "stdout",
          "text": [
            "           I have just seen the Triplets of Belleville.  It is the cheeseeness of cheese.  It is pure, utter, CRAP.  There is no friggen dialogue in that thing that these people call 'movies'.  Say it with me now 'M-O-V-I-E-S' I am ever so pissed.         \n"
          ]
        },
        {
          "output_type": "display_data",
          "data": {
            "text/plain": "<IPython.core.display.Image object>",
            "text/html": "<img src=\"https://imgflip.com/s/meme/Yall-Got-Any-More-Of-That.jpg\" width=\"250\" height=\"250\"/>"
          },
          "metadata": {}
        },
        {
          "output_type": "stream",
          "name": "stdout",
          "text": [
            "           Dana is now feeling :  urlLink               \n"
          ]
        },
        {
          "output_type": "display_data",
          "data": {
            "text/plain": "<IPython.core.display.Image object>",
            "text/html": "<img src=\"https://imgflip.com/s/meme/Is-This-A-Pigeon.jpg\" width=\"250\" height=\"250\"/>"
          },
          "metadata": {}
        },
        {
          "output_type": "stream",
          "name": "stdout",
          "text": [
            "           lol!  I hate those now...so pointless..anyways, i gave up on blogger (too hard to format for me).  My journal is now on livejournal.  Here's the link:  http://www.livejournal.com/~saeka         \n"
          ]
        },
        {
          "output_type": "display_data",
          "data": {
            "text/plain": "<IPython.core.display.Image object>",
            "text/html": "<img src=\"https://imgflip.com/s/meme/Is-This-A-Pigeon.jpg\" width=\"250\" height=\"250\"/>"
          },
          "metadata": {}
        },
        {
          "output_type": "stream",
          "name": "stdout",
          "text": [
            "       Had a pleasant night with the family. Trevor's paperwork from the doctors and hospitals came however, so we were a little down. I think that Bill is having a harder time with it then he will admit as the papers brought him to tears last night. All I can do it hold him as we're both going through the same thing. Losing a child is never something I want to have to go through again. Looking at Teagan brightens both of our thoughts though so that is a help for sure. Yesterday I did pretty ok I guess. I had some oatmeal for breakfast, then some beef stroganoff for lunch, then 3 chocolate chip cookies at school while we dropped off some paperwork because I promised Teagan a snack and well I couldn't help myself but to get myself some as well. Then I had some tuna and cheese pasta salad for dinner. Then I had a Reese's that Bill brought me, and some potatoes with cheese. I really need to have a talk with him about not bringing me junk like that. I know he does it just to be sweet and doesn't think much of it but he sure brings a lot of junk into the house that I can't seem to turn away from. Also been feeling guilty about the amount of snacking I let Teagan do as I don't want him to have the same problems as I do. I missed my therapy session last night because I had to work. However after talking to an old support group buddy yesterday she has changed all of her eating habits on her own just by focusing on herself more and realizing what her problems are. Perhaps I could do that with my Prozac and not paying some lady to listen. Who knows. Perhaps I just don't want to go back. I just hate having to rely on Prozac and a therapist to feel like I can fix my problems. Why can't I just fix them on my own? I think I'm going to try Weight Watchers to see if that helps me stay on track. Just for the accountability and the ideas of healthy cooking. I'm having a hard time coming up with healthy things to cook all the time so it's just easier to revert to my old ways.         \n"
          ]
        },
        {
          "output_type": "display_data",
          "data": {
            "text/plain": "<IPython.core.display.Image object>",
            "text/html": "<img src=\"https://imgflip.com/s/meme/Bernie-I-Am-Once-Again-Asking-For-Your-Support.jpg\" width=\"250\" height=\"250\"/>"
          },
          "metadata": {}
        },
        {
          "output_type": "stream",
          "name": "stdout",
          "text": [
            "       Well it was my birthday so I allowed myself to have 2 peices of cake and not feel guilty. Although, now that I look back I am feeling guilty lol. Anyhow, with me being at work all weekend I really ate a lot better. I had some slips, but that's ok. I am a bit nervous about getting bored at work and wanting to eat from the vending machine because on Sunday things are pretty slow there so there is a lot of down time where we can just dink around on the internet; however I got bored and went straight for the vending machine. So I've got to leave the money at home so I can't do that. I think that's a good solution. When I bring something to eat for lunch though I'm amazed at how full I feel when I'm busy and not focusing on food. My surgery actually is working if I would allow it. If I could just get control over my brain. I have therapy tonight but need to reschedule because I have to work. Although now that I have a lot going on it doesn't seem to be something I want to do now. Perhaps I don't need therapy, I know I do but I don't want to go. How's that? I sure don't want to take that hour that I could be spending with my family and spend it lying on the couch listening to her tell me what to do to fix my problems cause I think they're unfixable. I can't find her phone number anywhere to reschedule so hopefully she calls me to verify my appointment. Don't really feel too much different being 26, just feel like I should have more of myself figured out as I'm getting a little older. Hubby's birthday is the day after tomorrow and he's gonig to be 30 I wonder how much of himself he has figured out. They say you're supposed to really grow up at age 30 so I'm anxious to see if it actually happens with him cause he doesn't have much growing up left to do just in the finances department.          \n"
          ]
        },
        {
          "output_type": "display_data",
          "data": {
            "text/plain": "<IPython.core.display.Image object>",
            "text/html": "<img src=\"https://imgflip.com/s/meme/Bernie-I-Am-Once-Again-Asking-For-Your-Support.jpg\" width=\"250\" height=\"250\"/>"
          },
          "metadata": {}
        },
        {
          "output_type": "stream",
          "name": "stdout",
          "text": [
            "       It's amazing how little I actually need to eat when I'm not thinking of food. Today was my first day at work and I had a breakfast burrito for breakfast, then a vegetable soup for lunch, bag of mm's and then dinner and some snacks after that. I wasn't bored so I wasn't in there looking for food. I was thinking about it the whole time I was at work though hence the mm's. I didn't really crave them just felt like I was being too good so I had to sabotauge it in some way. Maybe that's my problem perhaps I won't let myself succeed. It was a great day though. My first day working in almost 3 years and I felt so good. I did miss my husband and son but it sure was neat to come home to them after a day at work. I truly am blessed with a fabulous husband and a wonderful son. My husband deserves so much more thanks then I can ever give him. I came home to a clean house and laundry done. Although he's banned from laundry cause all my new clothes need special wash instructions and he never pays attention to that lol Went shopping yesterday for clothes and it was so fun. I kept looking in the mirror thinking why would want to wreck this? Why would you want to go back to buying huge clothes that are not fun to pick out and ruin this body I've worked to get. Damn I've done a good thing and just seem to want to wreck it but I'm determined not to let food take me over again. I'm trying.         \n"
          ]
        },
        {
          "output_type": "display_data",
          "data": {
            "text/plain": "<IPython.core.display.Image object>",
            "text/html": "<img src=\"https://imgflip.com/s/meme/Bernie-I-Am-Once-Again-Asking-For-Your-Support.jpg\" width=\"250\" height=\"250\"/>"
          },
          "metadata": {}
        },
        {
          "output_type": "stream",
          "name": "stdout",
          "text": [
            "       Another lazy day here at the house. I'm still in my pajamas and Teagan doesn't even want to get dressed so he's just in a diaper. Feeling bummed I'm going to miss the circus day with Bill and Teagan tomorrow, but oh well. Had another snacky night, but so far today I've not had a desire to overeat and the small temptations that have come in I've been able to ignore today. It's weird how it changes so much from day to day. I had 1/2 bowl of cereal for breakfast and then for a snack I had some celery with peanut butter. That was good lemme tell ya. And since then I had one urge to just grab something but it went away quickly so I didn't pay it much notice. I wonder why that was so easy to ignore today but in the evenings it's near impossible to ignore. I don't get it. Last night my weakness was Doritos that I had bought at the dollar store and some ice cream Bill brought home from Culver's. You know it's kinda starting to piss me off that he doesn't pay more attention to what he brings in the house. He knows I'm struggling with my temptations so why would he bring ice cream home? I think it's cause he truly doesn't understand what I'm going through. Either that or he just thinks I'd like the treat and it's only one. Who knows but we don't make the greatest pair when it comes to our food problems. Maybe I should tell him not to bring temptation into the house but I think it's the only thing he knows to do to try and cheer me up or do something special for me and gosh forbid he sit down and think of some new way to brighten my day. Who knows, but I don't need the extra temptation. That ice cream he got me is going to last for days so I'm just going to struggle every day to fight it off and then end up eating it. In fact I think I'll go get some now.          \n"
          ]
        },
        {
          "output_type": "display_data",
          "data": {
            "text/plain": "<IPython.core.display.Image object>",
            "text/html": "<img src=\"https://imgflip.com/s/meme/Blank-Nut-Button.jpg\" width=\"250\" height=\"250\"/>"
          },
          "metadata": {}
        },
        {
          "output_type": "stream",
          "name": "stdout",
          "text": [
            "       We had a late night last night. We were up discussing what to do about Teagan and having to go to a babysitter while I'm in class. Neither of us are comfortable with the idea of handing over our only child to a stranger for 8 hours a day. By the end of the night we had decided that I would wait 2 years to go to school and I'd just continue to stay home with Teagan during the day. I was up a long time after Bill fell asleep because not only do we have to worry about what we feel, but we have to make sure we're doing the best thing for Teagan. We hadn't considered what effect it would have on him to be home with me for 5 years in a row. The way he stands at the fence longing to go and play with other kids, or the way he follows the older kids around the neighborhood because they don't want to play with him but he doesn't care. We don't want him growing up and getting beat up all the time cause he's a mamma's boy. After waking up I called Bill at work again and we discussed it further and decided to go ahead and check out some home care places. Luckily the first one I went to this morning I loved. Not only are all her other kids she takes of Teagan's age, but she has tons of animals that he can play with and learn how to be around. The only disadvantage is that she doesn't do anything educational, but I figure he has 12 years of school ahead of him to get educational knowledge, why not let him enjoy his childhood as much as possible. I left him with her for an hour while I ran to an appointment sorta as a trial run and he didn't want to leave when I came to get him so I am feeling pretty good about it. We'll see how I feel the first 8 hour day without him by my side constantly. I sure am glad we decided this way though cause I sure would like to get school over with sooner rather then later.   Last night I did pretty good with my eating I think. We had taco salad for dinner and I just snacked on that all night and since it's mostly meat and vegetables I didn't feel too guilty but of course since I ate on it all night long I still felt guilty. I really think that I am too hard on myself sometimes, but oh well. I also had some clementines too. I woke up this morning feeling rather full so I skipped breakfast but got super hungry around 11 so I don't think I should do that anymore cause then I really wanted to just stuff whatever I could get my hands on in my face and I did with a candy bar. So that wasn't a smart choice to skip breakfast, so I'm going to try to make sure I at least eat something for breakfast every morning.   I'm a little nervous about everything that is coming up. Teagan, school, work and I don't want to fail at any of it so I'm under a bit of stress and I haven't even started. I know I'm smart enough for school, but I still haven't figured out why I'm so lazy so hopefully I get that figured out before I'm bogged down with homework.         \n"
          ]
        },
        {
          "output_type": "display_data",
          "data": {
            "text/plain": "<IPython.core.display.Image object>",
            "text/html": "<img src=\"https://imgflip.com/s/meme/Yall-Got-Any-More-Of-That.jpg\" width=\"250\" height=\"250\"/>"
          },
          "metadata": {}
        },
        {
          "output_type": "stream",
          "name": "stdout",
          "text": [
            "       I kept myself so busy yesterday I barely had time to gorge in my eating, but of course when I came home in the evening and got to watching tv I ate like there was no tomorrow. A cheese tortilla, 2 Clemintines, a few peices of chocolate, 3 packages of fruit snacks. I don't know what my deal is but I wish I could get control of it. Luckily I'll start working in the eveings soon because that seems to be my weakest time. Got registered for my classes yesterday and that'll keep me busy too as I've got 4 classes to keep up with, plus work, plus my family. I am rather pissed though because all the money I'm making from my part time job is just going to go to pay for Teagan to go to pre-school while I'm in school. Damn!          \n"
          ]
        },
        {
          "output_type": "display_data",
          "data": {
            "text/plain": "<IPython.core.display.Image object>",
            "text/html": "<img src=\"https://imgflip.com/s/meme/Is-This-A-Pigeon.jpg\" width=\"250\" height=\"250\"/>"
          },
          "metadata": {}
        },
        {
          "output_type": "stream",
          "name": "stdout",
          "text": [
            "       Of course I spent the evening eating anything I could. Almost cause I know that I shouldn't. It doesn't really make sense, but I'm still doing it. I keep stepping on the scale too and my weight is changing daily which is frustrating cause then when it goes down I tell myself I'm not doing that bad and allow myself to eat some more. I'm registering for school this week so hopefully the busy tasks of school and working part time and my family will keep me away from the food. I thought a lot last night about what I like to do for enjoyment and I just really can't come up with someone other then the computer and laying on the couch being a couch potato. Those don't seem to me like valid things of enjoyment. Who knows. I did however take an hour last night and get on the computer while my son and husband played upstairs and that was just my time, although I was down here feeling guilty for doing so the whole time. Oh well one battle at a time.         \n"
          ]
        },
        {
          "output_type": "display_data",
          "data": {
            "text/plain": "<IPython.core.display.Image object>",
            "text/html": "<img src=\"https://imgflip.com/s/meme/Bernie-I-Am-Once-Again-Asking-For-Your-Support.jpg\" width=\"250\" height=\"250\"/>"
          },
          "metadata": {}
        },
        {
          "output_type": "stream",
          "name": "stdout",
          "text": [
            "       Well today was the first day with the new therapist. To tell the truth I don't even remember her name. I didn't really care cause at the beginning I thought for sure I wouldn't like her. I was shocked to know her knowledge of gastric bypass so I was intrigued. However, most of the session went to talking about ways to help with my son and his behavior, but that's ok because that could help me too. Although I wish she would of given me some type of assignment for the week because I know I'm just going to stuff myself with more food and it seems the more I try, the more food I eat. I wish I could figure out why I eat so much but maybe I already know and just don't want to face the answer. That's probably what it is. Every time I get close to figuring it out I leave the therapist, perhaps I should notice a pattern.   She did ask me some questions that I really didn't have any answers to. Like what do I like to do with my spare time. Well hell I don't know. Ever since I was 17 I've been involved with someone and then became a mother. I've never just been me so how am I supposed to figure out what I like or what type of person I am? I keep saying I want to be a teacher and that's why I continue to try to finish college, but do I really? Why do I want to be? I can't really answer that. I think it's cause it's what I've always thought I'd like and it would require too much thought to think of something new and I'm far too lazy for all that thinking. Or perhaps it's not lazyness but actually the way I am. How am I supposed to figure it out and why do I even have to. I guess maybe I just need some more Prozac.         \n"
          ]
        },
        {
          "output_type": "display_data",
          "data": {
            "text/plain": "<IPython.core.display.Image object>",
            "text/html": "<img src=\"https://imgflip.com/s/meme/Yall-Got-Any-More-Of-That.jpg\" width=\"250\" height=\"250\"/>"
          },
          "metadata": {}
        },
        {
          "output_type": "stream",
          "name": "stdout",
          "text": [
            "       Well figured out why I'm having such a hard time controlling my food intake. I'm pregnant!!! Woohoo! We're so thrilled. Due date is April 28th. Looking forward to that and hoping that everything goes well. I am still going to do Weight Watchers though or I am going to let myself get completely out of control with eating since I have to eat more frequently for the baby. I still need to learn some responsibility so I'm going to do the WW at home program as soon as we can afford it. I got a bad speeding ticket so I think I better pay that first before I get in trouble hehehe. My mom and dad are coming to visit us this weekend and I couldn't be more excited. Teagan is excited too. It's been too long. So that will be fun to have my hang out buddy back. Met a new gal that is quickly becoming a super close friend and so between all of this I've been feeling really good about things. I even stopped taking my Prozac and am still feeling good so I'm hoping I don't need it anymore. So much for the fun clothes though, that's the only part I don't like. Oh well it's well worth it!! Now that I know I'll be having another baby soon I am going to start looking into getting my tummy tuck as soon as the baby is born because I can't stand this skin anymore, especially on my stomach so I'm going to start looking into that. I'll probably have to go back to Colorado for that though because my original surgeon tries to include it with the original surgery so that insurance will cover it so we'll see!!          \n"
          ]
        },
        {
          "output_type": "display_data",
          "data": {
            "text/plain": "<IPython.core.display.Image object>",
            "text/html": "<img src=\"https://imgflip.com/s/meme/Yall-Got-Any-More-Of-That.jpg\" width=\"250\" height=\"250\"/>"
          },
          "metadata": {}
        },
        {
          "output_type": "stream",
          "name": "stdout",
          "text": [
            "       Well I keep gaining and losing the same three pounds for some time now. I don't know if this is how my life will be as a post op but I really want to get down to 155 pounds. I'm so close. I always quit everything though when I get close to acheiving my goal. It seems I can't let myself succeed at anything. Anyway, a friend of mine is sending me some Weight Watcher coupons and I'm hoping I can do that once they come but I'm sure I'll find some excuse not to. Don't I sound pathetic. Met a gal in Wisconsin finally and I had such a great time. I had such a great day. It felt so neat to meet someone and not be worrying about what they were thinking of my size. Instead I was wondering if she was going to kick me out of her house for teasing her too much lol. Teagan had fun with her kids too so it was great all around. Hope to get to see her again soon. She didn't think I was too crazy so that's a plus. I am so addicted to eating fruit lately that it's all I'm eating. Not doing so well with controlling the junk intake lately. Hoping that I get a boost from joining Weight Watchers or something. When I am not too lazy and really try then I do ok but I usually am too lazy to try. I'm just lazy all around lol          \n"
          ]
        },
        {
          "output_type": "display_data",
          "data": {
            "text/plain": "<IPython.core.display.Image object>",
            "text/html": "<img src=\"https://imgflip.com/s/meme/Bernie-I-Am-Once-Again-Asking-For-Your-Support.jpg\" width=\"250\" height=\"250\"/>"
          },
          "metadata": {}
        },
        {
          "output_type": "stream",
          "name": "stdout",
          "text": [
            "       It's been a little while. Seem to have been busier now that I'm working and not as much time to dwell on my failures so haven't had much to say lol. I'm really enjoying my job, and the time that it takes me out of the house and the independance of earning some money. However we came into a large conflict with me going back to school, and working as I just didn't feel that I could give my all to everything. I honestly believe that it's my role in this world to do something with children but I just don't think I want to be a teacher anymore. I think my role with children can be better served with my own child and bringing another child into the world and helping those that are at a disadvantage. Why waste all the money to go to school when I can help kids in a stronger way for free? lol Who knows. I know my mom is going to be pissed when I tell her my decision about school, and so I've been putting it off. Fear. All I've ever wanted to do is make her proud of me and she values school so highly. However, I value kids and my family at the same height she values school so I hope that some day she could understand that from me. With all this on my mind and the business of work and such I haven't been back to therapy. I don't really want to go back actually. I want to know that I'm strong enough to fix this on my own. Or perhaps the Prozac is working again and it's fixing me and I'm not really saying this or really strong enough to be fixing things it's the Prozac. I hate taking that but I'm afraid of what I'll turn into if I don't take it. If I'll turn back to food for my fix all or if I'll just lay in bed all the time and close out my family. I have been doing really well with my eating with all the distractions so I've figured out that is one thing I need to continue rather then turning to food for my entertainment since it's something I know I like in this world where I haven't spent much time trying to figure out what I like, I just need to figure out what I like to do and keep busy. I have some slips at work cause they have that vending machine and I keep getting candy bars. That weakness I haven't quite figured out yet. Some days I don't even care the candy bars are in there but if it's slow at work and there's not much going on then that's all that's on my mind. It's weird how food is involved in my life.          \n"
          ]
        },
        {
          "output_type": "display_data",
          "data": {
            "text/plain": "<IPython.core.display.Image object>",
            "text/html": "<img src=\"https://imgflip.com/s/meme/Bernie-I-Am-Once-Again-Asking-For-Your-Support.jpg\" width=\"250\" height=\"250\"/>"
          },
          "metadata": {}
        },
        {
          "output_type": "stream",
          "name": "stdout",
          "text": [
            "       Ok so I'm 7 weeks pregnant as of Monday, September 8th and I've gained 7 pounds. My lowest weight from the surgery was 166, now add 7 onto that. Egads!!! I feel like such a slosh. My pants are even getting snug. I can't believe 7 pounds can do that. Everyone keeps saying oh just ignore it you're pregnant. Screw that. Pregnant or not I'm only 7 weeks along, no normal person gains that weight. However, I'm scared to cut back on the eating though since the baby doesn't get as much as a normal baby anyhow, so I'm in a mess and it's driving me crazy and making me depressed. I'm back into my mode of trying to sleep all the time, granted I'm tired from the baby, I'm not doing anything around the house. I've just become lazy again so I need to get out of my funk. I gave it a start today by picking up the house a little. I just am so stuck. I mean I could eat healthier foods, but those aren't keeping me full either. I just don't know what to do. If I don't eat every so often I'm getting so sick. They pulled some blood on me yesterday and I asked them to run a blood sugar and a thyroid to see if that gives me any clues as to why I'm so hungry all the time. My shrink keeps calling for me to reschedule. I guess I should call her back but I'm not sure I liked her so much. I just don't know if I should be trying to work on my problems while I'm knocked up and it's driving me nuts. I mean literally it's almost all I think about. I am obsessed with this weight. Sure I could be exercising but what depressed, lazy, tired person wants to do that? Sure as hell not me that's for sure.   Had a really nice time with my parents visiting. Wish there was a way Bill could have his job and we could be close to my family but I don't know how to make that happen so here we sit. I miss my sister a whole bunch too and her phone has been broken so I haven't gotten to talk to her. She's turning 21 on October 18th and now that I'm knocked up I can't go get drunk with her for the first time ever. Sucks!   Hubby gets to go out of town in October and I'm super jealous we can't go on the trip with him. Oh well at least he'll get some time to relax, he deserves it.  So that's it for now I guess.          \n"
          ]
        },
        {
          "output_type": "display_data",
          "data": {
            "text/plain": "<IPython.core.display.Image object>",
            "text/html": "<img src=\"https://imgflip.com/s/meme/Yall-Got-Any-More-Of-That.jpg\" width=\"250\" height=\"250\"/>"
          },
          "metadata": {}
        },
        {
          "output_type": "stream",
          "name": "stdout",
          "text": [
            "       I'm 13 weeks along now. So I'm to the second trimester so I'm terrified now that something will happen to the baby. Every little ache or pain freaks me out, so it's going to be a long trimester. We did get to hear the heartbeat a few days ago and that was very reassuring. Teagan even got a kick out of that. He calls it the hutta hutta. Teagan is pretty much potty trained! Minus a few accidents here and there and sleeping in pull ups he's doing so well. He's getting so big, even told me I pissed him off the other day lol.   I've gone back on the Prozac. I think it's a thing I'm just going to have live with that I need for the rest of my life. I am getting so moody and so horrid and just back in my rut that I knew I needed some help so I started it last week and it'll take a little while to kick in. I can't take them in the morning however due to my morning sickness so I've been taking them at night even though the bottle says in the morning so I'm hoping that's ok.   So we're just trudging along. I've stopped stepping on the scale cause it was too depressing. I'd lost 7 pounds, then gain 2 then lose 5 then gain 6 it just is too much so I don't look at the doctor either. I know the baby needs it so I'm just eating like I should be for the most part. Since I can't keep a whole lot down I just eat what works. I've started dumping on the strangest things these days and I've heard this happens once you are a ways out from the surgery. It sucks. Oh well. Oh and I look pretty goofy getting pregnant with all this skin yeah it's yucky I don't know how Bill gets turned on by all this but he still does so guess I'm good to go.          \n"
          ]
        },
        {
          "output_type": "display_data",
          "data": {
            "text/plain": "<IPython.core.display.Image object>",
            "text/html": "<img src=\"https://imgflip.com/s/meme/Yall-Got-Any-More-Of-That.jpg\" width=\"250\" height=\"250\"/>"
          },
          "metadata": {}
        },
        {
          "output_type": "stream",
          "name": "stdout",
          "text": [
            "       Ahhhh it's been a while I know, so sorry. My pregnancy is 22 weeks along and it's going very well. We are having a girl, so we're thrilled. I am a bit nervous about having a girl but it must be meant to be that I have one! She's been doing so well after what happened with Trevor that I know it's meant to be.   I weigh 178 at my last checkup so that's rather bothersome but I know it's for the baby so I'm trying to ignore it. I don't step on the scale at home at all anymore. I went from 166 to that awful fast so it's kind of a shocker. I don't like it so much at all actually. My pregnant belly doesn't look like a normal one because of the extra skin so it really bothers me, but I try to not focus on it a lot and rather just grab something to eat lol. I've lost all focus on how to eat like a post op and such and I'm not beating myself up about it because I'm pregnant. I have to suffer enough being pregnant so there's no need to make the whole thing miserable with self punishment. After this is over I will be able to have much more control over my body.   Little man is doing so well. He's loving school, and we love having him go. We're hoping in the month of January there will be some more days open for him so he can go a few more days a week. We'll see. He loves it. Right now all he's focused on is what Santa is going to bring him for Christmas, he's dying for a GameCube, and Santa is going to deliver of course! You can definately tell he's my husband's child. He's very much into electronics rather then the regular toys.   That's it for now! I hope everyone reading this has a beautiful and blessed holiday season and much joy in the upcoming year. I can't believe it's 2004 already.         \n"
          ]
        },
        {
          "output_type": "display_data",
          "data": {
            "text/plain": "<IPython.core.display.Image object>",
            "text/html": "<img src=\"https://imgflip.com/s/meme/Yall-Got-Any-More-Of-That.jpg\" width=\"250\" height=\"250\"/>"
          },
          "metadata": {}
        },
        {
          "output_type": "stream",
          "name": "stdout",
          "text": [
            "       Okeydokey; I know it's been a rather long time. I'm going to be 9 months pregnant on Monday and we're dying for this baby to get here. Been a long road. I'm weighing in at 196 as of last Wednesday so I've lost a few pounds in the last week, but that's ok. I was really hoping to not go over 200. I can't wait to not be pregnant any more. My body has been through so much in the last few years I just want to be normal again.   Lil man is in Colorado with his grandparents for a visit while we relax and wait for the baby to come cause she was trying to come early and I was put on bed rest and some medication that makes me super sick to stop the labor. He got tired of the trips to the hospital so we thought it would be the best thing for him. He's having a blast. Bill is anxious for the baby to come as well, it's been a long road for us. Can't wait to get back to 'normal'  I was going to school, but had to put that on hold as well because of the baby trying to come early, so a few of my professors are going to let me finish up after the baby comes so I'll be busy. Not working anymore so that helps.   So that's about it, just waiting for our new addition!!           \n"
          ]
        },
        {
          "output_type": "display_data",
          "data": {
            "text/plain": "<IPython.core.display.Image object>",
            "text/html": "<img src=\"https://imgflip.com/s/meme/Yall-Got-Any-More-Of-That.jpg\" width=\"250\" height=\"250\"/>"
          },
          "metadata": {}
        },
        {
          "output_type": "stream",
          "name": "stdout",
          "text": [
            "       Our bundle of joy is here finally!! Shyla Lee was born on April 22nd at 3:09 pm, weighing in at 7 pounds and measuring 19' long. She was just an inch shorter then her brother. Delivery went well and she's doing just great. She's beautiful. If you want to see pictures you can see my family at http://www.geocities.com/billnjulie2001.  Hubby has been home on vacation for 2 weeks and this is his third. He'll be going back on the 17th and I'm a little nervous about having a full house, but think it'll be fun.   Top weight that I got to during pregnancy was 198 pounds and when I got home from the hospital I weighed 188 and now I fluctuate between 181-183. I was at 166 before I got pregnant with Trevor so I'm hoping to get back down to that. However, I have noticed my hips are wider and I don't know how to fix that. Sure is hard returning to cutting back on my food intake I'll tell you that much.   Well the little one is awake so I must go!!  Julie         \n"
          ]
        },
        {
          "output_type": "display_data",
          "data": {
            "text/plain": "<IPython.core.display.Image object>",
            "text/html": "<img src=\"https://imgflip.com/s/meme/Is-This-A-Pigeon.jpg\" width=\"250\" height=\"250\"/>"
          },
          "metadata": {}
        },
        {
          "output_type": "stream",
          "name": "stdout",
          "text": [
            "          Well here we sit waiting to find out what my husband's kidney biopsy reveals and we're just hoping that it is something that can be fixed. It baffles me how we just keep running into problem after problem. Luckily, we've been fortunate to find some good friends in Wisconsin so that we don't go through it alone. Teagan seems to be feeling the stress too as he's acting out pretty badly, but we're trying to go easy on him. Hopefully it's over soon. So just wanted to whine about that, and also wanted to whine that it's hot out. Yeck!!             \n"
          ]
        },
        {
          "output_type": "display_data",
          "data": {
            "text/plain": "<IPython.core.display.Image object>",
            "text/html": "<img src=\"https://imgflip.com/s/meme/Yall-Got-Any-More-Of-That.jpg\" width=\"250\" height=\"250\"/>"
          },
          "metadata": {}
        },
        {
          "output_type": "stream",
          "name": "stdout",
          "text": [
            "         Well I had to reschedule the darn appointment for the plastic surgeon, but that's ok, it can wait, not like I'm losing weight like water over here or anything. Hubby is too sick for me to have to take time off from the house to recover from a surgery. He's getting his biopsy done this week, so we're hoping for good news. Sure would like SOME good news, really starting to think that Wisconsin is bad luck for us, but that's ok as a family we can handle anything. Having a rough time with Teagan and his attitude lately so it's been kind of stressful around here. Shyla doing great though. Later! \n"
          ]
        },
        {
          "output_type": "display_data",
          "data": {
            "text/plain": "<IPython.core.display.Image object>",
            "text/html": "<img src=\"https://imgflip.com/s/meme/Yall-Got-Any-More-Of-That.jpg\" width=\"250\" height=\"250\"/>"
          },
          "metadata": {}
        },
        {
          "output_type": "stream",
          "name": "stdout",
          "text": [
            "          Ugh you'd think after all that I've put my body through to get thinner that I'd eventually have figured out why food is so much a part of my life, but yet I have not. Here I sit as I'm thinking, thinking, thinking about food and I can't stop. It consumes my day!! No matter how busy I am with the kids all I think about is what I can eat. Was supposed to be doing South Beach with a friend of mine to get some of this baby weight off and the first day I blew it. I swear it consumes my life. Then when I do give in and eat something I feel guilty and then I think screw it. Oh what frustration! I thought having the gb surgery would help this, but after doing a lot of research and talking to many in support groups after 2 years a lot of people that have had the surgery go through realizing the the surgery didn't fix anything, it was just another quick fix that you can mess up like any other diet. Would I do it again? Probably because it was nice being skinny for the short time that I was. I'm not as huge as I was right now by all means, but if I keep eating this way I'll get there. I thought the malabsorption would help control that but it doesn't. Nobody knew the long term effects of the surgery when I had it because it was new and not many people had it long enough to see what it does.   \n"
          ]
        },
        {
          "output_type": "display_data",
          "data": {
            "text/plain": "<IPython.core.display.Image object>",
            "text/html": "<img src=\"https://imgflip.com/s/meme/Yall-Got-Any-More-Of-That.jpg\" width=\"250\" height=\"250\"/>"
          },
          "metadata": {}
        },
        {
          "output_type": "stream",
          "name": "stdout",
          "text": [
            "       hAiz... tOdAe My Off dAe.. but cANnot fiNd aNioNe tO gO out wIthz... wHy... bcOz my Onli frEnz has Left mE.. sO WhoLe dAe... sTay At hOme.. sLeEp aNd sLeEp.. wAkE up dEn gO dOwnstAir... La kOpi MyseLff... rEad nEWspApEr.. loLz.. dEn gO hoMe sLeep AgaiNz... wakE up wAtCh vCd.. sOo bOrinG.. but nEvA miNd lAr... At leAst SavE mOneY.. haHahaa....but i knOwz.... frOm tOdAe OnwArd... my Off dAe will bE likE this liaOz.... but aLsO gOod CAn rEst At hOme.. sOrri tOdAe nO lovE PoeMz... havEnt tiNk Of One... kEke.... LifE sO borinG... gO plAy gAMes liaOz~~ tAtA...     \n"
          ]
        },
        {
          "output_type": "display_data",
          "data": {
            "text/plain": "<IPython.core.display.Image object>",
            "text/html": "<img src=\"https://imgflip.com/s/meme/Yall-Got-Any-More-Of-That.jpg\" width=\"250\" height=\"250\"/>"
          },
          "metadata": {}
        },
        {
          "output_type": "stream",
          "name": "stdout",
          "text": [
            "        Erm.. loNg loNg no writE bLog liaOz... busy eNtErtAininG tt idIot.. yZ... loL~ =X i did sOmEthiNg tO My bOth frENz..peArL aNd gAry..  iM sOrry i hUrt u iN suCh wAe... but i rEALly duN wANna sEe u aLL keEp quArreLing aBOut mE.. peArL keEp misuNderstAndinG... gAry keEp tryiNg tO ExplAIn.. iM siCk aNd tirEd Of ALL tT.... i juz cANt beAr tO sEe thE bOth Of u sUffEr.. mAyb tO bOth of u nOw... iM vEri seLfisHz... iM tryiNg to gAin pitY.. i duN miNd wAdeVa u sAE... sO loNg AS i knOw wAd iM dOing.. wELL i guess.. tTs eNOugH.. aT leAst... At thE vEri leAst... u all duN quArreL tT OFfEn liaOz.. isNt it?! ANd EvEN if yA quArrEL.. i wuN bE iN it... iTz nOt me ANimorE.... ANd iM gLaD... i gUess... this fEw mOnth arENt A gOod mOnth fOr EvErybOdy bAhz.. i gOt tOns Of frENz.. hAviNg prOb... sAMe As me... haIz.. wAd TO do?? lifE ish likE tt.. If oNli.. EvErythiNg cAN bE FOrgOttEN... but.. whEN EvErythiNg ish FOrgOttEN ler... u bEcOmE sOmEOne withOut mEmOry.. aNd by dEN..hOw u wisH u hAvE DA meMOry... aNd u will stArt sEarChiNg FOr tT mEmOry AgAin aNd gEt hUrt AGain.. i gUeSs... ALL thE thiNgs tT hAppeN TO us.. arE meANt to bE this wAe... sO.. fOrgEttiNg dOeSNt heLp... ish hOw u OvErcOmE thE prOb.. hOw u uNdeRstAnd thE prob.. aNd hOw u sOlvE it... tRyiNg tO aCt as if nOthiN HappeN Ish hArd.. tryiNg tO fOrgEt itz haRd.. EvErythiNg neEd tiMe.. aNd tiMe ish thE Onli thiNg tT heLp us sOlvE EvErythiNg bAhz... tOdAe veri siaN aNd tirEd... nOthiNg muCh tO dOz.... wOrk aNd wOrkz... sO bOriNg.. but luCky gOt wAye wAye.. loL.z. aNd shu siaNz.. tT tOmbOy.. bwAhhaa... mAkE wOrkiNg sO fuNz... fANg GOng liaOz... FOr thE 1st tiMe.. thEy earLiEr dEN me.. dEN thEy wAit fOr mE... tOOk mrT dEN gO hoMe liaOz... tOmoro finaLLy Off ler.. cAN haO haO dE shui dAO baOz... prOvidEd my marmA duN naG lar.. kEke... Kk... gO do my thiNg lEr.... hErE GOeS mY lOvE pOeM~...   Su Ting Zhi Zi Nei Xin De Sheng Ying, Liao Jie Dui Fang Zhen Zheng De Gan Jue   Ai De Jie Zhou, Yao Kao Shuang Fang Gong Tong Tiao Zheng, Yi Qi Chang Wo..      \n"
          ]
        },
        {
          "output_type": "display_data",
          "data": {
            "text/plain": "<IPython.core.display.Image object>",
            "text/html": "<img src=\"https://imgflip.com/s/meme/Yall-Got-Any-More-Of-That.jpg\" width=\"250\" height=\"250\"/>"
          },
          "metadata": {}
        },
        {
          "output_type": "stream",
          "name": "stdout",
          "text": [
            "       hAiz.. i juz duNch understANd.... why all My frEn keEp quarrELing... frOm peArL.. till My wOrkplaCe dE... yVOnnE.. wAyE wAye.. aNd eLiZabEth... hAiz... im aLwAys fOrce to bE in thE CentEr.. and chOosEz... sI bEi siaNz... sO mAyb i gUess... aLone ish bEttA bAhz... tOdAE fridAE... sALeS likE shit.. zEro ZEro zEro.... siaN sia... why nO saLeS dE... hMph..... wOrk wOrk wOrk.. vEri tirEd.. tOmoro sAtUrdAe.. hOpE tOmoro saLeS will bE vEri gOod.... tOdAe siNg sOng to yAO zhOng... LOlz... On dA fOne with mE fOr abOut... 3 hr?? pOwEr sia..~~ kEke... vEri tirEd tOdaez... Ermz... duNno wAd tO writE neHz.... cOz nOw still oN dA fOne... haHaz... Will bE baCk AgAinz... hErE gOeS mY lOvE pOemz...  Fu Chu Quan Bu De Zhen Xin,    He Bao You Ge Ren De Gong Jian..   Shi Ai Qing De Liang Nan,   Wei You Zhen Xin Ai Guo Yi Hou   Cai Hui Fa Qian, Shuo Wei De Zhen Xin..   Bao Kuo Liu Gei Dui Fang Ge Ren De Kong Jian,   Dan Dui Fang Ye Bi Xu Shi Zhi De Xing Ren De Ren..          \n"
          ]
        },
        {
          "output_type": "display_data",
          "data": {
            "text/plain": "<IPython.core.display.Image object>",
            "text/html": "<img src=\"https://imgflip.com/s/meme/Yall-Got-Any-More-Of-That.jpg\" width=\"250\" height=\"250\"/>"
          },
          "metadata": {}
        },
        {
          "output_type": "stream",
          "name": "stdout",
          "text": [
            "        hAiz... tOdAe wAkE up heAdaChE aGainz.. wAkE up LaTe.. weNt tO wOrk laTe... kENa puNch by thE maNiquEen sOmeMore.. daMn swAy siA... dENz weNT tO buy fOod with wAy wAy... eAt Ljs.. dEn thE maNagEr niaO likE shit... givE 2 paCkEt chilli nIa.. wheN i buy 2 juniOr... kNs.. dEN wENt baCk.. waN tO eAt... aNd wheN i opEN it.. fArking sPoiL mOod.... thE fIsh aND chiCkeN.. likE 2 dAe agO de... sOo coLd.. sOo coLd... givE Up eAting.. weNt tO sMokE WIth YvOnnE... dEN tOk cOck.. weNt baCk tO wOrk... No sALeS tOdAe.. heErEN sOo dA quiEt.. likE ghOsT tOWn.. sI bEI siaNz... aT nitE.. weNt tO buy fOod with yvOnNe... eAt meE rObus.. wHO knOW.. thE meE rObus sOoo hOt!! chiLLi put sOOo muCh... saMbal chilli.. rEd chiLLi.. grEen chilli.. all dA chilli thrOw iNsidE.. givE up eAting aLsOz... haIz... tOdAe i fiNally pLuck up mY cOurAgE tO msg peArL... aNd shE fOrgivE me.. but thE cOnditioN ish.. cANnt hAvE aNi cOntACt with gary.. i aCcEptEd it...weLL.. i havE tO mAkE A chOicE AftEr aLL.. iN dA eNd... siaN 1/2... aT leAst... thiNgs gEttiN bEtTEr... thOugH my sALes gEtting LOusiEr aNd lOusiEr... dAMn siaN aNd tirEd tOdAe.. hAIz... wENt hOme WaTCh vCd.. nOW wAiting fOr my mAMa tO rEtUrn HOme.. sO latE leR.. still duN wAN tO Cum HOme.. HMph... siaN Ar!! bOrEd AR!! fArkiNg hp biLl aLsO cuM $450... pOwEr siA.. duNch EvEN knOw hOw i usE aLsO.. loL~... NExt mOntH pAy.. haLf gOne~~~ LuCky maRmA duNno.. if nOt i diE no oNe bury... kkaE.. gO COntinuE WAtCh my VCd liaOz.. =P~ hErE's tOdAe lOvE pOemz...     Ai Qing Lai De Shi Hou, Wei Le Qu Tuo Dui Fang..Lian Ren Men Chang Qian Fang Bai Ji Gai Bian Zhi Zi..Shen Zhi Wei Qu Qiu Quan.. Zhi Dao Ai Qing Zou Le, Cai Fa Sian Shen Ming De Yi Qie You Te Jia Bei De Nu Li Cai Nen Zhao Hui Zhi Wo...       hAiz... MAyb mAyb... vEri Hard.. tO fiNd yAseLf baCkz... whEn u fAll Out Of lOvE... Out Of A sudDen.. sUddeNLy.. misS my Ex sO muChz.. wHy dId hE hAvE tO dO tt tO me??!?! WhErE hAvE i dOnE wrOng?!?!! ArgHhHhH!!!!! I HATE U!!!! U BLOOdy ANDY LIM!       \n"
          ]
        },
        {
          "output_type": "display_data",
          "data": {
            "text/plain": "<IPython.core.display.Image object>",
            "text/html": "<img src=\"https://imgflip.com/s/meme/Yall-Got-Any-More-Of-That.jpg\" width=\"250\" height=\"250\"/>"
          },
          "metadata": {}
        },
        {
          "output_type": "stream",
          "name": "stdout",
          "text": [
            "        tOdAe wAs a vEri vEri sAd aNd sHag dae fOr me.. whEn i wOke up tOdAe.. as i stArEd intO My hp.. wAiting fOr sMs tt will nEvA cuM frOm dA pErsOn i wish... i feLt sO loNeLy.. i feLt sO sAd... i feLt sO strAnge... sO straNge... deN i wEnt to wOrk.. feeLing sO strANgE sO strANge aGain.. reAch My wOrkpLaCe... i brOkE dOwn.. aNd i tHaNks yvOnnE.. wAye wAye aNd ELizAbEth... fOr beiNg derE fOr me... tOking tO mE aNd cOnforting mE... i feLt rEalli tOuChed.. rEalli reALli tOuChed.. but u aLL duNno... hOw much tT frenship meAnt to mE... no mattEr hOw muCh hOw muCh... i cOmplain AbOut thE frEnship... i juz duN wAn to LOse it.. aNd lOsinG it isNt My wIsh... i rEalli duN wANz.... if i wAN it this wAe.. i hAvE eNded it loNg aGO... aNd if i hAd EndEd it lOng aGO.., i wuN bE feeLing sO paiN sO hurt nOw.. by wAd i hAve dOne... tO MyseLf... aNd tO MY frENz... Of cOz.. i cANt Ask hEr tO aCcEpt mE As A frEn nOw... bUt i reAlli hOpe.. OnE dAe... wheN thE tiMe ish ritE fOr hEr.. shE will sMs mE.. aNd ask mE tO bE hEr frEn aGain.. i rEalli hOpE Tt dAE will cuM... mAyb a mOnth.. A yEar... i duN miNd... iM sO tirEd.. abOut thiNgs i hAvE dOnE tO MysELf... but beCOz of mE... CaRiNg And wAnting this frENship sO much.. i hAvE fOrGOttEn... whO i aM... aNd whEreS My sTAnd.. i turN tO bEcOmE A sELfish heArtleSs pErsOn... i reALli hOpE i caN fiNd baCk... myseLf... and bEfOre i caN find baCk mysELf.. i wuN Ask fOr FOrgivEnEss fROm hEr.. aNd hEr frENz.. uNtil iM surE.. i wuN hurt hEr Again.. aNd until shEs surE shE cAN trusT mE aGain.. i tiNk.. itz beSt tt wE duN cOntACt fOr soMe tiMe... mAyb its thE beSt sOlutioN ler.. but i stil hOpE fOr ya forgivEneSs iN tiMe tO cuM.. mY heArt juz duN liNk with My Mouth.. wAd My heArt ish tiNking aNd wAd my heArt ish sAying ish aLwAys not thE sAMe.. i duNno wHy... aNd wheN MY heArt ANd mOuth lInk... Itz juz mAkE mattEr wOrsE... i duNno... thaNks yvOnnE fOr aCcOmpANyiNg mE tOdAe aFtEr wOrk... thaNk u.. Lucky.. iM wOrkinG.. if nOt... i rEalli will gO mad aNd cRazy.. this frENship meANt juz SO much tO mE... tO dEM tOo i gUess.. but i did mAny thiNgs tT hurt hEr sO muCh sO muChz.. iM sOrri.. iM rEalli sOrry., peArLyN... and i knOw sAying sOrry wuN hELp.. BUt tts thE onli thiNg i cAN sAe nOw... i yeaRn tO bE ur fren aGain.. i duNno wADs iN mE.. i rEAlli duNno... aNd i knOw.. i duNno duNch hELp At aLL... but i rEalli duNno wAD tO saE ler...   SOmEonE whOm usEd to haTE My wOrkplaCe... i gUess iM begiNninG tO likE it ALot aLot... aNd iM gLad to fOuNd this jOb.. thaNks pANsy thE mANagEr fOr heLpinG me ALl aLong.. thaNks Mrs LOe for giviNg mE aNothER cHaNce.. thaNks LiLiaN fOr uNderStAnding mE aNd thaNks cAthEriNe fOr CALLing mE dAe aNd nitE to mAkE surE iM OkaE... thaNks EvErYOne.. but i guEss.. i duNch DEsErvE sO muCh.. cOz iM juz A liar.. a liAr ANd A baCkstAbber... whY havE i bEcOmE likE tT??!! wHy.. i hAtE myseLf sO muCh sO muCh... sO bEfOrE i fiNd myseLf baCk.. i gUess.. i prObAbLy.. wuN wAN ANi NeW frENz... aNd nO matTer hOw mAni nEw frENz iM gOnnA hAvE in dA futUre... thEy cAnt wiN thE stAnd pEarLyN hAd iN MY heArt... weLL.. thAts aBOut all dA cRapz.. hAiz...    Ai Qing De Chang Duan, He Xing Fu Wu Kuan   Xiang Ai De Shuang Fang, Cai Shi Xing Fu De Kuan Jian   Zi Shi De Ren, Wu Fa Sheng Chang Ai De Shi Jian   Wu Shi De Ren, Jiu Suan Wu Fa Yong You Yong Hen De Ai Lian   Dan Zhi Shao Bao Liu De Zhi wO...    mAybE cOz iM sO sELfIsh.. i lOst EvEryOne.. ANd tt wHy.. i lOST mYsELf... hAd i nOt beEn sO seLfish.. aT lEast... i will manAgE tO baO Liu Zhi wO bAh.... hAiz.. EvErythiNg ish tOo latE.. tOo laTe ler....       \n"
          ]
        },
        {
          "output_type": "display_data",
          "data": {
            "text/plain": "<IPython.core.display.Image object>",
            "text/html": "<img src=\"https://imgflip.com/s/meme/Yall-Got-Any-More-Of-That.jpg\" width=\"250\" height=\"250\"/>"
          },
          "metadata": {}
        },
        {
          "output_type": "stream",
          "name": "stdout",
          "text": [
            "       haHahaha... wAd a joKe i hAd tOdAez... LOl.. i cANt beLiEve it maNz... but dENz.. i knOw wAd thEy meANz... becOz.. iM A fArkEr myseLf.. aNd i knOw it lOng loNg aGOz.. i knOw tT iM A greAt liaRz... vEri gOod At lyiNg... ANd nO oNe trUstEd mE.. weLL.. tTs SOmeThiNg i cANt chaNgEz.... duEd tO My lyiNg.. i hAvE lOsT tOn Of frENz... frOm OnE batCh tO aNothEr... ANd i rEckOn.. b4 i knOw hOw to sTOp tELling lies... i wuN wAN animOrE frEN in My lifE.. cOz i knOw i will lOsE dEM... but i trULy thaNks this 3 frEN Of miNe.. fOr pLanin thiS jokE fOr Me.. if nOt... i wOuLdNt rEaLIse... wAd is hAppeNinG tO mE.. i knOw, i chaNgE aLot.. aLot... i duNno wHy... bUt mAyb tO me.. ish cOz Of hEr.. carE Lots Of hOW shE tiNk Of mE eTC eTc... sO aLwAys Ask ask Ask gAry abOut it... ANd nEvA tink Of thE cOnsEqueNcEs At aLLz.. tT peaRL will b jeALous... sO loNg GAry cAN givE Me a ANswEr abOut wAd iM askiNgz... iM hAppy eNougH.. aNd wuN tink sO mucHz .. but wELLz... Add up tO all.. iM juz beiNg seLfisH oNli.. sO cuM On.. whOs nOt seLfIsh at aLL?? ren bu wei zi, tiaN zhu di mia bAhz.... iN mE.. i oNli tink tT.. sO loNg i duN LOse dEmz... nOthin eLsE matTer.. but by thiNking this wAe... i hAvE hurT dEM oNe by oNe... aNd hAd it not happeN tODAe.. i wOuLdNt EvEn rEaLise... nAn dAO tAi Ai yi gE rEn... ish wrOng?? weLL.. iTz nOt..  but lOvinG thE persOn in A wROng wAy.. iTz wrOng.. loL~!!~ tT why i sAe... duN trEasurE tOo much tO thOsE bEsidE u... COz u gOnnA lOsE ALL At oNcE oNcE u hAvE trEasurE thE wrOng wAe... up to this pOint.. frEnship hAD tO eNd.. trusTing sOmEonE ish nOt eAsy.. aNd i hAd brOkE My trUst.. Tts wHy i sAE nOthiN caN heLp... i rEali trEAsure this frENship sO muCh.. i aLwAys duN miNd fiNding MonEy.. tO go out On fridAe Nite... aNd sAturdAe nitE.. tO mE.. i tiNk itz abOut lEttin dEM ENjOy.. but to dEm.. ish sUppOsiNgLy.. thEy ArE aCcOmpaNyiNg mE... Isnt it?? bEcOz without me.. lifE gOeS oN in dEMz.. SAMe TO me.. i duNno wAd iM fEeLiNg nOw.. wAd do i wANz?? i duNno ALsOz... i know i duno dun hELp.. but tTs Wad i cAn sAe... i reali reali FeeL likE eNding My lifE.. why ish My chArACtEr likE tt??? wHy do i likE tO liE sO muCh?? i liEd n liEd.. lieD aNd liEd... if i cOntinuE with My lifE.. Mayb i will hurt EvEn morE ppL by lyiNg EvEn morE... i dunno.. i duNno.. but dying dOesNt sOlvE thE prOb... dEn wAd CAn i dO?!?! i ALrEAdy lOsE dEmz.. And wAd A jokE ish.. My lovE fOr Ed ish likE A jokE.. LOl.. mAyb itz ish bAhz.. duNCh eVen knOw wAd im DOing aLso... gEttiNg mOrE n morE cRazy... Mayb i shud cAll wOodbrigdE.. eVen as iM writinG this.. i cAn tELl u.. i duNch EvEn knOw wAd iM writiNg... duNCh evEn know wAd iM fEeLing.. Aiya.. fOrgEt it fOrgEt it... juz fOrgEt EvErythiNgz.. im nOt trying tO lEt ppL pity mE.. but tTs reAlli wAd i feEL iN mE... but whO cAN uNderstAnd?? wHO cAN?!?! tELL mE... but i duNch evEn knOw wAd iN mE... i duN EvEn uNderstAnd.. wHO eLsE cAn?? itz aLwAys withiN mE.. A miNd aNd heArt tT dOeSNt beLong TO me... Itz aLwAys thErE and fOrEvA dEre... sO sicK ANd tirEd.. iM aLwAys lOsing sEnsE iN Wad iM dOing.. wHy ish My lifE aLwAys aLwAys sO uNusuaL frOm OthER?!?! Zzz.....     \n"
          ]
        },
        {
          "output_type": "display_data",
          "data": {
            "text/plain": "<IPython.core.display.Image object>",
            "text/html": "<img src=\"https://imgflip.com/s/meme/Yall-Got-Any-More-Of-That.jpg\" width=\"250\" height=\"250\"/>"
          },
          "metadata": {}
        },
        {
          "output_type": "stream",
          "name": "stdout",
          "text": [
            "       Ermz... haIz.. tOdAez vEri jiA lat.. heAd vEri vEri vEri vEri gidDy... but othEr dEn tt.. My miNd still wOrk weLLz.... hEaLtHy... Lolz... haiz.. tOdAEz At 1st cAn gO out with hErz dE.. sO hAppiz... 1st tiMe Ask hEr oUt... kEkez... wAiteD wAitEdz... bAthE .. dEn i rEcEivE a sMs frOm her.. tT.. plaN hAs tO bE cAncELz.... hAiz.. wAd to do?? usEd to it liaOz ler... nOt dA 1st tiMe anywAez.. but okaE lar.. cOz i manAgE tO chAT with hEr On dA fOnE tOdAE fOr 5 miN~ took ALl My cOuraGe tO cALL heR~~ bwAhhaa.. hAppi~~ loLz... somemore tOdAE heAd giddy.... Later gO out fAint OutsidE more jiA Lat.. haha... wAiting to Go sEe DoctOr at 6.30pm.. sO cUm hErE writE writE noNseNsEz.. mAyb thiNgs shud juz bE likE tTz... mAyb juz LEAvE things thE wAe it ish nOw... cOz fOr now.. shE wun fOrgEt hErz.... and she will nEva be miNez... For tt i beliEve... tHOugH shE aLwAys sEem iNtErstEd in mE.. i know.. dEep in hEr heArt.. shEs tinking Of her... aLl thE tinking aRe on hEr... nEvA On miNez.. bUt.. iM still hAppy tt.. shEs williNg tO bE My frENz nOrhz... haHaz.... i duN eXpeCt muCh on hEr... juz a fEw sms aNd fOnE Call will mAkE mE vEri vEri hAppy lErz... zhE yaNg jiu gOk ler... eNougH liao lEr.. but like veri hard on her leh.. duNno why..haiz.. erm.. My mother bitE hEr guMz... thE gum all bLOod... so pOor thing.. muz bE vEri veri paiNz... but she laff and saE.. scaRy mAr?! LOL~  my muM Look likE me sia.. aLwAys wAna mAkE surE tt ppL arOund hEr duNch gEt wOrry fOr hEr.. sO thErEs aLwAys sMile On hEr fAce.. but dEep dOwn.. whO knOw thE prObLeM shE fAcing? no oNe knOw.. sAMe As mOi.. LikE mOthEr likE dAugHtEr... kEkez..~~ kkaE.. eNd hEre ler.. well.. thErE goEs My 3rd lOvE pOeMz~~ Zhen Ai, Yin Gai Yong Xin Qu Zu Dong Zhen Qu.. Dan Shi Zai Zheng Shi Cai Qu Xing Dong Zhi Qian, Zui Hao Zhang Kai Yan Jing, Hua Xie Li xiNg De Shi Jian, Kan Kan Dui Fang Shi Fou Zhen De Shi Zhi De Ni Tuo Fu Zhen Xin De Dui Xiang...     \n"
          ]
        },
        {
          "output_type": "display_data",
          "data": {
            "text/plain": "<IPython.core.display.Image object>",
            "text/html": "<img src=\"https://imgflip.com/s/meme/Yall-Got-Any-More-Of-That.jpg\" width=\"250\" height=\"250\"/>"
          },
          "metadata": {}
        },
        {
          "output_type": "stream",
          "name": "stdout",
          "text": [
            "        urlLink    my fAvOurite cArtooN ChaRaCtEr~~ shOo cutE~&nbsp; urlLink       \n"
          ]
        },
        {
          "output_type": "display_data",
          "data": {
            "text/plain": "<IPython.core.display.Image object>",
            "text/html": "<img src=\"https://imgflip.com/s/meme/Blank-Nut-Button.jpg\" width=\"250\" height=\"250\"/>"
          },
          "metadata": {}
        },
        {
          "output_type": "stream",
          "name": "stdout",
          "text": [
            "        urlLink           \n"
          ]
        },
        {
          "output_type": "display_data",
          "data": {
            "text/plain": "<IPython.core.display.Image object>",
            "text/html": "<img src=\"https://imgflip.com/s/meme/Is-This-A-Pigeon.jpg\" width=\"250\" height=\"250\"/>"
          },
          "metadata": {}
        },
        {
          "output_type": "stream",
          "name": "stdout",
          "text": [
            "        hELo~ baCk aGainz.. haha... eRmz.. its beEn suCh a loNg loNg tiMe i feLt this wAez... to dA One i lovE leRz...reMeMbEring My 1st lOve.. wheNEver.. i sEe hiMz... i will gEt vEri sHy veri sHy ... den everytime hE wAnna tok to mez.. i will ruN likE i sEe A ghOst... loL~.. aCtuaLly cAn bE tOgethEr with My 1st lOvE dez.., but bcOz duEd to My shyneSs.. hE aCtuaLly thOugHt i hAtE hiMz.. Tt wHy eveRytimE hE tOk to mE.. i ruN awAyz... aNd saId tT hE likE me... but i duNch likE hiM~.. hAhaha... LaMe riteZ... sO in dA eNdz... On dA FONe.. we tOld eAach othEr Our fEeLing.. but when aGain n aGainz.. hE ask mE out.. aNd i rEject... cAMe up to mE tO TOk aNd i turN awAyz... hE gOt sO dAMn blOody pisS Off.... hE brOkE with me~..... sAd cAsE ritEz... hAiz... And nOw.. iM fACing thE saME thiNg tO dA gEr i likE nOwz.. loL~.. SEeiNg hEr makE mE sO sHyx... frOm a chAtty mE tO A speEchLeSs mE... hAha.. but i shALL nOt leT histOry rEpeAt itself.. i will jiA YOu jiA yOu..~!!! aNd shOw her.. hOw muCh i lOvE hEr aNd nOt hatE hEr!~!! bwAHahhaa..... still quitE pisSed off WIth my lOst bLog... fArking loNg leHz... dEn bu jiaN ler.. sAd sAd sAd..... =~~ k.. hErE gOeS mY sEcOnd lovE pOeMz... Ai Guo Yi Hou, Ru Guo Xiang Xing Shi Jian ZhoNg Zhong ZhoNg bi chENg koNg.. He Bi Zai Bu Neng Cheng Quan de Gan Jue Li.. Ji Jiao Shu YiNg?? FANG ShOu ZhU fU bAh!!~~!!!!       \n"
          ]
        },
        {
          "output_type": "display_data",
          "data": {
            "text/plain": "<IPython.core.display.Image object>",
            "text/html": "<img src=\"https://imgflip.com/s/meme/Yall-Got-Any-More-Of-That.jpg\" width=\"250\" height=\"250\"/>"
          },
          "metadata": {}
        },
        {
          "output_type": "stream",
          "name": "stdout",
          "text": [
            "        urlLink     urlLink    wELl... this ish da 2 years gUy... whom i toking aBOut.. if eva u sEe him on dA strEet... rEmembEr him as a basTard.. LOL~~~ =P~ juz joKiNg...     \n"
          ]
        },
        {
          "output_type": "display_data",
          "data": {
            "text/plain": "<IPython.core.display.Image object>",
            "text/html": "<img src=\"https://imgflip.com/s/meme/Yall-Got-Any-More-Of-That.jpg\" width=\"250\" height=\"250\"/>"
          },
          "metadata": {}
        },
        {
          "output_type": "stream",
          "name": "stdout",
          "text": [
            "       Ermz... baCk aGain.. haHaz... cOz tOo bOring lEr... (tOld u i hAvE no lifE ler..) loLz... *AHeM*.. AfTer a loNg vOmitiNg.. i fEeL bEttA... heAd nOt tt painfuL ler.. loLz~ =X juz heLp My frEN settLe hEr lOvE prOb... hAiz.. shE was cRyiNg like heLl... wAd cAN i do?? caNt evEN sEttLe my Own lOve prob ler.. leT ALone hErs... and i neva love settling ppL love prob.. coz in da end.. i always get the farking BLame... tO it... haO xiN mei hao bao .... siaNz 1/2... iTz aLwAys mE heLping tO solve ppL prOb.. but nO one EvA wANna sOlvE miNez... bUt nOrmaLLy.. fOr a chEerfuL gEr likE mE tO hAvE prOb.. tT prOb muz bE rEaL sEriOus.. tO mAke me stOp sMiLing.. kEke.. aNd after a long thinking.. i realise something.. tt i treasure my frenz too much ler... soo much soo tt itz making everyone suffer... so i reckon.. the next batch of fren im gonna have.. i will neva be serious in da frenship.. i will neva go treasure a frenship anymore.. coz wad happen this past few dae.. make me realise.. the more i dun wanna lose dem.. the more i will lose dem... hAiz... why like tt ?? why ish it always like tt?? the more we treasure something.. the more the faster we wil lose dem... den i realise.. might as well everything also dun treasure.. den i wun lose anithing ler... good idea rite?? haha... no commitment de, no respondsibility de... frenship/relationship.. ish the best way bah.. make ourself happy too.. coz theres no commitment in da frenship.. i can juz leave my frenz anitime i wan.. no commitment de relationship ish even easier.. hAppi hAppi sMs cAll hEr.. wheN i like it.. nOt happi.. heCk carE hEr laRz.... i dun have a respondsibility aniwae.. LOlz... greAt tiNking rite?? this way.. i wun feel so vex and sad liaoz norh.... mayb i shud realli change myself... reali realli shud change myself ler... but aniwae.. im used to it.. so far... all my ex..leave me becoz of another gEr.. wad to do?? coz im not a good person... coz i love dem too much..coz i treasure dem too much.. coz i care too much for dem.. so tts the payback i shud get... for being too good..?? LOLz.... mei you ban fa lar.. life mahz.. foreva like tt dEz.... wAd to do.. lifE goeS on.. tHOuGht of all the wae to die.. but in the end..?? im still here writing this blog.. haha.. LaMe rite?? zZz.. sO for the one whom i love now.. i dun tink i will be able to win his heart.. so juz let things happen the way it shud happen bAhz... to me.. i know.. i neva have da chance to be with her.. but im contented by one small sms by her... keke.. kan lame.. kan lame.. i know i know.. =X but den hor... im someone easily contented mAhz.. wAd tO do?? =X... aLl i wAn nOw ish sOmething onli god can give me.. to make sure all my fren are happy... and i hope god can give me the power to do so...(well, i know.. in my dream).. haha... but if onli(theres goes my if only aGaiN) all my fren are happy.. then how great it will be...aNd.. thE PowEr to knOw wAd she ish tinking.. wAds realli on her miNd!! if i rEAlli had the poweR fOr this... i teL u.. i will rEalli bE cOntENtEd... Life will be more meaningful?? loLz.. Exggratting sia.. but now.. onli she know wad she tinking.. or mayb.. she dun even know wad she tinking.. mayb tt why she cant even tell me wad shes tinking?? if onli she could tell me wads she tinking.. den i no need depend on god liaoz... how good it will bE.. wahha.. guess i tired liaoz.. keep dreaming of those ting tt will neva happen.. loLz.. kkae.. go sLeEp ler.. --thE eNd---hErEs GOeS my sEcOnd lovE pOeMz~~ dO leavE cOmmeNt if u dunno han yu pinyin.. =X Chuo Guo De Ai, Tong Chang Ye Shi Ai De Guo Chuo, Lian Ren Shui Chang Fan de Cuo, Shi Rang Ai Shi Heng.. You Xie Ren, YiN wei Tai Ai Tui fAng Er ShI qU Zhi zi..You Xie Ren.. Jue Ying wEi tAi Ai Zhi Zi Er zhi qU dUi fANg...     \n"
          ]
        },
        {
          "output_type": "display_data",
          "data": {
            "text/plain": "<IPython.core.display.Image object>",
            "text/html": "<img src=\"https://imgflip.com/s/meme/Yall-Got-Any-More-Of-That.jpg\" width=\"250\" height=\"250\"/>"
          },
          "metadata": {}
        },
        {
          "output_type": "stream",
          "name": "stdout",
          "text": [
            "        Erm.. 1st tiMe writing blogspot.. 1st time writin online dAiry.. hahha... sO mani things happen recently... and cant find anyone to talk to.. or mayb, i dun even feel like tokin about it bah.. wads more to sae.. when it had already happen? no more in explaining.. for tts wad i believe.... the more explanation.. the more u make things complicated... isnt it? i cant even know wad im feeling now.. ish it vex?? or is it sad... wad the diff anywae?? haha.. i realli wish those days wun be gone.. all the if only if only came to my mind... but if only i can if onli... and if only if only can help.. i wun be so vex... well.. im gettin myself blur liaOz.. *^_^*... i shall use work to take up all my time for now bah.. since having off dae also no use... might as well.. work everydae... todae my sales veri good... haha... sold lots of clothes... happy.. but dunno why.. head veri giddy... aRgh!! haiz... feeLing so vex liaoz.. why cant catherine(my collegue) juz leave me alone?? instead... keep telling me her prob... haiz.. i dun wanna knOw!!... how am i suppose to settle her prob for her when i cant even settle mine?? she neva neva understand... all she know ish ask me for help... hAiz.... lucky tomoro Off.. veri headache now.. so write till here...    well.. i will leave a poemz everytime i write my blogspot.. so if ya have ani comment about my poemz... do leave a msg...    dang ai qing jie ru shi, you yi de zhen jia li ke qin chu ke ban.. zhen zheng de hao peng you , shi bei len rou zhi hou, yi yuan yi zu fu ni.. zhen zheng de hao qing ren, shi dong de zhun zhong ni, yi ji ni he peng you zi jian de kuan c.... =)      \n"
          ]
        },
        {
          "output_type": "display_data",
          "data": {
            "text/plain": "<IPython.core.display.Image object>",
            "text/html": "<img src=\"https://imgflip.com/s/meme/Yall-Got-Any-More-Of-That.jpg\" width=\"250\" height=\"250\"/>"
          },
          "metadata": {}
        },
        {
          "output_type": "stream",
          "name": "stdout",
          "text": [
            "       ...you're the only person that i want holding me right now and the only person i never want touching me again.  I awoke tot he sound of someone falling, my heart raced as i closed my eyes to see who had fallen but i then realized it was i who had fallen, fallen back into reality, my room.         \n"
          ]
        },
        {
          "output_type": "display_data",
          "data": {
            "text/plain": "<IPython.core.display.Image object>",
            "text/html": "<img src=\"https://imgflip.com/s/meme/Bernie-I-Am-Once-Again-Asking-For-Your-Support.jpg\" width=\"250\" height=\"250\"/>"
          },
          "metadata": {}
        },
        {
          "output_type": "stream",
          "name": "stdout",
          "text": [
            "       This is the break in the bend, this is the closest of calls. This is the reason you're alone, this is the rise and fall.  If it makes you less sad, I will die by your hand, I hope you find out what you want, I already know what I am.           'Now I believe that lovers should be draped in flowers and laid          entwined together on a bed of clover and left there to sleep,          left there to dream of their happiness.' - Conor Oberst         \n"
          ]
        },
        {
          "output_type": "display_data",
          "data": {
            "text/plain": "<IPython.core.display.Image object>",
            "text/html": "<img src=\"https://imgflip.com/s/meme/Blank-Nut-Button.jpg\" width=\"250\" height=\"250\"/>"
          },
          "metadata": {}
        }
      ]
    }
  ]
}